{
 "cells": [
  {
   "cell_type": "markdown",
   "id": "assisted-oasis",
   "metadata": {},
   "source": [
    "## The \"liamometer\" linear regression of IMDB ratings part I: EDA\n",
    "\n",
    "--- \n",
    "\n",
    "### Notebook roadmap: \n",
    "    - Clean the dataset\n",
    "        - Read in data\n",
    "        - Handle null values\n",
    "        - Handle money strings\n",
    "\n",
    "---\n",
    "\n",
    "### Project summary: \n",
    "\n",
    "The liamometer is an interpretive model that asks the question: what if all viewers cared about were films from unknown international distributors? It serves as a hopeful vehicle for better representation in the movie industry. The project scraped data on thousands of movies from 2017-2020 and intends to capture the contemporary taste of viewers.\n",
    "\n",
    "View the liamometer: http://liamisaacs.com/liamometer"
   ]
  },
  {
   "cell_type": "code",
   "execution_count": 1,
   "id": "beautiful-stockholm",
   "metadata": {},
   "outputs": [],
   "source": [
    "import pandas as pd\n",
    "import missingno as mno"
   ]
  },
  {
   "cell_type": "markdown",
   "id": "outer-services",
   "metadata": {},
   "source": [
    "---\n",
    "\n",
    "Read in data \n",
    "\n",
    "---"
   ]
  },
  {
   "cell_type": "code",
   "execution_count": 4,
   "id": "synthetic-mandate",
   "metadata": {},
   "outputs": [
    {
     "data": {
      "text/html": [
       "<div>\n",
       "<style scoped>\n",
       "    .dataframe tbody tr th:only-of-type {\n",
       "        vertical-align: middle;\n",
       "    }\n",
       "\n",
       "    .dataframe tbody tr th {\n",
       "        vertical-align: top;\n",
       "    }\n",
       "\n",
       "    .dataframe thead th {\n",
       "        text-align: right;\n",
       "    }\n",
       "</style>\n",
       "<table border=\"1\" class=\"dataframe\">\n",
       "  <thead>\n",
       "    <tr style=\"text-align: right;\">\n",
       "      <th></th>\n",
       "      <th>mojo_title</th>\n",
       "      <th>domestic_revenue</th>\n",
       "      <th>international_revenue</th>\n",
       "      <th>world_revenue</th>\n",
       "      <th>distributor</th>\n",
       "      <th>opening_revenue</th>\n",
       "      <th>opening_theaters</th>\n",
       "      <th>budget</th>\n",
       "      <th>MPAA</th>\n",
       "      <th>genres</th>\n",
       "      <th>release_days</th>\n",
       "    </tr>\n",
       "  </thead>\n",
       "  <tbody>\n",
       "    <tr>\n",
       "      <th>0</th>\n",
       "      <td>Made in France</td>\n",
       "      <td>$9,956</td>\n",
       "      <td>NaN</td>\n",
       "      <td>$9,956</td>\n",
       "      <td>Under The Milky Way</td>\n",
       "      <td>$3,688</td>\n",
       "      <td>2 theaters</td>\n",
       "      <td>NaN</td>\n",
       "      <td>NaN</td>\n",
       "      <td>Crime, Drama, Thriller</td>\n",
       "      <td>Sep 23, 2016</td>\n",
       "    </tr>\n",
       "  </tbody>\n",
       "</table>\n",
       "</div>"
      ],
      "text/plain": [
       "       mojo_title domestic_revenue international_revenue world_revenue  \\\n",
       "0  Made in France           $9,956                   NaN        $9,956   \n",
       "\n",
       "           distributor opening_revenue opening_theaters budget MPAA  \\\n",
       "0  Under The Milky Way          $3,688       2 theaters    NaN  NaN   \n",
       "\n",
       "                   genres  release_days  \n",
       "0  Crime, Drama, Thriller  Sep 23, 2016  "
      ]
     },
     "execution_count": 4,
     "metadata": {},
     "output_type": "execute_result"
    }
   ],
   "source": [
    "#Mojo = BoxOfficeMojo 2017-2020 data, tutorial available here: https://yeqiuu.medium.com/tutorial-scraping-boxofficemojo-with-scrapy-299e7b35254e\n",
    "mojo = pd.read_csv('data/mojo.csv')\n",
    "#IMDB = IMDB data for all movies in Mojo\n",
    "imdb = pd.read_csv('data/imdb.csv')\n",
    "\n",
    "#Setting indexes for proper merging later\n",
    "\n",
    "imdb.set_index(['mojo_title'])\n",
    "mojo.set_index(['mojo_title'])\n",
    "\n",
    "mojo.head(1)"
   ]
  },
  {
   "cell_type": "code",
   "execution_count": 5,
   "id": "baking-relevance",
   "metadata": {},
   "outputs": [
    {
     "name": "stdout",
     "output_type": "stream",
     "text": [
      "We will use BoxOfficeMojo combined with IMDB data for our linear regerssion model.\n",
      "There are  3659 movies, and  15 features.\n"
     ]
    }
   ],
   "source": [
    "df = mojo.merge(imdb, on='mojo_title', how='left')\n",
    "print('We will use BoxOfficeMojo combined with IMDB data for our linear regerssion model.')\n",
    "print('There are ', df.shape[0], 'movies, and ', df.shape[1], 'features.')"
   ]
  },
  {
   "cell_type": "markdown",
   "id": "engaging-liverpool",
   "metadata": {},
   "source": [
    "----\n",
    "\n",
    "### Handle nulls \n",
    "\n",
    "Budget is way too spotty. Other information like MPAA rating is not useful for our motivation for the project.\n",
    "\n",
    "---"
   ]
  },
  {
   "cell_type": "code",
   "execution_count": 6,
   "id": "maritime-nursing",
   "metadata": {},
   "outputs": [],
   "source": [
    "df.drop(columns=['budget', 'MPAA', 'imdbpicture', 'imdbcount', 'imdb_metacritic', 'release_days', 'opening_theaters'], inplace=True)\n",
    "df = df.dropna(subset=['imdbscore'])"
   ]
  },
  {
   "cell_type": "code",
   "execution_count": 9,
   "id": "owned-legend",
   "metadata": {},
   "outputs": [
    {
     "data": {
      "text/plain": [
       "<matplotlib.axes._subplots.AxesSubplot at 0x7fa8d3095280>"
      ]
     },
     "execution_count": 9,
     "metadata": {},
     "output_type": "execute_result"
    },
    {
     "data": {
      "image/png": "[encoded data removed]",
      "text/plain": [
       "<Figure size 720x432 with 2 Axes>"
      ]
     },
     "metadata": {
      "needs_background": "light"
     },
     "output_type": "display_data"
    }
   ],
   "source": [
    "#white = missing\n",
    "mno.matrix(df, figsize = (10, 6))"
   ]
  },
  {
   "cell_type": "markdown",
   "id": "complete-approach",
   "metadata": {},
   "source": [
    "----\n",
    "\n",
    "### Handle money strings \n",
    "\n",
    "Change \"$2,000\" to 2000\n",
    "\n",
    "---"
   ]
  },
  {
   "cell_type": "code",
   "execution_count": 10,
   "id": "decent-devices",
   "metadata": {},
   "outputs": [],
   "source": [
    "# turn $2,000 into 2000\n",
    "\n",
    "# money = ['domestic_revenue', 'international_reveneue', 'world_revenue', 'opening_revenue']\n",
    "# for i in range(0, len(money)):\n",
    "#     df[money[i]] = df[money[i]].replace(',', '')\n",
    "#     df[money[i]] = df[money[i]].replace('$', '')\n",
    "#     df[money[i]] = pd.to_numeric(df[money[i]])\n",
    "\n",
    "df['domestic_revenue'] = df['domestic_revenue'].str.replace(',', '')\n",
    "df['domestic_revenue'] = df['domestic_revenue'].str.replace('$', '')\n",
    "df['domestic_revenue'] = pd.to_numeric(df['domestic_revenue'])\n",
    "df['international_revenue'] = df['international_revenue'].str.replace(',', '')\n",
    "df['international_revenue'] = df['international_revenue'].str.replace('$', '')\n",
    "df['international_revenue'] = pd.to_numeric(df['international_revenue'])\n",
    "df['world_revenue'] = df['world_revenue'].str.replace(',', '')\n",
    "df['world_revenue'] = df['world_revenue'].str.replace('$', '')\n",
    "df['world_revenue'] = pd.to_numeric(df['world_revenue'])\n",
    "df['opening_revenue'] = df['opening_revenue'].str.replace(',', '')\n",
    "df['opening_revenue'] = df['opening_revenue'].str.replace('$', '')\n",
    "df['opening_revenue'] = pd.to_numeric(df['opening_revenue'])"
   ]
  },
  {
   "cell_type": "code",
   "execution_count": 15,
   "id": "loose-fence",
   "metadata": {},
   "outputs": [],
   "source": [
    "#Condense to function\n",
    "def get_clean_data(mojo, imdb): \n",
    "    \n",
    "    mojo.set_index(['mojo_title'])\n",
    "    imdb.set_index(['mojo_title'])\n",
    "    \n",
    "    df = mojo.merge(imdb, on='mojo_title', how='left')\n",
    "    \n",
    "    df.drop(columns=['budget', 'MPAA', 'imdbpicture', 'imdbcount', 'imdb_metacritic', 'release_days', 'opening_theaters'], inplace=True)\n",
    "    df = df.dropna(subset=['imdbscore'])\n",
    "    \n",
    "    money_cols = ['domestic_revenue', 'international_revenue', 'world_revenue', 'opening_revenue']\n",
    "    \n",
    "    for i in money_cols: \n",
    "        df[i] = df[i].str.replace(',', '')\n",
    "        df[i] = df[i].str.replace('$', '')\n",
    "        df[i] = pd.to_numeric(df[i])\n",
    "    \n",
    "    return df\n",
    "\n",
    "df_new = get_clean_data(mojo, imdb)"
   ]
  },
  {
   "cell_type": "code",
   "execution_count": 17,
   "id": "superior-clerk",
   "metadata": {},
   "outputs": [
    {
     "data": {
      "text/html": [
       "<div>\n",
       "<style scoped>\n",
       "    .dataframe tbody tr th:only-of-type {\n",
       "        vertical-align: middle;\n",
       "    }\n",
       "\n",
       "    .dataframe tbody tr th {\n",
       "        vertical-align: top;\n",
       "    }\n",
       "\n",
       "    .dataframe thead th {\n",
       "        text-align: right;\n",
       "    }\n",
       "</style>\n",
       "<table border=\"1\" class=\"dataframe\">\n",
       "  <thead>\n",
       "    <tr style=\"text-align: right;\">\n",
       "      <th></th>\n",
       "      <th>mojo_title</th>\n",
       "      <th>domestic_revenue</th>\n",
       "      <th>international_revenue</th>\n",
       "      <th>world_revenue</th>\n",
       "      <th>distributor</th>\n",
       "      <th>opening_revenue</th>\n",
       "      <th>genres</th>\n",
       "      <th>imdbscore</th>\n",
       "    </tr>\n",
       "  </thead>\n",
       "  <tbody>\n",
       "    <tr>\n",
       "      <th>0</th>\n",
       "      <td>Made in France</td>\n",
       "      <td>9956</td>\n",
       "      <td>NaN</td>\n",
       "      <td>9956</td>\n",
       "      <td>Under The Milky Way</td>\n",
       "      <td>3688.0</td>\n",
       "      <td>Crime, Drama, Thriller</td>\n",
       "      <td>6.2</td>\n",
       "    </tr>\n",
       "    <tr>\n",
       "      <th>1</th>\n",
       "      <td>Realms</td>\n",
       "      <td>147</td>\n",
       "      <td>22296.0</td>\n",
       "      <td>22443</td>\n",
       "      <td>The Film Arcade</td>\n",
       "      <td>108.0</td>\n",
       "      <td>Horror, Mystery</td>\n",
       "      <td>5.5</td>\n",
       "    </tr>\n",
       "  </tbody>\n",
       "</table>\n",
       "</div>"
      ],
      "text/plain": [
       "       mojo_title  domestic_revenue  international_revenue  world_revenue  \\\n",
       "0  Made in France              9956                    NaN           9956   \n",
       "1          Realms               147                22296.0          22443   \n",
       "\n",
       "           distributor  opening_revenue                  genres imdbscore  \n",
       "0  Under The Milky Way           3688.0  Crime, Drama, Thriller       6.2  \n",
       "1      The Film Arcade            108.0         Horror, Mystery       5.5  "
      ]
     },
     "execution_count": 17,
     "metadata": {},
     "output_type": "execute_result"
    }
   ],
   "source": [
    "df_new.head(2)"
   ]
  }
 ],
 "metadata": {
  "kernelspec": {
   "display_name": "Python 3",
   "language": "python",
   "name": "python3"
  },
  "language_info": {
   "codemirror_mode": {
    "name": "ipython",
    "version": 3
   },
   "file_extension": ".py",
   "mimetype": "text/x-python",
   "name": "python",
   "nbconvert_exporter": "python",
   "pygments_lexer": "ipython3",
   "version": "3.8.5"
  }
 },
 "nbformat": 4,
 "nbformat_minor": 5
}
