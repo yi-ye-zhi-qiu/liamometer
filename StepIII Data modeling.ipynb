{
 "cells": [
  {
   "cell_type": "markdown",
   "id": "skilled-stomach",
   "metadata": {},
   "source": [
    "# liamometer modeling \n",
    "\n",
    "    - Completed EDA, data cleaning\n",
    "    - Made helper functions\n",
    "    \n",
    "    Now:\n",
    "    \n",
    "    - Run a series of feature engineering -> linear regression modeling (score on train and test) of:\n",
    "        - OHE of genre;\n",
    "        - OHE of genre ++ genre-genre interaction terms;\n",
    "        - OHE of genre ++ genre-genre interaction terms ++ OHE of distributor;\n",
    "        - Polynomial regression (deg=2) of OHE ofgenre ++ genre-genre interaction terms ++ OHE of distributor\n",
    "        \n",
    "    - Decide on model"
   ]
  },
  {
   "cell_type": "code",
   "execution_count": 1,
   "id": "judicial-pattern",
   "metadata": {},
   "outputs": [],
   "source": [
    "import pandas as pd\n",
    "import numpy as np\n",
    "from sklearn.model_selection import train_test_split\n",
    "from sklearn.linear_model import LinearRegression, Lasso, LassoCV, Ridge, RidgeCV\n",
    "\n",
    "from sklearn import preprocessing\n",
    "from sklearn.preprocessing import PolynomialFeatures\n",
    "\n",
    "from prettytable import PrettyTable"
   ]
  },
  {
   "cell_type": "code",
   "execution_count": 2,
   "id": "judicial-pasta",
   "metadata": {},
   "outputs": [],
   "source": [
    "from functions import get_clean_data, one_hot_encode, create_interactions, mae, replace_, run_linear"
   ]
  },
  {
   "cell_type": "code",
   "execution_count": 3,
   "id": "vulnerable-intensity",
   "metadata": {},
   "outputs": [],
   "source": [
    "mojo = pd.read_csv('data/mojo.csv')\n",
    "imdb = pd.read_csv('data/imdb.csv')\n",
    "\n",
    "df = get_clean_data(mojo, imdb)"
   ]
  },
  {
   "cell_type": "code",
   "execution_count": 4,
   "id": "quantitative-feelings",
   "metadata": {},
   "outputs": [
    {
     "name": "stdout",
     "output_type": "stream",
     "text": [
      "Genre one hot encoded\n"
     ]
    },
    {
     "name": "stderr",
     "output_type": "stream",
     "text": [
      "/Users/liamisaacs/Desktop/github repositories/metis-project2/functions.py:51: SettingWithCopyWarning: \n",
      "A value is trying to be set on a copy of a slice from a DataFrame.\n",
      "Try using .loc[row_indexer,col_indexer] = value instead\n",
      "\n",
      "See the caveats in the documentation: https://pandas.pydata.org/pandas-docs/stable/user_guide/indexing.html#returning-a-view-versus-a-copy\n",
      "  df[option] = df[x].str.contains(option).astype('int')\n",
      "/Users/liamisaacs/opt/anaconda3/lib/python3.8/site-packages/pandas/core/frame.py:4167: SettingWithCopyWarning: \n",
      "A value is trying to be set on a copy of a slice from a DataFrame\n",
      "\n",
      "See the caveats in the documentation: https://pandas.pydata.org/pandas-docs/stable/user_guide/indexing.html#returning-a-view-versus-a-copy\n",
      "  return super().drop(\n"
     ]
    }
   ],
   "source": [
    "df = one_hot_encode('genres', df)\n",
    "print(\"Genre one hot encoded\")"
   ]
  },
  {
   "cell_type": "code",
   "execution_count": 5,
   "id": "looking-share",
   "metadata": {},
   "outputs": [],
   "source": [
    "#Train-test split\n",
    "X, y = df, df['imdbscore']\n",
    "y = pd.to_numeric(y)\n",
    "X.drop(columns=['imdbscore'], inplace=True)\n",
    "X['domestic_international_ratio'] = X['domestic_revenue'] / X['international_revenue']\n",
    "X['domestic_international_ratio'].fillna(value=0, inplace=True)\n",
    "X['opening_revenue'].fillna(value=0, inplace=True)\n",
    "\n",
    "#Division for ratio creates a float; opening revenue naturally is a float \n",
    "#We convert to integer like this\n",
    "for col in ['domestic_international_ratio', 'opening_revenue']:\n",
    "    X[col] = X[col].astype(int)\n",
    "\n",
    "X.drop(columns=['mojo_title', 'international_revenue', 'domestic_revenue'], inplace=True)\n",
    "\n",
    "# shift column 'Name' to first position\n",
    "first_column = X.pop('domestic_international_ratio')\n",
    "  \n",
    "# insert column using insert(position,column_name,\n",
    "# first_column) function\n",
    "X.insert(3, 'domestic_international_ratio', first_column)\n",
    "\n",
    "X_train, X_test, y_train, y_test = train_test_split(X, y, test_size=.2, random_state =10)"
   ]
  },
  {
   "cell_type": "markdown",
   "id": "julian-marketplace",
   "metadata": {},
   "source": [
    "### Baseline linear regression just on one-hot-encoded genre"
   ]
  },
  {
   "cell_type": "code",
   "execution_count": 6,
   "id": "severe-column",
   "metadata": {},
   "outputs": [
    {
     "name": "stdout",
     "output_type": "stream",
     "text": [
      "Running baseline linear regression while ignoring distributor, world_revenue...\n",
      "\n",
      "Train\n",
      "Linear regression val R^2: 0.094\n",
      "\n",
      "Test\n",
      "Linear regression val R^2: 0.173\n"
     ]
    }
   ],
   "source": [
    "print(\"Running baseline linear regression while ignoring distributor, world_revenue...\")\n",
    "X_TrainBaseline = X_train.iloc[:, 2:]\n",
    "X_TestBaseline = X_test.iloc[:, 2:]\n",
    "\n",
    "print(\"\\nTrain\")\n",
    "run_linear(X_TrainBaseline, y_train)\n",
    "\n",
    "print(\"\\nTest\")\n",
    "run_linear(X_TestBaseline, y_test)"
   ]
  },
  {
   "cell_type": "markdown",
   "id": "invisible-garage",
   "metadata": {},
   "source": [
    "### Baseline linear regression on OHE genre + interactions btwn genres"
   ]
  },
  {
   "cell_type": "code",
   "execution_count": 7,
   "id": "sought-challenge",
   "metadata": {},
   "outputs": [
    {
     "name": "stdout",
     "output_type": "stream",
     "text": [
      "Interactions between genres done\n"
     ]
    }
   ],
   "source": [
    "X_TrainBaselineInteractions = create_interactions(X_TrainBaseline)\n",
    "X_TestBaselineInteractions = create_interactions(X_TestBaseline)\n",
    "print(\"Interactions between genres done\")"
   ]
  },
  {
   "cell_type": "code",
   "execution_count": 8,
   "id": "accurate-begin",
   "metadata": {},
   "outputs": [
    {
     "name": "stdout",
     "output_type": "stream",
     "text": [
      "(2606, 304)\n",
      "(652, 304)\n"
     ]
    }
   ],
   "source": [
    "print(X_TrainBaselineInteractions.shape)\n",
    "print(X_TestBaselineInteractions.shape)"
   ]
  },
  {
   "cell_type": "code",
   "execution_count": 9,
   "id": "patent-change",
   "metadata": {},
   "outputs": [
    {
     "name": "stdout",
     "output_type": "stream",
     "text": [
      "Running baseline with interactions\n",
      "\n",
      "Train\n",
      "Linear regression val R^2: 0.174\n",
      "\n",
      "Test\n",
      "Linear regression val R^2: 0.274\n"
     ]
    }
   ],
   "source": [
    "print(\"Running baseline with interactions\")\n",
    "\"\"\"\n",
    "This is what 'run_linear' is doing:\n",
    "\n",
    "print(\"Scaling...\")\n",
    "scaler = preprocessing.StandardScaler()\n",
    "X_TrainBaselineInteractionsScaled = scaler.fit_transform(X_TrainBaselineInteractions)\n",
    "X_TestBaselineInteractionsScaled = scaler.fit_transform(X_TestBaselineInteractions)\n",
    "\n",
    "lm2 = LinearRegression()\n",
    "lm2.fit(X_TrainBaselineInteractionsScaled, y_train)\n",
    "print(f'Linear regression (TRAINING DATA) with genre-genre interaction terms val R^2: {lm2.score(X_TrainBaselineInteractionsScaled, y_train):.3f}')\n",
    "lm2.fit(X_TestBaselineInteractionsScaled, y_test)\n",
    "print(f'Linear regression (TEST DATA) with genre-genre interaction terms val R^2: {lm2.score(X_TestBaselineInteractionsScaled, y_test):.3f}')\n",
    "\"\"\"\n",
    "\n",
    "print(\"\\nTrain\")\n",
    "run_linear(X_TrainBaselineInteractions, y_train)\n",
    "\n",
    "print(\"\\nTest\")\n",
    "run_linear(X_TestBaselineInteractions, y_test)\n"
   ]
  },
  {
   "cell_type": "markdown",
   "id": "normal-certification",
   "metadata": {},
   "source": [
    "### Baseline linear reg + OHE genre + genre-genre interactions ++ OHE distributor"
   ]
  },
  {
   "cell_type": "code",
   "execution_count": 10,
   "id": "direct-professional",
   "metadata": {},
   "outputs": [
    {
     "name": "stdout",
     "output_type": "stream",
     "text": [
      "We cannot just merge back in interactions because the distributors in X_train and X_test are too different, so we have to re-do a train-test-split\n",
      "(2606, 50)\n",
      "(652, 50)\n"
     ]
    },
    {
     "name": "stderr",
     "output_type": "stream",
     "text": [
      "/Users/liamisaacs/Desktop/github repositories/metis-project2/functions.py:51: SettingWithCopyWarning: \n",
      "A value is trying to be set on a copy of a slice from a DataFrame.\n",
      "Try using .loc[row_indexer,col_indexer] = value instead\n",
      "\n",
      "See the caveats in the documentation: https://pandas.pydata.org/pandas-docs/stable/user_guide/indexing.html#returning-a-view-versus-a-copy\n",
      "  df[option] = df[x].str.contains(option).astype('int')\n",
      "/Users/liamisaacs/opt/anaconda3/lib/python3.8/site-packages/pandas/core/frame.py:4167: SettingWithCopyWarning: \n",
      "A value is trying to be set on a copy of a slice from a DataFrame\n",
      "\n",
      "See the caveats in the documentation: https://pandas.pydata.org/pandas-docs/stable/user_guide/indexing.html#returning-a-view-versus-a-copy\n",
      "  return super().drop(\n",
      "/Users/liamisaacs/opt/anaconda3/lib/python3.8/site-packages/pandas/core/strings.py:2001: UserWarning: This pattern has match groups. To actually get the groups, use str.extract.\n",
      "  return func(self, *args, **kwargs)\n"
     ]
    }
   ],
   "source": [
    "print(\"We cannot just merge back in interactions because the distributors in X_train and X_test are too different, so we have to re-do a train-test-split\")\n",
    "\n",
    "df = get_clean_data(mojo, imdb)\n",
    "df = one_hot_encode('genres', df)\n",
    "df = replace_(df, 'distributor', 40)\n",
    "df = one_hot_encode('distributor', df)\n",
    "\n",
    "#Train-test split\n",
    "X, y = df, df['imdbscore']\n",
    "y = pd.to_numeric(y)\n",
    "X.drop(columns=['imdbscore'], inplace=True)\n",
    "X['domestic_international_ratio'] = X['domestic_revenue'] / X['international_revenue']\n",
    "X['domestic_international_ratio'].fillna(value=0, inplace=True)\n",
    "X['opening_revenue'].fillna(value=0, inplace=True)\n",
    "#Division for ratio creates a float; opening revenue naturally is a float \n",
    "#We convert to integer like this\n",
    "for col in ['domestic_international_ratio', 'opening_revenue']:\n",
    "    X[col] = X[col].astype(int)\n",
    "X.drop(columns=['mojo_title', 'international_revenue', 'domestic_revenue'], inplace=True)\n",
    "# shift column 'Name' to first position\n",
    "first_column = X.pop('domestic_international_ratio')\n",
    "# insert column using insert(position,column_name,\n",
    "# first_column) function\n",
    "X.insert(3, 'domestic_international_ratio', first_column)\n",
    "\n",
    "X_train, X_test, y_train, y_test = train_test_split(X, y, test_size=.2, random_state =10)\n",
    "\n",
    "\"\"\"\n",
    "Old way\n",
    "\n",
    "#X_train = X_train.merge(X_TrainBaselineInteractions.iloc[:, 26:380], how='inner', left_index=True, right_index=True)\n",
    "#X_test = X_test.merge(X_TestBaselineInteractions.iloc[:, 26:380], how='inner', left_index=True, right_index=True)\n",
    "\n",
    "print(\"Replace distributors < 40 films over 4 years as 'Other'\")\n",
    "X_train = replace_(X_train, 'distributor', 40)\n",
    "X_test = replace_(X_test, 'distributor', 40)\n",
    "\n",
    "print(\"One hot encode distributor\")\n",
    "X_TrainBaselinev2 = one_hot_encode('distributor', X_train)\n",
    "X_TestBaselinev2 = one_hot_encode('distributor', X_test)\n",
    "print(\"Distributor is one-hot-encoded now too\")\n",
    "\"\"\"\n",
    "\n",
    "print(X_train.shape)\n",
    "print(X_test.shape)\n",
    "\n"
   ]
  },
  {
   "cell_type": "code",
   "execution_count": 11,
   "id": "behind-submission",
   "metadata": {},
   "outputs": [
    {
     "name": "stdout",
     "output_type": "stream",
     "text": [
      "Scaling data since data is sensitive to magnitude.. (world_revenue is in the millions, IMDB rating is 1-10)\n",
      "Linear regression (on TRAINING DATA) with genre-genre interaction terms AND OHE of distributor val R^2: 0.130\n",
      "Linear regression (on TEST DATA) with genre-genre interaction terms AND OHE of distributor val R^2: 0.227\n"
     ]
    }
   ],
   "source": [
    "print(\"Scaling data since data is sensitive to magnitude.. (world_revenue is in the millions, IMDB rating is 1-10)\")\n",
    "scaler = preprocessing.StandardScaler()\n",
    "X_TrainBaselinev2Scaled = scaler.fit_transform(X_train)\n",
    "X_TestBaselinev2Scaled = scaler.fit_transform(X_test)\n",
    "\n",
    "lm = LinearRegression()\n",
    "lm.fit(X_train, y_train)\n",
    "print(f'Linear regression (on TRAINING DATA) with genre-genre interaction terms AND OHE of distributor val R^2: {lm.score(X_train, y_train):.3f}')\n",
    "lm.fit(X_test, y_test)\n",
    "print(f'Linear regression (on TEST DATA) with genre-genre interaction terms AND OHE of distributor val R^2: {lm.score(X_test, y_test):.3f}')"
   ]
  },
  {
   "cell_type": "markdown",
   "id": "verified-samuel",
   "metadata": {},
   "source": [
    "### Polynomial (degree=2) regression on (baseline linear reg + OHE genre + genre-genre interafctions + OHE distributor)"
   ]
  },
  {
   "cell_type": "code",
   "execution_count": 12,
   "id": "modular-deposit",
   "metadata": {},
   "outputs": [
    {
     "name": "stdout",
     "output_type": "stream",
     "text": [
      "Currently cannot run polynomial regression due to CPU overload.\n"
     ]
    }
   ],
   "source": [
    "\"\"\"\n",
    "Currently cannot run polynomial regression due to CPU overload.\n",
    "\n",
    "#Feature transforms for train, val, and test so that we can run our poly model on each\n",
    "poly = PolynomialFeatures(degree=2, interaction_only = True)\n",
    "\n",
    "X_train_poly = poly.fit_transform(X_TrainBaselinev2.values)\n",
    "X_test_poly = poly.fit_transform(X_TestBaselinev2.values)\n",
    "\n",
    "lm_poly = LinearRegression()\n",
    "lm_poly.fit(X_train_poly, y_train)\n",
    "print(f'Degree 2 polynomial (TRAINING DATA) regression val R^2: {lm_poly.score(X_train_poly, y_train):.3f}')\n",
    "lm_poly.fit(X_test_poly, y_test)\n",
    "print(f'Degree 2 polynomial (TEST DATA) regression val R^2: {lm_poly.score(X_test_poly, y_test):.3f}')\n",
    "\"\"\"\n",
    "print(\"Currently cannot run polynomial regression due to CPU overload.\")"
   ]
  },
  {
   "cell_type": "code",
   "execution_count": 13,
   "id": "comparative-philip",
   "metadata": {},
   "outputs": [
    {
     "name": "stdout",
     "output_type": "stream",
     "text": [
      "+--------------------------------------------------------+--------+--------+\n",
      "|                         Model                          | Tr R^2 | Te R^2 |\n",
      "+--------------------------------------------------------+--------+--------+\n",
      "|                       OHE genre                        | 0.094  | 0.173  |\n",
      "|         OHE genre ++ genre-genre interactions          | 0.183  |  0.32  |\n",
      "| OHE genre + genre-genre interactions + OHE distributor |  0.13  | 0.227  |\n",
      "+--------------------------------------------------------+--------+--------+\n",
      "R^2 highest for last model, will use that model.\n"
     ]
    }
   ],
   "source": [
    "scores = PrettyTable()\n",
    "scores.field_names = [\"Model\", \"Tr R^2\", \"Te R^2\"]\n",
    "scores.add_row([\"OHE genre\", 0.094, 0.173])\n",
    "scores.add_row([\"OHE genre ++ genre-genre interactions\", 0.183, 0.320])\n",
    "scores.add_row([\"OHE genre + genre-genre interactions + OHE distributor\", 0.130, 0.227])\n",
    "print(scores)\n",
    "print(\"R^2 highest for last model, will use that model.\")"
   ]
  }
 ],
 "metadata": {
  "kernelspec": {
   "display_name": "Python 3",
   "language": "python",
   "name": "python3"
  },
  "language_info": {
   "codemirror_mode": {
    "name": "ipython",
    "version": 3
   },
   "file_extension": ".py",
   "mimetype": "text/x-python",
   "name": "python",
   "nbconvert_exporter": "python",
   "pygments_lexer": "ipython3",
   "version": "3.8.5"
  }
 },
 "nbformat": 4,
 "nbformat_minor": 5
}
