{
 "cells": [
  {
   "cell_type": "markdown",
   "id": "mighty-geology",
   "metadata": {},
   "source": [
    "# liamometer html \n",
    "\n",
    "    - Completed EDA, data cleaning\n",
    "    - Made helper functions\n",
    "    - Completed modeling/feature engineering\n",
    "    \n",
    "    Now:\n",
    "    \n",
    "    - Merge back in our predictions, along with movie images, back into a dataframe that we can use in our Flask web app"
   ]
  },
  {
   "cell_type": "code",
   "execution_count": 2,
   "id": "amateur-cassette",
   "metadata": {},
   "outputs": [],
   "source": [
    "import pandas as pd\n",
    "import numpy as np"
   ]
  },
  {
   "cell_type": "code",
   "execution_count": 11,
   "id": "black-truck",
   "metadata": {},
   "outputs": [],
   "source": [
    "movie_images = pd.read_csv('data/heirloom.csv')\n",
    "mojo = pd.read_csv('data/mojo.csv')\n",
    "imdb = pd.read_csv('data/imdb.csv')"
   ]
  },
  {
   "cell_type": "code",
   "execution_count": 12,
   "id": "coupled-committee",
   "metadata": {},
   "outputs": [],
   "source": [
    "from models.liamometer_helpers import give_html"
   ]
  },
  {
   "cell_type": "code",
   "execution_count": 13,
   "id": "conventional-draft",
   "metadata": {},
   "outputs": [
    {
     "name": "stderr",
     "output_type": "stream",
     "text": [
      "/Users/liamisaacs/Desktop/github repositories/metis-project2/models/liamometer_helpers.py:51: SettingWithCopyWarning: \n",
      "A value is trying to be set on a copy of a slice from a DataFrame.\n",
      "Try using .loc[row_indexer,col_indexer] = value instead\n",
      "\n",
      "See the caveats in the documentation: https://pandas.pydata.org/pandas-docs/stable/user_guide/indexing.html#returning-a-view-versus-a-copy\n",
      "  df[option] = df[x].str.contains(option).astype('int')\n",
      "/Users/liamisaacs/opt/anaconda3/lib/python3.8/site-packages/pandas/core/frame.py:4167: SettingWithCopyWarning: \n",
      "A value is trying to be set on a copy of a slice from a DataFrame\n",
      "\n",
      "See the caveats in the documentation: https://pandas.pydata.org/pandas-docs/stable/user_guide/indexing.html#returning-a-view-versus-a-copy\n",
      "  return super().drop(\n",
      "/Users/liamisaacs/Desktop/github repositories/metis-project2/models/liamometer_helpers.py:77: SettingWithCopyWarning: \n",
      "A value is trying to be set on a copy of a slice from a DataFrame.\n",
      "Try using .loc[row_indexer,col_indexer] = value instead\n",
      "\n",
      "See the caveats in the documentation: https://pandas.pydata.org/pandas-docs/stable/user_guide/indexing.html#returning-a-view-versus-a-copy\n",
      "  df[''.join(col)] = df[''.join(col)].replace(other, 'Other')\n",
      "/Users/liamisaacs/opt/anaconda3/lib/python3.8/site-packages/pandas/core/strings.py:2001: UserWarning: This pattern has match groups. To actually get the groups, use str.extract.\n",
      "  return func(self, *args, **kwargs)\n"
     ]
    }
   ],
   "source": [
    "html_ = give_html(mojo, imdb, movie_images)"
   ]
  },
  {
   "cell_type": "code",
   "execution_count": 14,
   "id": "existing-tonight",
   "metadata": {},
   "outputs": [
    {
     "data": {
      "text/html": [
       "<div>\n",
       "<style scoped>\n",
       "    .dataframe tbody tr th:only-of-type {\n",
       "        vertical-align: middle;\n",
       "    }\n",
       "\n",
       "    .dataframe tbody tr th {\n",
       "        vertical-align: top;\n",
       "    }\n",
       "\n",
       "    .dataframe thead th {\n",
       "        text-align: right;\n",
       "    }\n",
       "</style>\n",
       "<table border=\"1\" class=\"dataframe\">\n",
       "  <thead>\n",
       "    <tr style=\"text-align: right;\">\n",
       "      <th></th>\n",
       "      <th>mojo_title</th>\n",
       "      <th>domestic_revenue</th>\n",
       "      <th>international_revenue</th>\n",
       "      <th>world_revenue_x</th>\n",
       "      <th>distributor</th>\n",
       "      <th>opening_revenue_x</th>\n",
       "      <th>genres</th>\n",
       "      <th>imdbscore</th>\n",
       "      <th>world_revenue_y</th>\n",
       "      <th>opening_revenue_y</th>\n",
       "      <th>...</th>\n",
       "      <th>Paramount Pictures</th>\n",
       "      <th>Sony Pictures Classics</th>\n",
       "      <th>Sony Pictures Entertainment (SPE)</th>\n",
       "      <th>Twentieth Century Fox</th>\n",
       "      <th>Universal Pictures</th>\n",
       "      <th>Walt Disney Studios Motion Pictures</th>\n",
       "      <th>Warner Bros.</th>\n",
       "      <th>Well Go USA Entertainment</th>\n",
       "      <th>pred</th>\n",
       "      <th>tomato_image</th>\n",
       "    </tr>\n",
       "  </thead>\n",
       "  <tbody>\n",
       "    <tr>\n",
       "      <th>2020</th>\n",
       "      <td>Sunset Blvd.</td>\n",
       "      <td>299645</td>\n",
       "      <td>NaN</td>\n",
       "      <td>299645</td>\n",
       "      <td>Fathom Events</td>\n",
       "      <td>169067.0</td>\n",
       "      <td>Drama, Film-Noir</td>\n",
       "      <td>8.4</td>\n",
       "      <td>299645</td>\n",
       "      <td>169067</td>\n",
       "      <td>...</td>\n",
       "      <td>0</td>\n",
       "      <td>0</td>\n",
       "      <td>0</td>\n",
       "      <td>0</td>\n",
       "      <td>0</td>\n",
       "      <td>0</td>\n",
       "      <td>0</td>\n",
       "      <td>0</td>\n",
       "      <td>8.0</td>\n",
       "      <td>https://resizing.flixster.com/jASvWdyGN-hdWP61...</td>\n",
       "    </tr>\n",
       "    <tr>\n",
       "      <th>1382</th>\n",
       "      <td>The Lion King</td>\n",
       "      <td>543638043</td>\n",
       "      <td>1.113305e+09</td>\n",
       "      <td>1656943394</td>\n",
       "      <td>Walt Disney Studios Motion Pictures</td>\n",
       "      <td>191770759.0</td>\n",
       "      <td>Adventure, Animation, Drama, Family, Musical</td>\n",
       "      <td>6.9</td>\n",
       "      <td>1656943394</td>\n",
       "      <td>191770759</td>\n",
       "      <td>...</td>\n",
       "      <td>0</td>\n",
       "      <td>0</td>\n",
       "      <td>0</td>\n",
       "      <td>0</td>\n",
       "      <td>0</td>\n",
       "      <td>1</td>\n",
       "      <td>0</td>\n",
       "      <td>0</td>\n",
       "      <td>7.9</td>\n",
       "      <td>https://resizing.flixster.com/37nvjsHybtXd0q_A...</td>\n",
       "    </tr>\n",
       "  </tbody>\n",
       "</table>\n",
       "<p>2 rows × 60 columns</p>\n",
       "</div>"
      ],
      "text/plain": [
       "         mojo_title  domestic_revenue  international_revenue  world_revenue_x  \\\n",
       "2020   Sunset Blvd.            299645                    NaN           299645   \n",
       "1382  The Lion King         543638043           1.113305e+09       1656943394   \n",
       "\n",
       "                              distributor  opening_revenue_x  \\\n",
       "2020                        Fathom Events           169067.0   \n",
       "1382  Walt Disney Studios Motion Pictures        191770759.0   \n",
       "\n",
       "                                            genres imdbscore  world_revenue_y  \\\n",
       "2020                              Drama, Film-Noir       8.4           299645   \n",
       "1382  Adventure, Animation, Drama, Family, Musical       6.9       1656943394   \n",
       "\n",
       "      opening_revenue_y  ...  Paramount Pictures  Sony Pictures Classics  \\\n",
       "2020             169067  ...                   0                       0   \n",
       "1382          191770759  ...                   0                       0   \n",
       "\n",
       "      Sony Pictures Entertainment (SPE)  Twentieth Century Fox  \\\n",
       "2020                                  0                      0   \n",
       "1382                                  0                      0   \n",
       "\n",
       "      Universal Pictures  Walt Disney Studios Motion Pictures  Warner Bros.  \\\n",
       "2020                   0                                    0             0   \n",
       "1382                   0                                    1             0   \n",
       "\n",
       "      Well Go USA Entertainment  pred  \\\n",
       "2020                          0   8.0   \n",
       "1382                          0   7.9   \n",
       "\n",
       "                                           tomato_image  \n",
       "2020  https://resizing.flixster.com/jASvWdyGN-hdWP61...  \n",
       "1382  https://resizing.flixster.com/37nvjsHybtXd0q_A...  \n",
       "\n",
       "[2 rows x 60 columns]"
      ]
     },
     "execution_count": 14,
     "metadata": {},
     "output_type": "execute_result"
    }
   ],
   "source": [
    "#Notice the last 2 columns: our prediction and the image we will display\n",
    "html_.head(2)"
   ]
  },
  {
   "cell_type": "code",
   "execution_count": 7,
   "id": "aggregate-matthew",
   "metadata": {},
   "outputs": [],
   "source": [
    "max = html_['pred'].max()"
   ]
  },
  {
   "cell_type": "code",
   "execution_count": 8,
   "id": "homeless-perry",
   "metadata": {},
   "outputs": [
    {
     "data": {
      "text/plain": [
       "2020    Sunset Blvd.\n",
       "Name: mojo_title, dtype: object"
      ]
     },
     "execution_count": 8,
     "metadata": {},
     "output_type": "execute_result"
    }
   ],
   "source": [
    "html_[html_['pred'] == max]['mojo_title']"
   ]
  }
 ],
 "metadata": {
  "kernelspec": {
   "display_name": "Python 3",
   "language": "python",
   "name": "python3"
  },
  "language_info": {
   "codemirror_mode": {
    "name": "ipython",
    "version": 3
   },
   "file_extension": ".py",
   "mimetype": "text/x-python",
   "name": "python",
   "nbconvert_exporter": "python",
   "pygments_lexer": "ipython3",
   "version": "3.8.5"
  }
 },
 "nbformat": 4,
 "nbformat_minor": 5
}
