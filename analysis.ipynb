{
 "cells": [
  {
   "cell_type": "markdown",
   "metadata": {},
   "source": [
    "# Linear regression analysis"
   ]
  },
  {
   "cell_type": "markdown",
   "metadata": {},
   "source": [
    "Import necessary libraries"
   ]
  },
  {
   "cell_type": "code",
   "execution_count": 1,
   "metadata": {},
   "outputs": [],
   "source": [
    "import pandas as pd\n",
    "import glob\n",
    "from functools import reduce\n",
    "import numpy as np\n",
    "import re\n",
    "from sklearn.model_selection import train_test_split\n",
    "from sklearn.preprocessing import StandardScaler, PolynomialFeatures, OneHotEncoder\n",
    "from sklearn.linear_model import LinearRegression, Lasso, LassoCV, Ridge, RidgeCV\n",
    "from sklearn.metrics import r2_score\n",
    "import pandas as pd\n",
    "import matplotlib.pyplot as plt\n",
    "import numpy as np\n",
    "from sklearn.linear_model import LinearRegression\n",
    "from sklearn import linear_model\n",
    "from sklearn.linear_model import LinearRegression\n",
    "from sklearn.model_selection import cross_val_score\n",
    "from sklearn.model_selection import KFold\n",
    "regression = LinearRegression(normalize=True)\n",
    "import seaborn as sns\n",
    "import missingno as mno\n",
    "\n",
    "sns.set(style=\"white\")  "
   ]
  },
  {
   "cell_type": "markdown",
   "metadata": {},
   "source": [
    "## Roadmap of this notebook: \n",
    "- EDA: which audience score data is best: RottenTomatoes, Metacritic or IMDb? *Note*: we say that anything normally distributed about a mean of 7 (that is seen as \"average\") in the movie industry, is OK.\n",
    "- Use IMDb data\n",
    "- Drop NA IMDb values (n=~300)\n",
    "- Drop NA genre values (n=30)\n",
    "- Train/val/test split\n",
    "- One-hot-enconding of genre w/ target (IMDb rating) \n",
    "- Baseline linear regression: R^2 = 0.09\n",
    "- \n",
    "  "
   ]
  },
  {
   "cell_type": "code",
   "execution_count": 2,
   "metadata": {
    "scrolled": false
   },
   "outputs": [
    {
     "data": {
      "text/html": [
       "<div>\n",
       "<style scoped>\n",
       "    .dataframe tbody tr th:only-of-type {\n",
       "        vertical-align: middle;\n",
       "    }\n",
       "\n",
       "    .dataframe tbody tr th {\n",
       "        vertical-align: top;\n",
       "    }\n",
       "\n",
       "    .dataframe thead th {\n",
       "        text-align: right;\n",
       "    }\n",
       "</style>\n",
       "<table border=\"1\" class=\"dataframe\">\n",
       "  <thead>\n",
       "    <tr style=\"text-align: right;\">\n",
       "      <th></th>\n",
       "      <th>mojo_title</th>\n",
       "      <th>domestic_revenue</th>\n",
       "      <th>international_revenue</th>\n",
       "      <th>world_revenue</th>\n",
       "      <th>distributor</th>\n",
       "      <th>opening_revenue</th>\n",
       "      <th>opening_theaters</th>\n",
       "      <th>budget</th>\n",
       "      <th>MPAA</th>\n",
       "      <th>genres</th>\n",
       "      <th>release_days</th>\n",
       "    </tr>\n",
       "  </thead>\n",
       "  <tbody>\n",
       "    <tr>\n",
       "      <th>0</th>\n",
       "      <td>Made in France</td>\n",
       "      <td>$9,956</td>\n",
       "      <td>NaN</td>\n",
       "      <td>$9,956</td>\n",
       "      <td>Under The Milky Way</td>\n",
       "      <td>$3,688</td>\n",
       "      <td>2 theaters</td>\n",
       "      <td>NaN</td>\n",
       "      <td>NaN</td>\n",
       "      <td>Crime, Drama, Thriller</td>\n",
       "      <td>Sep 23, 2016</td>\n",
       "    </tr>\n",
       "  </tbody>\n",
       "</table>\n",
       "</div>"
      ],
      "text/plain": [
       "       mojo_title domestic_revenue international_revenue world_revenue  \\\n",
       "0  Made in France           $9,956                   NaN        $9,956   \n",
       "\n",
       "           distributor opening_revenue opening_theaters budget MPAA  \\\n",
       "0  Under The Milky Way          $3,688       2 theaters    NaN  NaN   \n",
       "\n",
       "                   genres  release_days  \n",
       "0  Crime, Drama, Thriller  Sep 23, 2016  "
      ]
     },
     "execution_count": 2,
     "metadata": {},
     "output_type": "execute_result"
    }
   ],
   "source": [
    "mojo = pd.read_csv('data/mojo.csv')\n",
    "imdb = pd.read_csv('data/imdb.csv')\n",
    "metacritic = pd.read_csv('data/metacritic.csv')\n",
    "tomato = pd.read_csv('data/rotten_tomatoes.csv')\n",
    "heirloom = pd.read_csv('data/heirloom.csv')\n",
    "mojo.rename(columns={\"title\": \"mojo_title\"}, inplace=True)\n",
    "heirloom.set_index(['mojo_title'])\n",
    "imdb.set_index(['mojo_title'])\n",
    "metacritic.set_index(['mojo_title'])\n",
    "tomato.set_index(['mojo_title'])\n",
    "mojo.set_index(['mojo_title'])\n",
    "\n",
    "mojo.head(1)"
   ]
  },
  {
   "cell_type": "markdown",
   "metadata": {},
   "source": [
    "# EDA of RottenTomatoes"
   ]
  },
  {
   "cell_type": "code",
   "execution_count": 3,
   "metadata": {},
   "outputs": [],
   "source": [
    "tomato_final = tomato.merge(heirloom, on='mojo_title', how='left')"
   ]
  },
  {
   "cell_type": "code",
   "execution_count": 4,
   "metadata": {},
   "outputs": [],
   "source": [
    "tomato_final = tomato_final.drop(['url_y', 'tomato_criticcount_x'], axis=1)"
   ]
  },
  {
   "cell_type": "code",
   "execution_count": 5,
   "metadata": {},
   "outputs": [],
   "source": [
    "tomato_final = tomato_final.rename(columns={\"tomato_criticcount_y\":\"tomato_criticcount\", \"url_x\":\"url\"})"
   ]
  },
  {
   "cell_type": "code",
   "execution_count": 6,
   "metadata": {},
   "outputs": [],
   "source": [
    "tomato_final = tomato_final.dropna(subset=['tomato_image'])"
   ]
  },
  {
   "cell_type": "code",
   "execution_count": 7,
   "metadata": {
    "scrolled": false
   },
   "outputs": [],
   "source": [
    "def get_img_url(df):  \n",
    "    return re.findall('(?<=data-src).*$', df)[0][2:-2]\n",
    "tomato_final['tomato_image'] = tomato_final['tomato_image'].apply(get_img_url)"
   ]
  },
  {
   "cell_type": "code",
   "execution_count": 8,
   "metadata": {},
   "outputs": [
    {
     "name": "stderr",
     "output_type": "stream",
     "text": [
      "/Users/liamisaacs/opt/anaconda3/lib/python3.8/site-packages/seaborn/distributions.py:2551: FutureWarning: `distplot` is a deprecated function and will be removed in a future version. Please adapt your code to use either `displot` (a figure-level function with similar flexibility) or `histplot` (an axes-level function for histograms).\n",
      "  warnings.warn(msg, FutureWarning)\n"
     ]
    },
    {
     "data": {
      "text/plain": [
       "[]"
      ]
     },
     "execution_count": 8,
     "metadata": {},
     "output_type": "execute_result"
    },
    {
     "data": {
      "image/png": "[encoded data removed]",
      "text/plain": [
       "<Figure size 576x432 with 1 Axes>"
      ]
     },
     "metadata": {},
     "output_type": "display_data"
    }
   ],
   "source": [
    "plt.figure(figsize=(8, 6))\n",
    "sns.set_style(style='white') \n",
    "# plt.scatter(test_set_pred, y_test, alpha=.1,  scatter_kws={\"color\": \"black\"}, line_kws={\"color\": \"red\"})\n",
    "ax = sns.distplot(tomato_final['tomato_audiencescore']/10, color=\"black\")\n",
    "ax.set_title(\"RottenTomatoes Audience Score\", fontsize=30, weight='bold', y=1.1)\n",
    "\n",
    "plt.xlabel('Audience Score (1-10)', fontsize=14)\n",
    "plt.ylabel('Score Count', fontsize=16)\n",
    "plt.plot()"
   ]
  },
  {
   "cell_type": "markdown",
   "metadata": {},
   "source": [
    "## Rotten tomatoes is non-normal and is skewed for audience score."
   ]
  },
  {
   "cell_type": "markdown",
   "metadata": {},
   "source": [
    "## Let's check IMDb"
   ]
  },
  {
   "cell_type": "code",
   "execution_count": 9,
   "metadata": {},
   "outputs": [
    {
     "data": {
      "text/plain": [
       "1"
      ]
     },
     "execution_count": 9,
     "metadata": {},
     "output_type": "execute_result"
    }
   ],
   "source": [
    "imdb['imdbscore'].isna().sum()"
   ]
  },
  {
   "cell_type": "code",
   "execution_count": 10,
   "metadata": {},
   "outputs": [],
   "source": [
    "imdb = imdb.drop(imdb[imdb['imdbscore']=='Link error'].index)"
   ]
  },
  {
   "cell_type": "code",
   "execution_count": 11,
   "metadata": {},
   "outputs": [],
   "source": [
    "imdb['imdbscore'] = pd.to_numeric(imdb['imdbscore'])"
   ]
  },
  {
   "cell_type": "code",
   "execution_count": 12,
   "metadata": {},
   "outputs": [
    {
     "name": "stderr",
     "output_type": "stream",
     "text": [
      "/Users/liamisaacs/opt/anaconda3/lib/python3.8/site-packages/seaborn/distributions.py:2551: FutureWarning: `distplot` is a deprecated function and will be removed in a future version. Please adapt your code to use either `displot` (a figure-level function with similar flexibility) or `histplot` (an axes-level function for histograms).\n",
      "  warnings.warn(msg, FutureWarning)\n"
     ]
    },
    {
     "data": {
      "text/plain": [
       "[]"
      ]
     },
     "execution_count": 12,
     "metadata": {},
     "output_type": "execute_result"
    },
    {
     "data": {
      "image/png": "[encoded data removed]",
      "text/plain": [
       "<Figure size 576x432 with 1 Axes>"
      ]
     },
     "metadata": {},
     "output_type": "display_data"
    }
   ],
   "source": [
    "plt.figure(figsize=(8, 6))\n",
    "sns.set_style(style='white') \n",
    "# plt.scatter(test_set_pred, y_test, alpha=.1,  scatter_kws={\"color\": \"black\"}, line_kws={\"color\": \"red\"})\n",
    "ax = sns.distplot(imdb['imdbscore'], color=\"black\")\n",
    "ax.set_title(\"IMDb Audience Score\", fontsize=30, weight='bold', y=1.1)\n",
    "\n",
    "plt.xlabel('Audience Score (1-10)', fontsize=14)\n",
    "plt.ylabel('Score Count', fontsize=16)\n",
    "plt.plot()"
   ]
  },
  {
   "cell_type": "markdown",
   "metadata": {},
   "source": [
    "### IMDb is normal, we can use IMDb"
   ]
  },
  {
   "cell_type": "markdown",
   "metadata": {},
   "source": [
    "## Let's check Metacritic"
   ]
  },
  {
   "cell_type": "code",
   "execution_count": 13,
   "metadata": {},
   "outputs": [
    {
     "data": {
      "text/plain": [
       "mojo_title            0\n",
       "mc_criticscore        1\n",
       "mc_criticcount        1\n",
       "mc_audiencescore      1\n",
       "mc_audiencecount    383\n",
       "dtype: int64"
      ]
     },
     "execution_count": 13,
     "metadata": {},
     "output_type": "execute_result"
    }
   ],
   "source": [
    "metacritic.isna().sum()"
   ]
  },
  {
   "cell_type": "code",
   "execution_count": 14,
   "metadata": {},
   "outputs": [],
   "source": [
    "drop = ['tbd', 'Link error']\n",
    "metacritic.drop(metacritic.index[metacritic['mc_criticscore'].isin(drop)], inplace = True)"
   ]
  },
  {
   "cell_type": "code",
   "execution_count": 15,
   "metadata": {},
   "outputs": [],
   "source": [
    "metacritic['mc_criticscore'] = pd.to_numeric(metacritic['mc_criticscore'])"
   ]
  },
  {
   "cell_type": "code",
   "execution_count": 16,
   "metadata": {},
   "outputs": [
    {
     "name": "stderr",
     "output_type": "stream",
     "text": [
      "/Users/liamisaacs/opt/anaconda3/lib/python3.8/site-packages/seaborn/distributions.py:2551: FutureWarning: `distplot` is a deprecated function and will be removed in a future version. Please adapt your code to use either `displot` (a figure-level function with similar flexibility) or `histplot` (an axes-level function for histograms).\n",
      "  warnings.warn(msg, FutureWarning)\n"
     ]
    },
    {
     "data": {
      "text/plain": [
       "[]"
      ]
     },
     "execution_count": 16,
     "metadata": {},
     "output_type": "execute_result"
    },
    {
     "data": {
      "image/png": "[encoded data removed]",
      "text/plain": [
       "<Figure size 576x432 with 1 Axes>"
      ]
     },
     "metadata": {},
     "output_type": "display_data"
    }
   ],
   "source": [
    "plt.figure(figsize=(8, 6))\n",
    "sns.set_style(style='white') \n",
    "# plt.scatter(test_set_pred, y_test, alpha=.1,  scatter_kws={\"color\": \"black\"}, line_kws={\"color\": \"red\"})\n",
    "ax = sns.distplot(metacritic['mc_criticscore'], color=\"black\")\n",
    "ax.set_title(\"Metacritic Audience Score\", fontsize=30, weight='bold', y=1.1)\n",
    "\n",
    "plt.xlabel('Audience Score (1-10)', fontsize=14)\n",
    "plt.ylabel('Score Count', fontsize=16)\n",
    "plt.plot()"
   ]
  },
  {
   "cell_type": "markdown",
   "metadata": {},
   "source": [
    "### Metacritic is also fairly normal."
   ]
  },
  {
   "cell_type": "code",
   "execution_count": 17,
   "metadata": {},
   "outputs": [],
   "source": [
    "# This is for overlaying the three graphs, which seems un-necessary\n",
    "# sns.set(font_scale = 2)\n",
    "\n",
    "# sns.set_style(style='white') \n",
    "# fig, ax = plt.subplots(figsize=(15,10))\n",
    "# sns.distplot( df[\"imdbscore\"] , color=\"skyblue\", label=\"IMDB's score\",hist=None)\n",
    "# sns.distplot( df[\"mc_audiencescore\"]/10 , color=\"green\", label=\"RottenTomatoe's audience score\",hist=None)\n",
    "\n",
    "# sns.distplot( df[\"tomato_audiencescore\"]/10 , color=\"red\", label=\"RottenTomatoe's audience score\", hist=None)\n",
    "# fig.legend(labels=['IMDB','Metacritic', 'RottenTomatoes'])\n",
    "# ax.set_title(\"Review Distributions\", fontsize=30, weight='bold', y=1.1)\n",
    "# ax.set(xlabel=\"Audience Rating (scaled to 1-10)\",\n",
    "#        ylabel=\"KDE Estimate\", xlim=(0, 10))\n",
    "# sns.despine()"
   ]
  },
  {
   "cell_type": "markdown",
   "metadata": {},
   "source": [
    "## Since Metacritic and IMDb are both normally distributed about a mean of 7, we will go with IMDb, as we have more IDMb data."
   ]
  },
  {
   "cell_type": "code",
   "execution_count": 18,
   "metadata": {},
   "outputs": [],
   "source": [
    "df = mojo.merge(imdb, on='mojo_title', how='left')\n",
    "\n",
    "#This does not return 3107 rows, it returns 3369. I checked below that these duplicates are in fact the exact same\n",
    "#across columns and that no information loss occurs.\n",
    "#\n",
    "#As a result, it is OK by me to just drop these duplicates.\n"
   ]
  },
  {
   "cell_type": "markdown",
   "metadata": {},
   "source": [
    "## Null values"
   ]
  },
  {
   "cell_type": "markdown",
   "metadata": {},
   "source": [
    "Missing values visualization (white = missing)"
   ]
  },
  {
   "cell_type": "code",
   "execution_count": 19,
   "metadata": {
    "scrolled": true
   },
   "outputs": [
    {
     "data": {
      "text/plain": [
       "<AxesSubplot:>"
      ]
     },
     "execution_count": 19,
     "metadata": {},
     "output_type": "execute_result"
    },
    {
     "data": {
      "image/png": "[encoded data removed]",
      "text/plain": [
       "<Figure size 1440x432 with 2 Axes>"
      ]
     },
     "metadata": {},
     "output_type": "display_data"
    }
   ],
   "source": [
    "mno.matrix(df, figsize = (20, 6))\n"
   ]
  },
  {
   "cell_type": "markdown",
   "metadata": {},
   "source": [
    "*Note*: this is probably because for IMDb we did not use a rigorous search algorithm to find each movie, we just guessed the url. The errors are independent and random, non-centarlized by movie, but that is why we see them at all."
   ]
  },
  {
   "cell_type": "markdown",
   "metadata": {},
   "source": [
    "We remove Budget, MPAA rating (too little data), and discard imdbpicture, imdbcount, and imdb_metacritic (irrelevant to our analysis). We will impute international revenue, imdbscore. "
   ]
  },
  {
   "cell_type": "code",
   "execution_count": 20,
   "metadata": {},
   "outputs": [],
   "source": [
    "df.drop(columns=['budget', 'MPAA', 'imdbpicture', 'imdbcount', 'imdb_metacritic', 'release_days', 'opening_theaters'], inplace=True)"
   ]
  },
  {
   "cell_type": "code",
   "execution_count": 21,
   "metadata": {},
   "outputs": [
    {
     "data": {
      "text/plain": [
       "<AxesSubplot:>"
      ]
     },
     "execution_count": 21,
     "metadata": {},
     "output_type": "execute_result"
    },
    {
     "data": {
      "image/png": "[encoded data removed]",
      "text/plain": [
       "<Figure size 1440x432 with 2 Axes>"
      ]
     },
     "metadata": {},
     "output_type": "display_data"
    }
   ],
   "source": [
    "mno.matrix(df, figsize = (20, 6))\n"
   ]
  },
  {
   "cell_type": "markdown",
   "metadata": {},
   "source": [
    "We cannot afford to impute any imdbscore, so we will drop NA from this column."
   ]
  },
  {
   "cell_type": "code",
   "execution_count": 22,
   "metadata": {},
   "outputs": [],
   "source": [
    "df = df.dropna(subset=['imdbscore'])"
   ]
  },
  {
   "cell_type": "code",
   "execution_count": 23,
   "metadata": {},
   "outputs": [
    {
     "data": {
      "text/plain": [
       "<AxesSubplot:>"
      ]
     },
     "execution_count": 23,
     "metadata": {},
     "output_type": "execute_result"
    },
    {
     "data": {
      "image/png": "[encoded data removed]",
      "text/plain": [
       "<Figure size 1440x432 with 2 Axes>"
      ]
     },
     "metadata": {},
     "output_type": "display_data"
    }
   ],
   "source": [
    "mno.matrix(df, figsize = (20, 6))\n"
   ]
  },
  {
   "cell_type": "code",
   "execution_count": 24,
   "metadata": {},
   "outputs": [],
   "source": [
    "# turn $2,000 into 2000\n",
    "\n",
    "# money = ['domestic_revenue', 'international_reveneue', 'world_revenue', 'opening_revenue']\n",
    "# for i in range(0, len(money)):\n",
    "#     df[money[i]] = df[money[i]].replace(',', '')\n",
    "#     df[money[i]] = df[money[i]].replace('$', '')\n",
    "#     df[money[i]] = pd.to_numeric(df[money[i]])\n",
    "\n",
    "df['domestic_revenue'] = df['domestic_revenue'].str.replace(',', '')\n",
    "df['domestic_revenue'] = df['domestic_revenue'].str.replace('$', '')\n",
    "df['domestic_revenue'] = pd.to_numeric(df['domestic_revenue'])\n",
    "df['international_revenue'] = df['international_revenue'].str.replace(',', '')\n",
    "df['international_revenue'] = df['international_revenue'].str.replace('$', '')\n",
    "df['international_revenue'] = pd.to_numeric(df['international_revenue'])\n",
    "df['world_revenue'] = df['world_revenue'].str.replace(',', '')\n",
    "df['world_revenue'] = df['world_revenue'].str.replace('$', '')\n",
    "df['world_revenue'] = pd.to_numeric(df['world_revenue'])\n",
    "df['opening_revenue'] = df['opening_revenue'].str.replace(',', '')\n",
    "df['opening_revenue'] = df['opening_revenue'].str.replace('$', '')\n",
    "df['opening_revenue'] = pd.to_numeric(df['opening_revenue'])"
   ]
  },
  {
   "cell_type": "code",
   "execution_count": 25,
   "metadata": {},
   "outputs": [
    {
     "data": {
      "text/html": [
       "<div>\n",
       "<style scoped>\n",
       "    .dataframe tbody tr th:only-of-type {\n",
       "        vertical-align: middle;\n",
       "    }\n",
       "\n",
       "    .dataframe tbody tr th {\n",
       "        vertical-align: top;\n",
       "    }\n",
       "\n",
       "    .dataframe thead th {\n",
       "        text-align: right;\n",
       "    }\n",
       "</style>\n",
       "<table border=\"1\" class=\"dataframe\">\n",
       "  <thead>\n",
       "    <tr style=\"text-align: right;\">\n",
       "      <th></th>\n",
       "      <th>mojo_title</th>\n",
       "      <th>domestic_revenue</th>\n",
       "      <th>international_revenue</th>\n",
       "      <th>world_revenue</th>\n",
       "      <th>distributor</th>\n",
       "      <th>opening_revenue</th>\n",
       "      <th>genres</th>\n",
       "      <th>imdbscore</th>\n",
       "    </tr>\n",
       "  </thead>\n",
       "  <tbody>\n",
       "    <tr>\n",
       "      <th>0</th>\n",
       "      <td>Made in France</td>\n",
       "      <td>9956</td>\n",
       "      <td>NaN</td>\n",
       "      <td>9956</td>\n",
       "      <td>Under The Milky Way</td>\n",
       "      <td>3688.0</td>\n",
       "      <td>Crime, Drama, Thriller</td>\n",
       "      <td>6.2</td>\n",
       "    </tr>\n",
       "    <tr>\n",
       "      <th>1</th>\n",
       "      <td>Realms</td>\n",
       "      <td>147</td>\n",
       "      <td>22296.0</td>\n",
       "      <td>22443</td>\n",
       "      <td>The Film Arcade</td>\n",
       "      <td>108.0</td>\n",
       "      <td>Horror, Mystery</td>\n",
       "      <td>5.5</td>\n",
       "    </tr>\n",
       "    <tr>\n",
       "      <th>2</th>\n",
       "      <td>Postcards from London</td>\n",
       "      <td>5312</td>\n",
       "      <td>10236.0</td>\n",
       "      <td>15548</td>\n",
       "      <td>Strand Releasing</td>\n",
       "      <td>2686.0</td>\n",
       "      <td>Drama</td>\n",
       "      <td>5.1</td>\n",
       "    </tr>\n",
       "    <tr>\n",
       "      <th>3</th>\n",
       "      <td>Over the Limit</td>\n",
       "      <td>3243</td>\n",
       "      <td>NaN</td>\n",
       "      <td>3243</td>\n",
       "      <td>Film Movement</td>\n",
       "      <td>1402.0</td>\n",
       "      <td>Documentary, Sport</td>\n",
       "      <td>7.4</td>\n",
       "    </tr>\n",
       "    <tr>\n",
       "      <th>4</th>\n",
       "      <td>Tall Tales from the Magical Garden of Antoon K...</td>\n",
       "      <td>220</td>\n",
       "      <td>14340506.0</td>\n",
       "      <td>14340726</td>\n",
       "      <td>Viva Pictures</td>\n",
       "      <td>NaN</td>\n",
       "      <td>Adventure, Animation, Comedy, Family</td>\n",
       "      <td>4.6</td>\n",
       "    </tr>\n",
       "    <tr>\n",
       "      <th>...</th>\n",
       "      <td>...</td>\n",
       "      <td>...</td>\n",
       "      <td>...</td>\n",
       "      <td>...</td>\n",
       "      <td>...</td>\n",
       "      <td>...</td>\n",
       "      <td>...</td>\n",
       "      <td>...</td>\n",
       "    </tr>\n",
       "    <tr>\n",
       "      <th>3632</th>\n",
       "      <td>Star Wars: Episode IX - The Rise of Skywalker</td>\n",
       "      <td>515202542</td>\n",
       "      <td>558941706.0</td>\n",
       "      <td>1074144248</td>\n",
       "      <td>Walt Disney Studios Motion Pictures</td>\n",
       "      <td>177383864.0</td>\n",
       "      <td>Action, Adventure, Fantasy, Sci-Fi</td>\n",
       "      <td>6.5</td>\n",
       "    </tr>\n",
       "    <tr>\n",
       "      <th>3633</th>\n",
       "      <td>Jumanji: The Next Level</td>\n",
       "      <td>320314960</td>\n",
       "      <td>479744747.0</td>\n",
       "      <td>800059707</td>\n",
       "      <td>Sony Pictures Entertainment (SPE)</td>\n",
       "      <td>59251543.0</td>\n",
       "      <td>Action, Adventure, Comedy, Fantasy</td>\n",
       "      <td>6.7</td>\n",
       "    </tr>\n",
       "    <tr>\n",
       "      <th>3635</th>\n",
       "      <td>1917</td>\n",
       "      <td>159227644</td>\n",
       "      <td>225679098.0</td>\n",
       "      <td>384906742</td>\n",
       "      <td>Universal Pictures</td>\n",
       "      <td>576216.0</td>\n",
       "      <td>Drama, Thriller, War</td>\n",
       "      <td>8.3</td>\n",
       "    </tr>\n",
       "    <tr>\n",
       "      <th>3636</th>\n",
       "      <td>1917</td>\n",
       "      <td>159227644</td>\n",
       "      <td>225679098.0</td>\n",
       "      <td>384906742</td>\n",
       "      <td>Universal Pictures</td>\n",
       "      <td>576216.0</td>\n",
       "      <td>Drama, Thriller, War</td>\n",
       "      <td>7.3</td>\n",
       "    </tr>\n",
       "    <tr>\n",
       "      <th>3637</th>\n",
       "      <td>Bad Boys for Life</td>\n",
       "      <td>206305244</td>\n",
       "      <td>220200000.0</td>\n",
       "      <td>426505244</td>\n",
       "      <td>Sony Pictures Entertainment (SPE)</td>\n",
       "      <td>62504105.0</td>\n",
       "      <td>Action, Comedy, Crime, Thriller</td>\n",
       "      <td>6.6</td>\n",
       "    </tr>\n",
       "  </tbody>\n",
       "</table>\n",
       "<p>3278 rows × 8 columns</p>\n",
       "</div>"
      ],
      "text/plain": [
       "                                             mojo_title  domestic_revenue  \\\n",
       "0                                        Made in France              9956   \n",
       "1                                                Realms               147   \n",
       "2                                 Postcards from London              5312   \n",
       "3                                        Over the Limit              3243   \n",
       "4     Tall Tales from the Magical Garden of Antoon K...               220   \n",
       "...                                                 ...               ...   \n",
       "3632      Star Wars: Episode IX - The Rise of Skywalker         515202542   \n",
       "3633                            Jumanji: The Next Level         320314960   \n",
       "3635                                               1917         159227644   \n",
       "3636                                               1917         159227644   \n",
       "3637                                  Bad Boys for Life         206305244   \n",
       "\n",
       "      international_revenue  world_revenue  \\\n",
       "0                       NaN           9956   \n",
       "1                   22296.0          22443   \n",
       "2                   10236.0          15548   \n",
       "3                       NaN           3243   \n",
       "4                14340506.0       14340726   \n",
       "...                     ...            ...   \n",
       "3632            558941706.0     1074144248   \n",
       "3633            479744747.0      800059707   \n",
       "3635            225679098.0      384906742   \n",
       "3636            225679098.0      384906742   \n",
       "3637            220200000.0      426505244   \n",
       "\n",
       "                              distributor  opening_revenue  \\\n",
       "0                     Under The Milky Way           3688.0   \n",
       "1                         The Film Arcade            108.0   \n",
       "2                        Strand Releasing           2686.0   \n",
       "3                           Film Movement           1402.0   \n",
       "4                           Viva Pictures              NaN   \n",
       "...                                   ...              ...   \n",
       "3632  Walt Disney Studios Motion Pictures      177383864.0   \n",
       "3633    Sony Pictures Entertainment (SPE)       59251543.0   \n",
       "3635                   Universal Pictures         576216.0   \n",
       "3636                   Universal Pictures         576216.0   \n",
       "3637    Sony Pictures Entertainment (SPE)       62504105.0   \n",
       "\n",
       "                                    genres  imdbscore  \n",
       "0                   Crime, Drama, Thriller        6.2  \n",
       "1                          Horror, Mystery        5.5  \n",
       "2                                    Drama        5.1  \n",
       "3                       Documentary, Sport        7.4  \n",
       "4     Adventure, Animation, Comedy, Family        4.6  \n",
       "...                                    ...        ...  \n",
       "3632    Action, Adventure, Fantasy, Sci-Fi        6.5  \n",
       "3633    Action, Adventure, Comedy, Fantasy        6.7  \n",
       "3635                  Drama, Thriller, War        8.3  \n",
       "3636                  Drama, Thriller, War        7.3  \n",
       "3637       Action, Comedy, Crime, Thriller        6.6  \n",
       "\n",
       "[3278 rows x 8 columns]"
      ]
     },
     "execution_count": 25,
     "metadata": {},
     "output_type": "execute_result"
    }
   ],
   "source": [
    "df"
   ]
  },
  {
   "cell_type": "markdown",
   "metadata": {},
   "source": [
    "## Create a new df with just IMDB score (called \"df_new\")\n"
   ]
  },
  {
   "cell_type": "code",
   "execution_count": 26,
   "metadata": {},
   "outputs": [],
   "source": [
    "df_new = df\n",
    "df['domestic_international_ratio'] = df['domestic_revenue'] / df['international_revenue']\n",
    "df_new = df_new.drop(columns=['mojo_title', 'international_revenue', 'domestic_revenue',\n",
    "                             'opening_revenue'], axis=1)\n",
    "\n",
    "#df_new['domestic_international_ratio'] = df['domestic_revenue'] / df['international_reveneue']\n",
    "\n",
    "#let's drop revenues, as those present the risk of multicolinearity\n",
    "# df_new = df_new.drop(columns=['domestic_revenue', 'international_reveneue', 'opening_revenue']).head(2)"
   ]
  },
  {
   "cell_type": "code",
   "execution_count": 27,
   "metadata": {
    "scrolled": true
   },
   "outputs": [
    {
     "data": {
      "text/html": [
       "<div>\n",
       "<style scoped>\n",
       "    .dataframe tbody tr th:only-of-type {\n",
       "        vertical-align: middle;\n",
       "    }\n",
       "\n",
       "    .dataframe tbody tr th {\n",
       "        vertical-align: top;\n",
       "    }\n",
       "\n",
       "    .dataframe thead th {\n",
       "        text-align: right;\n",
       "    }\n",
       "</style>\n",
       "<table border=\"1\" class=\"dataframe\">\n",
       "  <thead>\n",
       "    <tr style=\"text-align: right;\">\n",
       "      <th></th>\n",
       "      <th>world_revenue</th>\n",
       "      <th>distributor</th>\n",
       "      <th>genres</th>\n",
       "      <th>imdbscore</th>\n",
       "      <th>domestic_international_ratio</th>\n",
       "    </tr>\n",
       "  </thead>\n",
       "  <tbody>\n",
       "    <tr>\n",
       "      <th>0</th>\n",
       "      <td>9956</td>\n",
       "      <td>Under The Milky Way</td>\n",
       "      <td>Crime, Drama, Thriller</td>\n",
       "      <td>6.2</td>\n",
       "      <td>NaN</td>\n",
       "    </tr>\n",
       "    <tr>\n",
       "      <th>1</th>\n",
       "      <td>22443</td>\n",
       "      <td>The Film Arcade</td>\n",
       "      <td>Horror, Mystery</td>\n",
       "      <td>5.5</td>\n",
       "      <td>0.006593</td>\n",
       "    </tr>\n",
       "    <tr>\n",
       "      <th>2</th>\n",
       "      <td>15548</td>\n",
       "      <td>Strand Releasing</td>\n",
       "      <td>Drama</td>\n",
       "      <td>5.1</td>\n",
       "      <td>0.518953</td>\n",
       "    </tr>\n",
       "    <tr>\n",
       "      <th>3</th>\n",
       "      <td>3243</td>\n",
       "      <td>Film Movement</td>\n",
       "      <td>Documentary, Sport</td>\n",
       "      <td>7.4</td>\n",
       "      <td>NaN</td>\n",
       "    </tr>\n",
       "    <tr>\n",
       "      <th>4</th>\n",
       "      <td>14340726</td>\n",
       "      <td>Viva Pictures</td>\n",
       "      <td>Adventure, Animation, Comedy, Family</td>\n",
       "      <td>4.6</td>\n",
       "      <td>0.000015</td>\n",
       "    </tr>\n",
       "  </tbody>\n",
       "</table>\n",
       "</div>"
      ],
      "text/plain": [
       "   world_revenue          distributor                                genres  \\\n",
       "0           9956  Under The Milky Way                Crime, Drama, Thriller   \n",
       "1          22443      The Film Arcade                       Horror, Mystery   \n",
       "2          15548     Strand Releasing                                 Drama   \n",
       "3           3243        Film Movement                    Documentary, Sport   \n",
       "4       14340726        Viva Pictures  Adventure, Animation, Comedy, Family   \n",
       "\n",
       "   imdbscore  domestic_international_ratio  \n",
       "0        6.2                           NaN  \n",
       "1        5.5                      0.006593  \n",
       "2        5.1                      0.518953  \n",
       "3        7.4                           NaN  \n",
       "4        4.6                      0.000015  "
      ]
     },
     "execution_count": 27,
     "metadata": {},
     "output_type": "execute_result"
    }
   ],
   "source": [
    "df_new.head()"
   ]
  },
  {
   "cell_type": "markdown",
   "metadata": {},
   "source": [
    "We will drop the 20 N/A values for genre."
   ]
  },
  {
   "cell_type": "code",
   "execution_count": 28,
   "metadata": {},
   "outputs": [],
   "source": [
    "df_new = df_new.dropna(subset=['genres'])"
   ]
  },
  {
   "cell_type": "markdown",
   "metadata": {},
   "source": [
    "## One-hot-encoding of genre"
   ]
  },
  {
   "cell_type": "code",
   "execution_count": 29,
   "metadata": {},
   "outputs": [
    {
     "data": {
      "text/plain": [
       "False"
      ]
     },
     "execution_count": 29,
     "metadata": {},
     "output_type": "execute_result"
    }
   ],
   "source": [
    "df_new['imdbscore'].isnull().values.any()"
   ]
  },
  {
   "cell_type": "code",
   "execution_count": null,
   "metadata": {},
   "outputs": [],
   "source": []
  },
  {
   "cell_type": "code",
   "execution_count": 30,
   "metadata": {},
   "outputs": [
    {
     "data": {
      "text/plain": [
       "0       6.2\n",
       "1       5.5\n",
       "2       5.1\n",
       "3       7.4\n",
       "4       4.6\n",
       "       ... \n",
       "3632    6.5\n",
       "3633    6.7\n",
       "3635    8.3\n",
       "3636    7.3\n",
       "3637    6.6\n",
       "Name: imdbscore, Length: 3258, dtype: float64"
      ]
     },
     "execution_count": 30,
     "metadata": {},
     "output_type": "execute_result"
    }
   ],
   "source": [
    "df_new['imdbscore']"
   ]
  },
  {
   "cell_type": "code",
   "execution_count": 31,
   "metadata": {},
   "outputs": [],
   "source": [
    "# df['opening_theaters'] = df['opening_theaters'].str.extract(r'([^\\s]+)')\n",
    "# df['opening_theaters'] = df['opening_theaters'].str.replace(',', '')\n",
    "# df['opening_theaters'] = pd.to_numeric(df['opening_theaters'])\n",
    "genres = np.unique(', '.join(df_new['genres']).split(', '))\n",
    "genres = np.delete(genres, np.where(genres == 'NA'))\n",
    "for genre in genres:\n",
    "    df_new[genre] = df_new['genres'].str.contains(genre).astype('int')\n",
    "df_new.drop('genres', axis=1, inplace=True)"
   ]
  },
  {
   "cell_type": "code",
   "execution_count": 32,
   "metadata": {
    "scrolled": true
   },
   "outputs": [
    {
     "data": {
      "text/html": [
       "<div>\n",
       "<style scoped>\n",
       "    .dataframe tbody tr th:only-of-type {\n",
       "        vertical-align: middle;\n",
       "    }\n",
       "\n",
       "    .dataframe tbody tr th {\n",
       "        vertical-align: top;\n",
       "    }\n",
       "\n",
       "    .dataframe thead th {\n",
       "        text-align: right;\n",
       "    }\n",
       "</style>\n",
       "<table border=\"1\" class=\"dataframe\">\n",
       "  <thead>\n",
       "    <tr style=\"text-align: right;\">\n",
       "      <th></th>\n",
       "      <th>world_revenue</th>\n",
       "      <th>distributor</th>\n",
       "      <th>imdbscore</th>\n",
       "      <th>domestic_international_ratio</th>\n",
       "      <th>Action</th>\n",
       "      <th>Adult</th>\n",
       "      <th>Adventure</th>\n",
       "      <th>Animation</th>\n",
       "      <th>Biography</th>\n",
       "      <th>Comedy</th>\n",
       "      <th>...</th>\n",
       "      <th>Mystery</th>\n",
       "      <th>News</th>\n",
       "      <th>Reality-TV</th>\n",
       "      <th>Romance</th>\n",
       "      <th>Sci-Fi</th>\n",
       "      <th>Short</th>\n",
       "      <th>Sport</th>\n",
       "      <th>Thriller</th>\n",
       "      <th>War</th>\n",
       "      <th>Western</th>\n",
       "    </tr>\n",
       "  </thead>\n",
       "  <tbody>\n",
       "    <tr>\n",
       "      <th>3595</th>\n",
       "      <td>61404394</td>\n",
       "      <td>Lionsgate</td>\n",
       "      <td>6.8</td>\n",
       "      <td>1.071562</td>\n",
       "      <td>0</td>\n",
       "      <td>0</td>\n",
       "      <td>0</td>\n",
       "      <td>0</td>\n",
       "      <td>1</td>\n",
       "      <td>0</td>\n",
       "      <td>...</td>\n",
       "      <td>0</td>\n",
       "      <td>0</td>\n",
       "      <td>0</td>\n",
       "      <td>0</td>\n",
       "      <td>0</td>\n",
       "      <td>0</td>\n",
       "      <td>0</td>\n",
       "      <td>0</td>\n",
       "      <td>0</td>\n",
       "      <td>0</td>\n",
       "    </tr>\n",
       "    <tr>\n",
       "      <th>1069</th>\n",
       "      <td>177634</td>\n",
       "      <td>Icarus Films</td>\n",
       "      <td>7.6</td>\n",
       "      <td>11.992539</td>\n",
       "      <td>0</td>\n",
       "      <td>0</td>\n",
       "      <td>0</td>\n",
       "      <td>0</td>\n",
       "      <td>0</td>\n",
       "      <td>0</td>\n",
       "      <td>...</td>\n",
       "      <td>0</td>\n",
       "      <td>0</td>\n",
       "      <td>0</td>\n",
       "      <td>0</td>\n",
       "      <td>0</td>\n",
       "      <td>0</td>\n",
       "      <td>0</td>\n",
       "      <td>0</td>\n",
       "      <td>0</td>\n",
       "      <td>0</td>\n",
       "    </tr>\n",
       "    <tr>\n",
       "      <th>1811</th>\n",
       "      <td>1439539</td>\n",
       "      <td>Neon</td>\n",
       "      <td>7.7</td>\n",
       "      <td>1.020632</td>\n",
       "      <td>0</td>\n",
       "      <td>0</td>\n",
       "      <td>0</td>\n",
       "      <td>0</td>\n",
       "      <td>0</td>\n",
       "      <td>0</td>\n",
       "      <td>...</td>\n",
       "      <td>0</td>\n",
       "      <td>0</td>\n",
       "      <td>0</td>\n",
       "      <td>0</td>\n",
       "      <td>0</td>\n",
       "      <td>0</td>\n",
       "      <td>0</td>\n",
       "      <td>0</td>\n",
       "      <td>0</td>\n",
       "      <td>0</td>\n",
       "    </tr>\n",
       "    <tr>\n",
       "      <th>2432</th>\n",
       "      <td>19390</td>\n",
       "      <td>FilmBuff</td>\n",
       "      <td>5.9</td>\n",
       "      <td>12.280822</td>\n",
       "      <td>0</td>\n",
       "      <td>0</td>\n",
       "      <td>0</td>\n",
       "      <td>0</td>\n",
       "      <td>1</td>\n",
       "      <td>0</td>\n",
       "      <td>...</td>\n",
       "      <td>0</td>\n",
       "      <td>0</td>\n",
       "      <td>0</td>\n",
       "      <td>0</td>\n",
       "      <td>0</td>\n",
       "      <td>0</td>\n",
       "      <td>0</td>\n",
       "      <td>0</td>\n",
       "      <td>0</td>\n",
       "      <td>0</td>\n",
       "    </tr>\n",
       "    <tr>\n",
       "      <th>721</th>\n",
       "      <td>855421</td>\n",
       "      <td>Fathom Events</td>\n",
       "      <td>7.3</td>\n",
       "      <td>NaN</td>\n",
       "      <td>0</td>\n",
       "      <td>0</td>\n",
       "      <td>0</td>\n",
       "      <td>0</td>\n",
       "      <td>0</td>\n",
       "      <td>1</td>\n",
       "      <td>...</td>\n",
       "      <td>0</td>\n",
       "      <td>0</td>\n",
       "      <td>0</td>\n",
       "      <td>1</td>\n",
       "      <td>0</td>\n",
       "      <td>0</td>\n",
       "      <td>0</td>\n",
       "      <td>0</td>\n",
       "      <td>0</td>\n",
       "      <td>0</td>\n",
       "    </tr>\n",
       "    <tr>\n",
       "      <th>2666</th>\n",
       "      <td>191678</td>\n",
       "      <td>Orion Pictures</td>\n",
       "      <td>5.5</td>\n",
       "      <td>15.553934</td>\n",
       "      <td>0</td>\n",
       "      <td>0</td>\n",
       "      <td>0</td>\n",
       "      <td>0</td>\n",
       "      <td>0</td>\n",
       "      <td>0</td>\n",
       "      <td>...</td>\n",
       "      <td>0</td>\n",
       "      <td>0</td>\n",
       "      <td>0</td>\n",
       "      <td>0</td>\n",
       "      <td>0</td>\n",
       "      <td>0</td>\n",
       "      <td>0</td>\n",
       "      <td>0</td>\n",
       "      <td>0</td>\n",
       "      <td>0</td>\n",
       "    </tr>\n",
       "    <tr>\n",
       "      <th>1279</th>\n",
       "      <td>15552</td>\n",
       "      <td>Rialto Pictures</td>\n",
       "      <td>6.6</td>\n",
       "      <td>NaN</td>\n",
       "      <td>0</td>\n",
       "      <td>0</td>\n",
       "      <td>0</td>\n",
       "      <td>0</td>\n",
       "      <td>0</td>\n",
       "      <td>0</td>\n",
       "      <td>...</td>\n",
       "      <td>0</td>\n",
       "      <td>0</td>\n",
       "      <td>0</td>\n",
       "      <td>0</td>\n",
       "      <td>0</td>\n",
       "      <td>0</td>\n",
       "      <td>0</td>\n",
       "      <td>0</td>\n",
       "      <td>0</td>\n",
       "      <td>0</td>\n",
       "    </tr>\n",
       "    <tr>\n",
       "      <th>2190</th>\n",
       "      <td>2048359754</td>\n",
       "      <td>Walt Disney Studios Motion Pictures</td>\n",
       "      <td>8.4</td>\n",
       "      <td>0.495651</td>\n",
       "      <td>1</td>\n",
       "      <td>0</td>\n",
       "      <td>1</td>\n",
       "      <td>0</td>\n",
       "      <td>0</td>\n",
       "      <td>0</td>\n",
       "      <td>...</td>\n",
       "      <td>0</td>\n",
       "      <td>0</td>\n",
       "      <td>0</td>\n",
       "      <td>0</td>\n",
       "      <td>1</td>\n",
       "      <td>0</td>\n",
       "      <td>0</td>\n",
       "      <td>0</td>\n",
       "      <td>0</td>\n",
       "      <td>0</td>\n",
       "    </tr>\n",
       "    <tr>\n",
       "      <th>2534</th>\n",
       "      <td>46041</td>\n",
       "      <td>Rialto Pictures</td>\n",
       "      <td>7.5</td>\n",
       "      <td>NaN</td>\n",
       "      <td>0</td>\n",
       "      <td>0</td>\n",
       "      <td>0</td>\n",
       "      <td>0</td>\n",
       "      <td>0</td>\n",
       "      <td>0</td>\n",
       "      <td>...</td>\n",
       "      <td>0</td>\n",
       "      <td>0</td>\n",
       "      <td>0</td>\n",
       "      <td>0</td>\n",
       "      <td>0</td>\n",
       "      <td>0</td>\n",
       "      <td>0</td>\n",
       "      <td>0</td>\n",
       "      <td>0</td>\n",
       "      <td>0</td>\n",
       "    </tr>\n",
       "    <tr>\n",
       "      <th>598</th>\n",
       "      <td>173961069</td>\n",
       "      <td>Walt Disney Studios Motion Pictures</td>\n",
       "      <td>5.5</td>\n",
       "      <td>0.460603</td>\n",
       "      <td>0</td>\n",
       "      <td>0</td>\n",
       "      <td>1</td>\n",
       "      <td>0</td>\n",
       "      <td>0</td>\n",
       "      <td>0</td>\n",
       "      <td>...</td>\n",
       "      <td>0</td>\n",
       "      <td>0</td>\n",
       "      <td>0</td>\n",
       "      <td>0</td>\n",
       "      <td>0</td>\n",
       "      <td>0</td>\n",
       "      <td>0</td>\n",
       "      <td>0</td>\n",
       "      <td>0</td>\n",
       "      <td>0</td>\n",
       "    </tr>\n",
       "  </tbody>\n",
       "</table>\n",
       "<p>10 rows × 30 columns</p>\n",
       "</div>"
      ],
      "text/plain": [
       "      world_revenue                          distributor  imdbscore  \\\n",
       "3595       61404394                            Lionsgate        6.8   \n",
       "1069         177634                         Icarus Films        7.6   \n",
       "1811        1439539                                 Neon        7.7   \n",
       "2432          19390                             FilmBuff        5.9   \n",
       "721          855421                        Fathom Events        7.3   \n",
       "2666         191678                       Orion Pictures        5.5   \n",
       "1279          15552                      Rialto Pictures        6.6   \n",
       "2190     2048359754  Walt Disney Studios Motion Pictures        8.4   \n",
       "2534          46041                      Rialto Pictures        7.5   \n",
       "598       173961069  Walt Disney Studios Motion Pictures        5.5   \n",
       "\n",
       "      domestic_international_ratio  Action  Adult  Adventure  Animation  \\\n",
       "3595                      1.071562       0      0          0          0   \n",
       "1069                     11.992539       0      0          0          0   \n",
       "1811                      1.020632       0      0          0          0   \n",
       "2432                     12.280822       0      0          0          0   \n",
       "721                            NaN       0      0          0          0   \n",
       "2666                     15.553934       0      0          0          0   \n",
       "1279                           NaN       0      0          0          0   \n",
       "2190                      0.495651       1      0          1          0   \n",
       "2534                           NaN       0      0          0          0   \n",
       "598                       0.460603       0      0          1          0   \n",
       "\n",
       "      Biography  Comedy  ...  Mystery  News  Reality-TV  Romance  Sci-Fi  \\\n",
       "3595          1       0  ...        0     0           0        0       0   \n",
       "1069          0       0  ...        0     0           0        0       0   \n",
       "1811          0       0  ...        0     0           0        0       0   \n",
       "2432          1       0  ...        0     0           0        0       0   \n",
       "721           0       1  ...        0     0           0        1       0   \n",
       "2666          0       0  ...        0     0           0        0       0   \n",
       "1279          0       0  ...        0     0           0        0       0   \n",
       "2190          0       0  ...        0     0           0        0       1   \n",
       "2534          0       0  ...        0     0           0        0       0   \n",
       "598           0       0  ...        0     0           0        0       0   \n",
       "\n",
       "      Short  Sport  Thriller  War  Western  \n",
       "3595      0      0         0    0        0  \n",
       "1069      0      0         0    0        0  \n",
       "1811      0      0         0    0        0  \n",
       "2432      0      0         0    0        0  \n",
       "721       0      0         0    0        0  \n",
       "2666      0      0         0    0        0  \n",
       "1279      0      0         0    0        0  \n",
       "2190      0      0         0    0        0  \n",
       "2534      0      0         0    0        0  \n",
       "598       0      0         0    0        0  \n",
       "\n",
       "[10 rows x 30 columns]"
      ]
     },
     "execution_count": 32,
     "metadata": {},
     "output_type": "execute_result"
    }
   ],
   "source": [
    "df_new.sample(10)"
   ]
  },
  {
   "cell_type": "markdown",
   "metadata": {},
   "source": [
    "## Genre is one-hot-encoded. Train/val/test split to give baseline R^2."
   ]
  },
  {
   "cell_type": "markdown",
   "metadata": {},
   "source": [
    "## Baseline linear regression w/ Genre"
   ]
  },
  {
   "cell_type": "markdown",
   "metadata": {},
   "source": [
    "Validation method: Train / Validation / Test"
   ]
  },
  {
   "cell_type": "code",
   "execution_count": 33,
   "metadata": {},
   "outputs": [],
   "source": [
    "#hold 20% for final testing\n",
    "X, y = df_new, df_new['imdbscore']\n",
    "\n",
    "#train test split\n",
    "X_, X_test, y_, y_test = train_test_split(X, y, test_size=.2, random_state=10)"
   ]
  },
  {
   "cell_type": "code",
   "execution_count": 34,
   "metadata": {},
   "outputs": [],
   "source": [
    "#split training into validation and train\n",
    "X_train, X_val, y_train, y_val = train_test_split(X_, y_, test_size=.25, random_state=3)"
   ]
  },
  {
   "cell_type": "markdown",
   "metadata": {},
   "source": [
    "Target: IMDB score; features: genres; question: do people like one genre over the other?"
   ]
  },
  {
   "cell_type": "code",
   "execution_count": 35,
   "metadata": {},
   "outputs": [],
   "source": [
    "target = df_new['imdbscore']\n",
    "features = ['Action', 'Adventure', 'Animation', 'Biography', 'Comedy', 'Crime', 'Documentary', \n",
    "               'Drama', 'Family', 'Fantasy', 'Film-Noir', 'History', 'Horror', 'Music', 'Musical', 'Mystery',\n",
    "               'News', 'Romance', 'Sci-Fi', 'Short', 'Sport', 'Thriller', 'War', 'Western']"
   ]
  },
  {
   "cell_type": "markdown",
   "metadata": {},
   "source": [
    "**Baseline test on training data for linear regression**"
   ]
  },
  {
   "cell_type": "code",
   "execution_count": 36,
   "metadata": {},
   "outputs": [
    {
     "data": {
      "text/html": [
       "<div>\n",
       "<style scoped>\n",
       "    .dataframe tbody tr th:only-of-type {\n",
       "        vertical-align: middle;\n",
       "    }\n",
       "\n",
       "    .dataframe tbody tr th {\n",
       "        vertical-align: top;\n",
       "    }\n",
       "\n",
       "    .dataframe thead th {\n",
       "        text-align: right;\n",
       "    }\n",
       "</style>\n",
       "<table border=\"1\" class=\"dataframe\">\n",
       "  <thead>\n",
       "    <tr style=\"text-align: right;\">\n",
       "      <th></th>\n",
       "      <th>Action</th>\n",
       "      <th>Adult</th>\n",
       "      <th>Adventure</th>\n",
       "      <th>Animation</th>\n",
       "      <th>Biography</th>\n",
       "      <th>Comedy</th>\n",
       "      <th>Crime</th>\n",
       "      <th>Documentary</th>\n",
       "      <th>Drama</th>\n",
       "      <th>Family</th>\n",
       "      <th>...</th>\n",
       "      <th>Mystery</th>\n",
       "      <th>News</th>\n",
       "      <th>Reality-TV</th>\n",
       "      <th>Romance</th>\n",
       "      <th>Sci-Fi</th>\n",
       "      <th>Short</th>\n",
       "      <th>Sport</th>\n",
       "      <th>Thriller</th>\n",
       "      <th>War</th>\n",
       "      <th>Western</th>\n",
       "    </tr>\n",
       "  </thead>\n",
       "  <tbody>\n",
       "    <tr>\n",
       "      <th>2280</th>\n",
       "      <td>0</td>\n",
       "      <td>0</td>\n",
       "      <td>0</td>\n",
       "      <td>0</td>\n",
       "      <td>0</td>\n",
       "      <td>0</td>\n",
       "      <td>0</td>\n",
       "      <td>1</td>\n",
       "      <td>0</td>\n",
       "      <td>0</td>\n",
       "      <td>...</td>\n",
       "      <td>0</td>\n",
       "      <td>0</td>\n",
       "      <td>0</td>\n",
       "      <td>0</td>\n",
       "      <td>0</td>\n",
       "      <td>0</td>\n",
       "      <td>0</td>\n",
       "      <td>0</td>\n",
       "      <td>0</td>\n",
       "      <td>0</td>\n",
       "    </tr>\n",
       "    <tr>\n",
       "      <th>313</th>\n",
       "      <td>0</td>\n",
       "      <td>0</td>\n",
       "      <td>0</td>\n",
       "      <td>0</td>\n",
       "      <td>0</td>\n",
       "      <td>0</td>\n",
       "      <td>0</td>\n",
       "      <td>1</td>\n",
       "      <td>0</td>\n",
       "      <td>0</td>\n",
       "      <td>...</td>\n",
       "      <td>0</td>\n",
       "      <td>0</td>\n",
       "      <td>0</td>\n",
       "      <td>0</td>\n",
       "      <td>0</td>\n",
       "      <td>0</td>\n",
       "      <td>0</td>\n",
       "      <td>0</td>\n",
       "      <td>0</td>\n",
       "      <td>0</td>\n",
       "    </tr>\n",
       "    <tr>\n",
       "      <th>1387</th>\n",
       "      <td>0</td>\n",
       "      <td>0</td>\n",
       "      <td>0</td>\n",
       "      <td>0</td>\n",
       "      <td>0</td>\n",
       "      <td>0</td>\n",
       "      <td>0</td>\n",
       "      <td>0</td>\n",
       "      <td>1</td>\n",
       "      <td>0</td>\n",
       "      <td>...</td>\n",
       "      <td>0</td>\n",
       "      <td>0</td>\n",
       "      <td>0</td>\n",
       "      <td>0</td>\n",
       "      <td>0</td>\n",
       "      <td>0</td>\n",
       "      <td>0</td>\n",
       "      <td>0</td>\n",
       "      <td>0</td>\n",
       "      <td>0</td>\n",
       "    </tr>\n",
       "    <tr>\n",
       "      <th>1514</th>\n",
       "      <td>0</td>\n",
       "      <td>0</td>\n",
       "      <td>0</td>\n",
       "      <td>1</td>\n",
       "      <td>0</td>\n",
       "      <td>0</td>\n",
       "      <td>0</td>\n",
       "      <td>0</td>\n",
       "      <td>1</td>\n",
       "      <td>1</td>\n",
       "      <td>...</td>\n",
       "      <td>0</td>\n",
       "      <td>0</td>\n",
       "      <td>0</td>\n",
       "      <td>0</td>\n",
       "      <td>0</td>\n",
       "      <td>0</td>\n",
       "      <td>0</td>\n",
       "      <td>0</td>\n",
       "      <td>1</td>\n",
       "      <td>0</td>\n",
       "    </tr>\n",
       "    <tr>\n",
       "      <th>1341</th>\n",
       "      <td>0</td>\n",
       "      <td>0</td>\n",
       "      <td>0</td>\n",
       "      <td>1</td>\n",
       "      <td>0</td>\n",
       "      <td>0</td>\n",
       "      <td>0</td>\n",
       "      <td>0</td>\n",
       "      <td>0</td>\n",
       "      <td>1</td>\n",
       "      <td>...</td>\n",
       "      <td>0</td>\n",
       "      <td>0</td>\n",
       "      <td>0</td>\n",
       "      <td>0</td>\n",
       "      <td>0</td>\n",
       "      <td>0</td>\n",
       "      <td>0</td>\n",
       "      <td>0</td>\n",
       "      <td>0</td>\n",
       "      <td>0</td>\n",
       "    </tr>\n",
       "    <tr>\n",
       "      <th>...</th>\n",
       "      <td>...</td>\n",
       "      <td>...</td>\n",
       "      <td>...</td>\n",
       "      <td>...</td>\n",
       "      <td>...</td>\n",
       "      <td>...</td>\n",
       "      <td>...</td>\n",
       "      <td>...</td>\n",
       "      <td>...</td>\n",
       "      <td>...</td>\n",
       "      <td>...</td>\n",
       "      <td>...</td>\n",
       "      <td>...</td>\n",
       "      <td>...</td>\n",
       "      <td>...</td>\n",
       "      <td>...</td>\n",
       "      <td>...</td>\n",
       "      <td>...</td>\n",
       "      <td>...</td>\n",
       "      <td>...</td>\n",
       "      <td>...</td>\n",
       "    </tr>\n",
       "    <tr>\n",
       "      <th>218</th>\n",
       "      <td>0</td>\n",
       "      <td>0</td>\n",
       "      <td>0</td>\n",
       "      <td>0</td>\n",
       "      <td>0</td>\n",
       "      <td>0</td>\n",
       "      <td>1</td>\n",
       "      <td>0</td>\n",
       "      <td>1</td>\n",
       "      <td>0</td>\n",
       "      <td>...</td>\n",
       "      <td>0</td>\n",
       "      <td>0</td>\n",
       "      <td>0</td>\n",
       "      <td>0</td>\n",
       "      <td>0</td>\n",
       "      <td>0</td>\n",
       "      <td>0</td>\n",
       "      <td>1</td>\n",
       "      <td>0</td>\n",
       "      <td>0</td>\n",
       "    </tr>\n",
       "    <tr>\n",
       "      <th>2562</th>\n",
       "      <td>0</td>\n",
       "      <td>0</td>\n",
       "      <td>0</td>\n",
       "      <td>0</td>\n",
       "      <td>0</td>\n",
       "      <td>1</td>\n",
       "      <td>0</td>\n",
       "      <td>0</td>\n",
       "      <td>0</td>\n",
       "      <td>0</td>\n",
       "      <td>...</td>\n",
       "      <td>0</td>\n",
       "      <td>0</td>\n",
       "      <td>0</td>\n",
       "      <td>0</td>\n",
       "      <td>0</td>\n",
       "      <td>0</td>\n",
       "      <td>0</td>\n",
       "      <td>0</td>\n",
       "      <td>0</td>\n",
       "      <td>0</td>\n",
       "    </tr>\n",
       "    <tr>\n",
       "      <th>582</th>\n",
       "      <td>0</td>\n",
       "      <td>0</td>\n",
       "      <td>1</td>\n",
       "      <td>0</td>\n",
       "      <td>0</td>\n",
       "      <td>0</td>\n",
       "      <td>0</td>\n",
       "      <td>0</td>\n",
       "      <td>0</td>\n",
       "      <td>0</td>\n",
       "      <td>...</td>\n",
       "      <td>0</td>\n",
       "      <td>0</td>\n",
       "      <td>0</td>\n",
       "      <td>0</td>\n",
       "      <td>1</td>\n",
       "      <td>0</td>\n",
       "      <td>0</td>\n",
       "      <td>0</td>\n",
       "      <td>0</td>\n",
       "      <td>0</td>\n",
       "    </tr>\n",
       "    <tr>\n",
       "      <th>987</th>\n",
       "      <td>0</td>\n",
       "      <td>0</td>\n",
       "      <td>0</td>\n",
       "      <td>0</td>\n",
       "      <td>0</td>\n",
       "      <td>0</td>\n",
       "      <td>0</td>\n",
       "      <td>0</td>\n",
       "      <td>1</td>\n",
       "      <td>0</td>\n",
       "      <td>...</td>\n",
       "      <td>0</td>\n",
       "      <td>0</td>\n",
       "      <td>0</td>\n",
       "      <td>1</td>\n",
       "      <td>0</td>\n",
       "      <td>0</td>\n",
       "      <td>0</td>\n",
       "      <td>0</td>\n",
       "      <td>0</td>\n",
       "      <td>0</td>\n",
       "    </tr>\n",
       "    <tr>\n",
       "      <th>1136</th>\n",
       "      <td>0</td>\n",
       "      <td>0</td>\n",
       "      <td>0</td>\n",
       "      <td>0</td>\n",
       "      <td>1</td>\n",
       "      <td>0</td>\n",
       "      <td>0</td>\n",
       "      <td>1</td>\n",
       "      <td>0</td>\n",
       "      <td>0</td>\n",
       "      <td>...</td>\n",
       "      <td>0</td>\n",
       "      <td>0</td>\n",
       "      <td>0</td>\n",
       "      <td>0</td>\n",
       "      <td>0</td>\n",
       "      <td>0</td>\n",
       "      <td>0</td>\n",
       "      <td>0</td>\n",
       "      <td>0</td>\n",
       "      <td>0</td>\n",
       "    </tr>\n",
       "  </tbody>\n",
       "</table>\n",
       "<p>1954 rows × 26 columns</p>\n",
       "</div>"
      ],
      "text/plain": [
       "      Action  Adult  Adventure  Animation  Biography  Comedy  Crime  \\\n",
       "2280       0      0          0          0          0       0      0   \n",
       "313        0      0          0          0          0       0      0   \n",
       "1387       0      0          0          0          0       0      0   \n",
       "1514       0      0          0          1          0       0      0   \n",
       "1341       0      0          0          1          0       0      0   \n",
       "...      ...    ...        ...        ...        ...     ...    ...   \n",
       "218        0      0          0          0          0       0      1   \n",
       "2562       0      0          0          0          0       1      0   \n",
       "582        0      0          1          0          0       0      0   \n",
       "987        0      0          0          0          0       0      0   \n",
       "1136       0      0          0          0          1       0      0   \n",
       "\n",
       "      Documentary  Drama  Family  ...  Mystery  News  Reality-TV  Romance  \\\n",
       "2280            1      0       0  ...        0     0           0        0   \n",
       "313             1      0       0  ...        0     0           0        0   \n",
       "1387            0      1       0  ...        0     0           0        0   \n",
       "1514            0      1       1  ...        0     0           0        0   \n",
       "1341            0      0       1  ...        0     0           0        0   \n",
       "...           ...    ...     ...  ...      ...   ...         ...      ...   \n",
       "218             0      1       0  ...        0     0           0        0   \n",
       "2562            0      0       0  ...        0     0           0        0   \n",
       "582             0      0       0  ...        0     0           0        0   \n",
       "987             0      1       0  ...        0     0           0        1   \n",
       "1136            1      0       0  ...        0     0           0        0   \n",
       "\n",
       "      Sci-Fi  Short  Sport  Thriller  War  Western  \n",
       "2280       0      0      0         0    0        0  \n",
       "313        0      0      0         0    0        0  \n",
       "1387       0      0      0         0    0        0  \n",
       "1514       0      0      0         0    1        0  \n",
       "1341       0      0      0         0    0        0  \n",
       "...      ...    ...    ...       ...  ...      ...  \n",
       "218        0      0      0         1    0        0  \n",
       "2562       0      0      0         0    0        0  \n",
       "582        1      0      0         0    0        0  \n",
       "987        0      0      0         0    0        0  \n",
       "1136       0      0      0         0    0        0  \n",
       "\n",
       "[1954 rows x 26 columns]"
      ]
     },
     "execution_count": 36,
     "metadata": {},
     "output_type": "execute_result"
    }
   ],
   "source": [
    "depd = X_train.iloc[:, 4:30] # Remember that Python does not slice inclusive of the ending index.\n",
    "depd"
   ]
  },
  {
   "cell_type": "code",
   "execution_count": 37,
   "metadata": {},
   "outputs": [
    {
     "data": {
      "text/plain": [
       "2280    5.4\n",
       "313     6.7\n",
       "1387    7.8\n",
       "1514    6.5\n",
       "1341    5.0\n",
       "       ... \n",
       "218     6.8\n",
       "2562    5.9\n",
       "582     3.1\n",
       "987     7.2\n",
       "1136    6.9\n",
       "Name: imdbscore, Length: 1954, dtype: float64"
      ]
     },
     "execution_count": 37,
     "metadata": {},
     "output_type": "execute_result"
    }
   ],
   "source": [
    "pd.to_numeric(X_train.iloc[:, 2].fillna(0))"
   ]
  },
  {
   "cell_type": "code",
   "execution_count": 38,
   "metadata": {},
   "outputs": [
    {
     "data": {
      "text/plain": [
       "0.09790668635623756"
      ]
     },
     "execution_count": 38,
     "metadata": {},
     "output_type": "execute_result"
    }
   ],
   "source": [
    "baseline = linear_model.LinearRegression()\n",
    "baseline.fit(X=depd, y=y_train)\n",
    "baseline.score(X=depd, y=y_train)"
   ]
  },
  {
   "cell_type": "markdown",
   "metadata": {},
   "source": [
    "**Feature engineering: add in interaction term between genres**"
   ]
  },
  {
   "cell_type": "markdown",
   "metadata": {},
   "source": [
    "\"Horror Thrillers\" do better than Horror movies, we assume. If we interact every genre with every genre, and consider those interactions, our R^2 will inevitably go up."
   ]
  },
  {
   "cell_type": "code",
   "execution_count": 39,
   "metadata": {},
   "outputs": [],
   "source": [
    "def create_interactions(df):\n",
    "    df_int = df.copy()\n",
    "    for i in range(3, len(df.columns)-1):\n",
    "        for j in range(i+1, len(df.columns)):\n",
    "            name = str(df.columns[i]) + ' * ' + str(df.columns[j])\n",
    "            df_int.loc[:, name] = df[str(df.columns[i+1])] * df[str(df.columns[j])]\n",
    "    return df_int"
   ]
  },
  {
   "cell_type": "code",
   "execution_count": 40,
   "metadata": {
    "scrolled": true
   },
   "outputs": [],
   "source": [
    "X_train_interactions = create_interactions(X_train)"
   ]
  },
  {
   "cell_type": "code",
   "execution_count": 41,
   "metadata": {},
   "outputs": [
    {
     "data": {
      "text/html": [
       "<div>\n",
       "<style scoped>\n",
       "    .dataframe tbody tr th:only-of-type {\n",
       "        vertical-align: middle;\n",
       "    }\n",
       "\n",
       "    .dataframe tbody tr th {\n",
       "        vertical-align: top;\n",
       "    }\n",
       "\n",
       "    .dataframe thead th {\n",
       "        text-align: right;\n",
       "    }\n",
       "</style>\n",
       "<table border=\"1\" class=\"dataframe\">\n",
       "  <thead>\n",
       "    <tr style=\"text-align: right;\">\n",
       "      <th></th>\n",
       "      <th>world_revenue</th>\n",
       "      <th>imdbscore</th>\n",
       "      <th>domestic_international_ratio</th>\n",
       "      <th>Action</th>\n",
       "      <th>Adult</th>\n",
       "      <th>Adventure</th>\n",
       "      <th>Animation</th>\n",
       "      <th>Biography</th>\n",
       "      <th>Comedy</th>\n",
       "      <th>Crime</th>\n",
       "      <th>...</th>\n",
       "      <th>Short * Sport</th>\n",
       "      <th>Short * Thriller</th>\n",
       "      <th>Short * War</th>\n",
       "      <th>Short * Western</th>\n",
       "      <th>Sport * Thriller</th>\n",
       "      <th>Sport * War</th>\n",
       "      <th>Sport * Western</th>\n",
       "      <th>Thriller * War</th>\n",
       "      <th>Thriller * Western</th>\n",
       "      <th>War * Western</th>\n",
       "    </tr>\n",
       "  </thead>\n",
       "  <tbody>\n",
       "    <tr>\n",
       "      <th>2280</th>\n",
       "      <td>3981</td>\n",
       "      <td>5.4</td>\n",
       "      <td>NaN</td>\n",
       "      <td>0</td>\n",
       "      <td>0</td>\n",
       "      <td>0</td>\n",
       "      <td>0</td>\n",
       "      <td>0</td>\n",
       "      <td>0</td>\n",
       "      <td>0</td>\n",
       "      <td>...</td>\n",
       "      <td>0</td>\n",
       "      <td>0</td>\n",
       "      <td>0</td>\n",
       "      <td>0</td>\n",
       "      <td>0</td>\n",
       "      <td>0</td>\n",
       "      <td>0</td>\n",
       "      <td>0</td>\n",
       "      <td>0</td>\n",
       "      <td>0</td>\n",
       "    </tr>\n",
       "    <tr>\n",
       "      <th>313</th>\n",
       "      <td>47269</td>\n",
       "      <td>6.7</td>\n",
       "      <td>5.226979</td>\n",
       "      <td>0</td>\n",
       "      <td>0</td>\n",
       "      <td>0</td>\n",
       "      <td>0</td>\n",
       "      <td>0</td>\n",
       "      <td>0</td>\n",
       "      <td>0</td>\n",
       "      <td>...</td>\n",
       "      <td>0</td>\n",
       "      <td>0</td>\n",
       "      <td>0</td>\n",
       "      <td>0</td>\n",
       "      <td>0</td>\n",
       "      <td>0</td>\n",
       "      <td>0</td>\n",
       "      <td>0</td>\n",
       "      <td>0</td>\n",
       "      <td>0</td>\n",
       "    </tr>\n",
       "    <tr>\n",
       "      <th>1387</th>\n",
       "      <td>36506</td>\n",
       "      <td>7.8</td>\n",
       "      <td>NaN</td>\n",
       "      <td>0</td>\n",
       "      <td>0</td>\n",
       "      <td>0</td>\n",
       "      <td>0</td>\n",
       "      <td>0</td>\n",
       "      <td>0</td>\n",
       "      <td>0</td>\n",
       "      <td>...</td>\n",
       "      <td>0</td>\n",
       "      <td>0</td>\n",
       "      <td>0</td>\n",
       "      <td>0</td>\n",
       "      <td>0</td>\n",
       "      <td>0</td>\n",
       "      <td>0</td>\n",
       "      <td>0</td>\n",
       "      <td>0</td>\n",
       "      <td>0</td>\n",
       "    </tr>\n",
       "    <tr>\n",
       "      <th>1514</th>\n",
       "      <td>363307</td>\n",
       "      <td>6.5</td>\n",
       "      <td>6.134018</td>\n",
       "      <td>0</td>\n",
       "      <td>0</td>\n",
       "      <td>0</td>\n",
       "      <td>1</td>\n",
       "      <td>0</td>\n",
       "      <td>0</td>\n",
       "      <td>0</td>\n",
       "      <td>...</td>\n",
       "      <td>0</td>\n",
       "      <td>0</td>\n",
       "      <td>0</td>\n",
       "      <td>0</td>\n",
       "      <td>0</td>\n",
       "      <td>0</td>\n",
       "      <td>0</td>\n",
       "      <td>1</td>\n",
       "      <td>0</td>\n",
       "      <td>0</td>\n",
       "    </tr>\n",
       "    <tr>\n",
       "      <th>1341</th>\n",
       "      <td>2195706</td>\n",
       "      <td>5.0</td>\n",
       "      <td>0.011173</td>\n",
       "      <td>0</td>\n",
       "      <td>0</td>\n",
       "      <td>0</td>\n",
       "      <td>1</td>\n",
       "      <td>0</td>\n",
       "      <td>0</td>\n",
       "      <td>0</td>\n",
       "      <td>...</td>\n",
       "      <td>0</td>\n",
       "      <td>0</td>\n",
       "      <td>0</td>\n",
       "      <td>0</td>\n",
       "      <td>0</td>\n",
       "      <td>0</td>\n",
       "      <td>0</td>\n",
       "      <td>0</td>\n",
       "      <td>0</td>\n",
       "      <td>0</td>\n",
       "    </tr>\n",
       "    <tr>\n",
       "      <th>...</th>\n",
       "      <td>...</td>\n",
       "      <td>...</td>\n",
       "      <td>...</td>\n",
       "      <td>...</td>\n",
       "      <td>...</td>\n",
       "      <td>...</td>\n",
       "      <td>...</td>\n",
       "      <td>...</td>\n",
       "      <td>...</td>\n",
       "      <td>...</td>\n",
       "      <td>...</td>\n",
       "      <td>...</td>\n",
       "      <td>...</td>\n",
       "      <td>...</td>\n",
       "      <td>...</td>\n",
       "      <td>...</td>\n",
       "      <td>...</td>\n",
       "      <td>...</td>\n",
       "      <td>...</td>\n",
       "      <td>...</td>\n",
       "      <td>...</td>\n",
       "    </tr>\n",
       "    <tr>\n",
       "      <th>218</th>\n",
       "      <td>2911800</td>\n",
       "      <td>6.8</td>\n",
       "      <td>0.031161</td>\n",
       "      <td>0</td>\n",
       "      <td>0</td>\n",
       "      <td>0</td>\n",
       "      <td>0</td>\n",
       "      <td>0</td>\n",
       "      <td>0</td>\n",
       "      <td>1</td>\n",
       "      <td>...</td>\n",
       "      <td>0</td>\n",
       "      <td>0</td>\n",
       "      <td>0</td>\n",
       "      <td>0</td>\n",
       "      <td>1</td>\n",
       "      <td>0</td>\n",
       "      <td>0</td>\n",
       "      <td>0</td>\n",
       "      <td>0</td>\n",
       "      <td>0</td>\n",
       "    </tr>\n",
       "    <tr>\n",
       "      <th>2562</th>\n",
       "      <td>62398</td>\n",
       "      <td>5.9</td>\n",
       "      <td>NaN</td>\n",
       "      <td>0</td>\n",
       "      <td>0</td>\n",
       "      <td>0</td>\n",
       "      <td>0</td>\n",
       "      <td>0</td>\n",
       "      <td>1</td>\n",
       "      <td>0</td>\n",
       "      <td>...</td>\n",
       "      <td>0</td>\n",
       "      <td>0</td>\n",
       "      <td>0</td>\n",
       "      <td>0</td>\n",
       "      <td>0</td>\n",
       "      <td>0</td>\n",
       "      <td>0</td>\n",
       "      <td>0</td>\n",
       "      <td>0</td>\n",
       "      <td>0</td>\n",
       "    </tr>\n",
       "    <tr>\n",
       "      <th>582</th>\n",
       "      <td>260234</td>\n",
       "      <td>3.1</td>\n",
       "      <td>NaN</td>\n",
       "      <td>0</td>\n",
       "      <td>0</td>\n",
       "      <td>1</td>\n",
       "      <td>0</td>\n",
       "      <td>0</td>\n",
       "      <td>0</td>\n",
       "      <td>0</td>\n",
       "      <td>...</td>\n",
       "      <td>0</td>\n",
       "      <td>0</td>\n",
       "      <td>0</td>\n",
       "      <td>0</td>\n",
       "      <td>0</td>\n",
       "      <td>0</td>\n",
       "      <td>0</td>\n",
       "      <td>0</td>\n",
       "      <td>0</td>\n",
       "      <td>0</td>\n",
       "    </tr>\n",
       "    <tr>\n",
       "      <th>987</th>\n",
       "      <td>91522094</td>\n",
       "      <td>7.2</td>\n",
       "      <td>0.998610</td>\n",
       "      <td>0</td>\n",
       "      <td>0</td>\n",
       "      <td>0</td>\n",
       "      <td>0</td>\n",
       "      <td>0</td>\n",
       "      <td>0</td>\n",
       "      <td>0</td>\n",
       "      <td>...</td>\n",
       "      <td>0</td>\n",
       "      <td>0</td>\n",
       "      <td>0</td>\n",
       "      <td>0</td>\n",
       "      <td>0</td>\n",
       "      <td>0</td>\n",
       "      <td>0</td>\n",
       "      <td>0</td>\n",
       "      <td>0</td>\n",
       "      <td>0</td>\n",
       "    </tr>\n",
       "    <tr>\n",
       "      <th>1136</th>\n",
       "      <td>9512</td>\n",
       "      <td>6.9</td>\n",
       "      <td>NaN</td>\n",
       "      <td>0</td>\n",
       "      <td>0</td>\n",
       "      <td>0</td>\n",
       "      <td>0</td>\n",
       "      <td>1</td>\n",
       "      <td>0</td>\n",
       "      <td>0</td>\n",
       "      <td>...</td>\n",
       "      <td>0</td>\n",
       "      <td>0</td>\n",
       "      <td>0</td>\n",
       "      <td>0</td>\n",
       "      <td>0</td>\n",
       "      <td>0</td>\n",
       "      <td>0</td>\n",
       "      <td>0</td>\n",
       "      <td>0</td>\n",
       "      <td>0</td>\n",
       "    </tr>\n",
       "  </tbody>\n",
       "</table>\n",
       "<p>1954 rows × 380 columns</p>\n",
       "</div>"
      ],
      "text/plain": [
       "      world_revenue  imdbscore  domestic_international_ratio  Action  Adult  \\\n",
       "2280           3981        5.4                           NaN       0      0   \n",
       "313           47269        6.7                      5.226979       0      0   \n",
       "1387          36506        7.8                           NaN       0      0   \n",
       "1514         363307        6.5                      6.134018       0      0   \n",
       "1341        2195706        5.0                      0.011173       0      0   \n",
       "...             ...        ...                           ...     ...    ...   \n",
       "218         2911800        6.8                      0.031161       0      0   \n",
       "2562          62398        5.9                           NaN       0      0   \n",
       "582          260234        3.1                           NaN       0      0   \n",
       "987        91522094        7.2                      0.998610       0      0   \n",
       "1136           9512        6.9                           NaN       0      0   \n",
       "\n",
       "      Adventure  Animation  Biography  Comedy  Crime  ...  Short * Sport  \\\n",
       "2280          0          0          0       0      0  ...              0   \n",
       "313           0          0          0       0      0  ...              0   \n",
       "1387          0          0          0       0      0  ...              0   \n",
       "1514          0          1          0       0      0  ...              0   \n",
       "1341          0          1          0       0      0  ...              0   \n",
       "...         ...        ...        ...     ...    ...  ...            ...   \n",
       "218           0          0          0       0      1  ...              0   \n",
       "2562          0          0          0       1      0  ...              0   \n",
       "582           1          0          0       0      0  ...              0   \n",
       "987           0          0          0       0      0  ...              0   \n",
       "1136          0          0          1       0      0  ...              0   \n",
       "\n",
       "      Short * Thriller  Short * War  Short * Western  Sport * Thriller  \\\n",
       "2280                 0            0                0                 0   \n",
       "313                  0            0                0                 0   \n",
       "1387                 0            0                0                 0   \n",
       "1514                 0            0                0                 0   \n",
       "1341                 0            0                0                 0   \n",
       "...                ...          ...              ...               ...   \n",
       "218                  0            0                0                 1   \n",
       "2562                 0            0                0                 0   \n",
       "582                  0            0                0                 0   \n",
       "987                  0            0                0                 0   \n",
       "1136                 0            0                0                 0   \n",
       "\n",
       "      Sport * War  Sport * Western  Thriller * War  Thriller * Western  \\\n",
       "2280            0                0               0                   0   \n",
       "313             0                0               0                   0   \n",
       "1387            0                0               0                   0   \n",
       "1514            0                0               1                   0   \n",
       "1341            0                0               0                   0   \n",
       "...           ...              ...             ...                 ...   \n",
       "218             0                0               0                   0   \n",
       "2562            0                0               0                   0   \n",
       "582             0                0               0                   0   \n",
       "987             0                0               0                   0   \n",
       "1136            0                0               0                   0   \n",
       "\n",
       "      War * Western  \n",
       "2280              0  \n",
       "313               0  \n",
       "1387              0  \n",
       "1514              0  \n",
       "1341              0  \n",
       "...             ...  \n",
       "218               0  \n",
       "2562              0  \n",
       "582               0  \n",
       "987               0  \n",
       "1136              0  \n",
       "\n",
       "[1954 rows x 380 columns]"
      ]
     },
     "execution_count": 41,
     "metadata": {},
     "output_type": "execute_result"
    }
   ],
   "source": [
    "X_train_interactions.drop(columns=['distributor'], axis=1)"
   ]
  },
  {
   "cell_type": "code",
   "execution_count": 42,
   "metadata": {},
   "outputs": [],
   "source": [
    "X_train_interactions = X_train_interactions.drop(columns=['imdbscore'])"
   ]
  },
  {
   "cell_type": "code",
   "execution_count": 43,
   "metadata": {},
   "outputs": [],
   "source": [
    "X_train_interactions = X_train_interactions.iloc[:, 3:380]"
   ]
  },
  {
   "cell_type": "code",
   "execution_count": 44,
   "metadata": {},
   "outputs": [
    {
     "data": {
      "text/html": [
       "<div>\n",
       "<style scoped>\n",
       "    .dataframe tbody tr th:only-of-type {\n",
       "        vertical-align: middle;\n",
       "    }\n",
       "\n",
       "    .dataframe tbody tr th {\n",
       "        vertical-align: top;\n",
       "    }\n",
       "\n",
       "    .dataframe thead th {\n",
       "        text-align: right;\n",
       "    }\n",
       "</style>\n",
       "<table border=\"1\" class=\"dataframe\">\n",
       "  <thead>\n",
       "    <tr style=\"text-align: right;\">\n",
       "      <th></th>\n",
       "      <th>domestic_international_ratio * Action</th>\n",
       "      <th>domestic_international_ratio * Adult</th>\n",
       "      <th>domestic_international_ratio * Adventure</th>\n",
       "      <th>domestic_international_ratio * Animation</th>\n",
       "      <th>domestic_international_ratio * Biography</th>\n",
       "      <th>domestic_international_ratio * Comedy</th>\n",
       "      <th>domestic_international_ratio * Crime</th>\n",
       "      <th>domestic_international_ratio * Documentary</th>\n",
       "      <th>domestic_international_ratio * Drama</th>\n",
       "      <th>domestic_international_ratio * Family</th>\n",
       "      <th>...</th>\n",
       "      <th>Short * Sport</th>\n",
       "      <th>Short * Thriller</th>\n",
       "      <th>Short * War</th>\n",
       "      <th>Short * Western</th>\n",
       "      <th>Sport * Thriller</th>\n",
       "      <th>Sport * War</th>\n",
       "      <th>Sport * Western</th>\n",
       "      <th>Thriller * War</th>\n",
       "      <th>Thriller * Western</th>\n",
       "      <th>War * Western</th>\n",
       "    </tr>\n",
       "  </thead>\n",
       "  <tbody>\n",
       "    <tr>\n",
       "      <th>2280</th>\n",
       "      <td>0</td>\n",
       "      <td>0</td>\n",
       "      <td>0</td>\n",
       "      <td>0</td>\n",
       "      <td>0</td>\n",
       "      <td>0</td>\n",
       "      <td>0</td>\n",
       "      <td>0</td>\n",
       "      <td>0</td>\n",
       "      <td>0</td>\n",
       "      <td>...</td>\n",
       "      <td>0</td>\n",
       "      <td>0</td>\n",
       "      <td>0</td>\n",
       "      <td>0</td>\n",
       "      <td>0</td>\n",
       "      <td>0</td>\n",
       "      <td>0</td>\n",
       "      <td>0</td>\n",
       "      <td>0</td>\n",
       "      <td>0</td>\n",
       "    </tr>\n",
       "    <tr>\n",
       "      <th>313</th>\n",
       "      <td>0</td>\n",
       "      <td>0</td>\n",
       "      <td>0</td>\n",
       "      <td>0</td>\n",
       "      <td>0</td>\n",
       "      <td>0</td>\n",
       "      <td>0</td>\n",
       "      <td>0</td>\n",
       "      <td>0</td>\n",
       "      <td>0</td>\n",
       "      <td>...</td>\n",
       "      <td>0</td>\n",
       "      <td>0</td>\n",
       "      <td>0</td>\n",
       "      <td>0</td>\n",
       "      <td>0</td>\n",
       "      <td>0</td>\n",
       "      <td>0</td>\n",
       "      <td>0</td>\n",
       "      <td>0</td>\n",
       "      <td>0</td>\n",
       "    </tr>\n",
       "    <tr>\n",
       "      <th>1387</th>\n",
       "      <td>0</td>\n",
       "      <td>0</td>\n",
       "      <td>0</td>\n",
       "      <td>0</td>\n",
       "      <td>0</td>\n",
       "      <td>0</td>\n",
       "      <td>0</td>\n",
       "      <td>0</td>\n",
       "      <td>0</td>\n",
       "      <td>0</td>\n",
       "      <td>...</td>\n",
       "      <td>0</td>\n",
       "      <td>0</td>\n",
       "      <td>0</td>\n",
       "      <td>0</td>\n",
       "      <td>0</td>\n",
       "      <td>0</td>\n",
       "      <td>0</td>\n",
       "      <td>0</td>\n",
       "      <td>0</td>\n",
       "      <td>0</td>\n",
       "    </tr>\n",
       "    <tr>\n",
       "      <th>1514</th>\n",
       "      <td>0</td>\n",
       "      <td>0</td>\n",
       "      <td>0</td>\n",
       "      <td>0</td>\n",
       "      <td>0</td>\n",
       "      <td>0</td>\n",
       "      <td>0</td>\n",
       "      <td>0</td>\n",
       "      <td>0</td>\n",
       "      <td>0</td>\n",
       "      <td>...</td>\n",
       "      <td>0</td>\n",
       "      <td>0</td>\n",
       "      <td>0</td>\n",
       "      <td>0</td>\n",
       "      <td>0</td>\n",
       "      <td>0</td>\n",
       "      <td>0</td>\n",
       "      <td>1</td>\n",
       "      <td>0</td>\n",
       "      <td>0</td>\n",
       "    </tr>\n",
       "    <tr>\n",
       "      <th>1341</th>\n",
       "      <td>0</td>\n",
       "      <td>0</td>\n",
       "      <td>0</td>\n",
       "      <td>0</td>\n",
       "      <td>0</td>\n",
       "      <td>0</td>\n",
       "      <td>0</td>\n",
       "      <td>0</td>\n",
       "      <td>0</td>\n",
       "      <td>0</td>\n",
       "      <td>...</td>\n",
       "      <td>0</td>\n",
       "      <td>0</td>\n",
       "      <td>0</td>\n",
       "      <td>0</td>\n",
       "      <td>0</td>\n",
       "      <td>0</td>\n",
       "      <td>0</td>\n",
       "      <td>0</td>\n",
       "      <td>0</td>\n",
       "      <td>0</td>\n",
       "    </tr>\n",
       "    <tr>\n",
       "      <th>...</th>\n",
       "      <td>...</td>\n",
       "      <td>...</td>\n",
       "      <td>...</td>\n",
       "      <td>...</td>\n",
       "      <td>...</td>\n",
       "      <td>...</td>\n",
       "      <td>...</td>\n",
       "      <td>...</td>\n",
       "      <td>...</td>\n",
       "      <td>...</td>\n",
       "      <td>...</td>\n",
       "      <td>...</td>\n",
       "      <td>...</td>\n",
       "      <td>...</td>\n",
       "      <td>...</td>\n",
       "      <td>...</td>\n",
       "      <td>...</td>\n",
       "      <td>...</td>\n",
       "      <td>...</td>\n",
       "      <td>...</td>\n",
       "      <td>...</td>\n",
       "    </tr>\n",
       "    <tr>\n",
       "      <th>218</th>\n",
       "      <td>0</td>\n",
       "      <td>0</td>\n",
       "      <td>0</td>\n",
       "      <td>0</td>\n",
       "      <td>0</td>\n",
       "      <td>0</td>\n",
       "      <td>0</td>\n",
       "      <td>0</td>\n",
       "      <td>0</td>\n",
       "      <td>0</td>\n",
       "      <td>...</td>\n",
       "      <td>0</td>\n",
       "      <td>0</td>\n",
       "      <td>0</td>\n",
       "      <td>0</td>\n",
       "      <td>1</td>\n",
       "      <td>0</td>\n",
       "      <td>0</td>\n",
       "      <td>0</td>\n",
       "      <td>0</td>\n",
       "      <td>0</td>\n",
       "    </tr>\n",
       "    <tr>\n",
       "      <th>2562</th>\n",
       "      <td>0</td>\n",
       "      <td>0</td>\n",
       "      <td>0</td>\n",
       "      <td>0</td>\n",
       "      <td>0</td>\n",
       "      <td>0</td>\n",
       "      <td>0</td>\n",
       "      <td>0</td>\n",
       "      <td>0</td>\n",
       "      <td>0</td>\n",
       "      <td>...</td>\n",
       "      <td>0</td>\n",
       "      <td>0</td>\n",
       "      <td>0</td>\n",
       "      <td>0</td>\n",
       "      <td>0</td>\n",
       "      <td>0</td>\n",
       "      <td>0</td>\n",
       "      <td>0</td>\n",
       "      <td>0</td>\n",
       "      <td>0</td>\n",
       "    </tr>\n",
       "    <tr>\n",
       "      <th>582</th>\n",
       "      <td>0</td>\n",
       "      <td>0</td>\n",
       "      <td>0</td>\n",
       "      <td>0</td>\n",
       "      <td>0</td>\n",
       "      <td>0</td>\n",
       "      <td>0</td>\n",
       "      <td>0</td>\n",
       "      <td>0</td>\n",
       "      <td>0</td>\n",
       "      <td>...</td>\n",
       "      <td>0</td>\n",
       "      <td>0</td>\n",
       "      <td>0</td>\n",
       "      <td>0</td>\n",
       "      <td>0</td>\n",
       "      <td>0</td>\n",
       "      <td>0</td>\n",
       "      <td>0</td>\n",
       "      <td>0</td>\n",
       "      <td>0</td>\n",
       "    </tr>\n",
       "    <tr>\n",
       "      <th>987</th>\n",
       "      <td>0</td>\n",
       "      <td>0</td>\n",
       "      <td>0</td>\n",
       "      <td>0</td>\n",
       "      <td>0</td>\n",
       "      <td>0</td>\n",
       "      <td>0</td>\n",
       "      <td>0</td>\n",
       "      <td>0</td>\n",
       "      <td>0</td>\n",
       "      <td>...</td>\n",
       "      <td>0</td>\n",
       "      <td>0</td>\n",
       "      <td>0</td>\n",
       "      <td>0</td>\n",
       "      <td>0</td>\n",
       "      <td>0</td>\n",
       "      <td>0</td>\n",
       "      <td>0</td>\n",
       "      <td>0</td>\n",
       "      <td>0</td>\n",
       "    </tr>\n",
       "    <tr>\n",
       "      <th>1136</th>\n",
       "      <td>0</td>\n",
       "      <td>0</td>\n",
       "      <td>0</td>\n",
       "      <td>0</td>\n",
       "      <td>0</td>\n",
       "      <td>0</td>\n",
       "      <td>0</td>\n",
       "      <td>0</td>\n",
       "      <td>0</td>\n",
       "      <td>0</td>\n",
       "      <td>...</td>\n",
       "      <td>0</td>\n",
       "      <td>0</td>\n",
       "      <td>0</td>\n",
       "      <td>0</td>\n",
       "      <td>0</td>\n",
       "      <td>0</td>\n",
       "      <td>0</td>\n",
       "      <td>0</td>\n",
       "      <td>0</td>\n",
       "      <td>0</td>\n",
       "    </tr>\n",
       "  </tbody>\n",
       "</table>\n",
       "<p>1954 rows × 351 columns</p>\n",
       "</div>"
      ],
      "text/plain": [
       "      domestic_international_ratio * Action  \\\n",
       "2280                                      0   \n",
       "313                                       0   \n",
       "1387                                      0   \n",
       "1514                                      0   \n",
       "1341                                      0   \n",
       "...                                     ...   \n",
       "218                                       0   \n",
       "2562                                      0   \n",
       "582                                       0   \n",
       "987                                       0   \n",
       "1136                                      0   \n",
       "\n",
       "      domestic_international_ratio * Adult  \\\n",
       "2280                                     0   \n",
       "313                                      0   \n",
       "1387                                     0   \n",
       "1514                                     0   \n",
       "1341                                     0   \n",
       "...                                    ...   \n",
       "218                                      0   \n",
       "2562                                     0   \n",
       "582                                      0   \n",
       "987                                      0   \n",
       "1136                                     0   \n",
       "\n",
       "      domestic_international_ratio * Adventure  \\\n",
       "2280                                         0   \n",
       "313                                          0   \n",
       "1387                                         0   \n",
       "1514                                         0   \n",
       "1341                                         0   \n",
       "...                                        ...   \n",
       "218                                          0   \n",
       "2562                                         0   \n",
       "582                                          0   \n",
       "987                                          0   \n",
       "1136                                         0   \n",
       "\n",
       "      domestic_international_ratio * Animation  \\\n",
       "2280                                         0   \n",
       "313                                          0   \n",
       "1387                                         0   \n",
       "1514                                         0   \n",
       "1341                                         0   \n",
       "...                                        ...   \n",
       "218                                          0   \n",
       "2562                                         0   \n",
       "582                                          0   \n",
       "987                                          0   \n",
       "1136                                         0   \n",
       "\n",
       "      domestic_international_ratio * Biography  \\\n",
       "2280                                         0   \n",
       "313                                          0   \n",
       "1387                                         0   \n",
       "1514                                         0   \n",
       "1341                                         0   \n",
       "...                                        ...   \n",
       "218                                          0   \n",
       "2562                                         0   \n",
       "582                                          0   \n",
       "987                                          0   \n",
       "1136                                         0   \n",
       "\n",
       "      domestic_international_ratio * Comedy  \\\n",
       "2280                                      0   \n",
       "313                                       0   \n",
       "1387                                      0   \n",
       "1514                                      0   \n",
       "1341                                      0   \n",
       "...                                     ...   \n",
       "218                                       0   \n",
       "2562                                      0   \n",
       "582                                       0   \n",
       "987                                       0   \n",
       "1136                                      0   \n",
       "\n",
       "      domestic_international_ratio * Crime  \\\n",
       "2280                                     0   \n",
       "313                                      0   \n",
       "1387                                     0   \n",
       "1514                                     0   \n",
       "1341                                     0   \n",
       "...                                    ...   \n",
       "218                                      0   \n",
       "2562                                     0   \n",
       "582                                      0   \n",
       "987                                      0   \n",
       "1136                                     0   \n",
       "\n",
       "      domestic_international_ratio * Documentary  \\\n",
       "2280                                           0   \n",
       "313                                            0   \n",
       "1387                                           0   \n",
       "1514                                           0   \n",
       "1341                                           0   \n",
       "...                                          ...   \n",
       "218                                            0   \n",
       "2562                                           0   \n",
       "582                                            0   \n",
       "987                                            0   \n",
       "1136                                           0   \n",
       "\n",
       "      domestic_international_ratio * Drama  \\\n",
       "2280                                     0   \n",
       "313                                      0   \n",
       "1387                                     0   \n",
       "1514                                     0   \n",
       "1341                                     0   \n",
       "...                                    ...   \n",
       "218                                      0   \n",
       "2562                                     0   \n",
       "582                                      0   \n",
       "987                                      0   \n",
       "1136                                     0   \n",
       "\n",
       "      domestic_international_ratio * Family  ...  Short * Sport  \\\n",
       "2280                                      0  ...              0   \n",
       "313                                       0  ...              0   \n",
       "1387                                      0  ...              0   \n",
       "1514                                      0  ...              0   \n",
       "1341                                      0  ...              0   \n",
       "...                                     ...  ...            ...   \n",
       "218                                       0  ...              0   \n",
       "2562                                      0  ...              0   \n",
       "582                                       0  ...              0   \n",
       "987                                       0  ...              0   \n",
       "1136                                      0  ...              0   \n",
       "\n",
       "      Short * Thriller  Short * War  Short * Western  Sport * Thriller  \\\n",
       "2280                 0            0                0                 0   \n",
       "313                  0            0                0                 0   \n",
       "1387                 0            0                0                 0   \n",
       "1514                 0            0                0                 0   \n",
       "1341                 0            0                0                 0   \n",
       "...                ...          ...              ...               ...   \n",
       "218                  0            0                0                 1   \n",
       "2562                 0            0                0                 0   \n",
       "582                  0            0                0                 0   \n",
       "987                  0            0                0                 0   \n",
       "1136                 0            0                0                 0   \n",
       "\n",
       "      Sport * War  Sport * Western  Thriller * War  Thriller * Western  \\\n",
       "2280            0                0               0                   0   \n",
       "313             0                0               0                   0   \n",
       "1387            0                0               0                   0   \n",
       "1514            0                0               1                   0   \n",
       "1341            0                0               0                   0   \n",
       "...           ...              ...             ...                 ...   \n",
       "218             0                0               0                   0   \n",
       "2562            0                0               0                   0   \n",
       "582             0                0               0                   0   \n",
       "987             0                0               0                   0   \n",
       "1136            0                0               0                   0   \n",
       "\n",
       "      War * Western  \n",
       "2280              0  \n",
       "313               0  \n",
       "1387              0  \n",
       "1514              0  \n",
       "1341              0  \n",
       "...             ...  \n",
       "218               0  \n",
       "2562              0  \n",
       "582               0  \n",
       "987               0  \n",
       "1136              0  \n",
       "\n",
       "[1954 rows x 351 columns]"
      ]
     },
     "execution_count": 44,
     "metadata": {},
     "output_type": "execute_result"
    }
   ],
   "source": [
    "X_train_interactions.iloc[:, 26:380]"
   ]
  },
  {
   "cell_type": "code",
   "execution_count": 45,
   "metadata": {},
   "outputs": [
    {
     "data": {
      "text/plain": [
       "0.18103101840627522"
      ]
     },
     "execution_count": 45,
     "metadata": {},
     "output_type": "execute_result"
    }
   ],
   "source": [
    "baseline_with_interactions = linear_model.LinearRegression()\n",
    "baseline_with_interactions.fit(X_train_interactions, y=y_train)\n",
    "baseline_with_interactions.score(X_train_interactions, y=y_train)"
   ]
  },
  {
   "cell_type": "markdown",
   "metadata": {},
   "source": [
    "**R^2 was doubled or so by introducing interaction terms. Important to note that this is probably over-fitting to this model, since there are probably just a few that pertain to Short War films for example.**"
   ]
  },
  {
   "cell_type": "markdown",
   "metadata": {},
   "source": [
    "Since it seems like the right direction, we'll add back in X_train_interactions to X_train."
   ]
  },
  {
   "cell_type": "code",
   "execution_count": 47,
   "metadata": {},
   "outputs": [
    {
     "data": {
      "text/html": [
       "<div>\n",
       "<style scoped>\n",
       "    .dataframe tbody tr th:only-of-type {\n",
       "        vertical-align: middle;\n",
       "    }\n",
       "\n",
       "    .dataframe tbody tr th {\n",
       "        vertical-align: top;\n",
       "    }\n",
       "\n",
       "    .dataframe thead th {\n",
       "        text-align: right;\n",
       "    }\n",
       "</style>\n",
       "<table border=\"1\" class=\"dataframe\">\n",
       "  <thead>\n",
       "    <tr style=\"text-align: right;\">\n",
       "      <th></th>\n",
       "      <th>world_revenue</th>\n",
       "      <th>distributor</th>\n",
       "      <th>imdbscore</th>\n",
       "      <th>domestic_international_ratio</th>\n",
       "      <th>Action</th>\n",
       "      <th>Adult</th>\n",
       "      <th>Adventure</th>\n",
       "      <th>Animation</th>\n",
       "      <th>Biography</th>\n",
       "      <th>Comedy</th>\n",
       "      <th>...</th>\n",
       "      <th>Mystery</th>\n",
       "      <th>News</th>\n",
       "      <th>Reality-TV</th>\n",
       "      <th>Romance</th>\n",
       "      <th>Sci-Fi</th>\n",
       "      <th>Short</th>\n",
       "      <th>Sport</th>\n",
       "      <th>Thriller</th>\n",
       "      <th>War</th>\n",
       "      <th>Western</th>\n",
       "    </tr>\n",
       "  </thead>\n",
       "  <tbody>\n",
       "    <tr>\n",
       "      <th>2280</th>\n",
       "      <td>3981</td>\n",
       "      <td>Strand Releasing</td>\n",
       "      <td>5.4</td>\n",
       "      <td>NaN</td>\n",
       "      <td>0</td>\n",
       "      <td>0</td>\n",
       "      <td>0</td>\n",
       "      <td>0</td>\n",
       "      <td>0</td>\n",
       "      <td>0</td>\n",
       "      <td>...</td>\n",
       "      <td>0</td>\n",
       "      <td>0</td>\n",
       "      <td>0</td>\n",
       "      <td>0</td>\n",
       "      <td>0</td>\n",
       "      <td>0</td>\n",
       "      <td>0</td>\n",
       "      <td>0</td>\n",
       "      <td>0</td>\n",
       "      <td>0</td>\n",
       "    </tr>\n",
       "    <tr>\n",
       "      <th>313</th>\n",
       "      <td>47269</td>\n",
       "      <td>Metrograph Pictures</td>\n",
       "      <td>6.7</td>\n",
       "      <td>5.226979</td>\n",
       "      <td>0</td>\n",
       "      <td>0</td>\n",
       "      <td>0</td>\n",
       "      <td>0</td>\n",
       "      <td>0</td>\n",
       "      <td>0</td>\n",
       "      <td>...</td>\n",
       "      <td>0</td>\n",
       "      <td>0</td>\n",
       "      <td>0</td>\n",
       "      <td>0</td>\n",
       "      <td>0</td>\n",
       "      <td>0</td>\n",
       "      <td>0</td>\n",
       "      <td>0</td>\n",
       "      <td>0</td>\n",
       "      <td>0</td>\n",
       "    </tr>\n",
       "    <tr>\n",
       "      <th>1387</th>\n",
       "      <td>36506</td>\n",
       "      <td>Entertainment One</td>\n",
       "      <td>7.8</td>\n",
       "      <td>NaN</td>\n",
       "      <td>0</td>\n",
       "      <td>0</td>\n",
       "      <td>0</td>\n",
       "      <td>0</td>\n",
       "      <td>0</td>\n",
       "      <td>0</td>\n",
       "      <td>...</td>\n",
       "      <td>0</td>\n",
       "      <td>0</td>\n",
       "      <td>0</td>\n",
       "      <td>0</td>\n",
       "      <td>0</td>\n",
       "      <td>0</td>\n",
       "      <td>0</td>\n",
       "      <td>0</td>\n",
       "      <td>0</td>\n",
       "      <td>0</td>\n",
       "    </tr>\n",
       "    <tr>\n",
       "      <th>1514</th>\n",
       "      <td>363307</td>\n",
       "      <td>GKIDS</td>\n",
       "      <td>6.5</td>\n",
       "      <td>6.134018</td>\n",
       "      <td>0</td>\n",
       "      <td>0</td>\n",
       "      <td>0</td>\n",
       "      <td>1</td>\n",
       "      <td>0</td>\n",
       "      <td>0</td>\n",
       "      <td>...</td>\n",
       "      <td>0</td>\n",
       "      <td>0</td>\n",
       "      <td>0</td>\n",
       "      <td>0</td>\n",
       "      <td>0</td>\n",
       "      <td>0</td>\n",
       "      <td>0</td>\n",
       "      <td>0</td>\n",
       "      <td>1</td>\n",
       "      <td>0</td>\n",
       "    </tr>\n",
       "    <tr>\n",
       "      <th>1341</th>\n",
       "      <td>2195706</td>\n",
       "      <td>Screen Media Films</td>\n",
       "      <td>5.0</td>\n",
       "      <td>0.011173</td>\n",
       "      <td>0</td>\n",
       "      <td>0</td>\n",
       "      <td>0</td>\n",
       "      <td>1</td>\n",
       "      <td>0</td>\n",
       "      <td>0</td>\n",
       "      <td>...</td>\n",
       "      <td>0</td>\n",
       "      <td>0</td>\n",
       "      <td>0</td>\n",
       "      <td>0</td>\n",
       "      <td>0</td>\n",
       "      <td>0</td>\n",
       "      <td>0</td>\n",
       "      <td>0</td>\n",
       "      <td>0</td>\n",
       "      <td>0</td>\n",
       "    </tr>\n",
       "    <tr>\n",
       "      <th>...</th>\n",
       "      <td>...</td>\n",
       "      <td>...</td>\n",
       "      <td>...</td>\n",
       "      <td>...</td>\n",
       "      <td>...</td>\n",
       "      <td>...</td>\n",
       "      <td>...</td>\n",
       "      <td>...</td>\n",
       "      <td>...</td>\n",
       "      <td>...</td>\n",
       "      <td>...</td>\n",
       "      <td>...</td>\n",
       "      <td>...</td>\n",
       "      <td>...</td>\n",
       "      <td>...</td>\n",
       "      <td>...</td>\n",
       "      <td>...</td>\n",
       "      <td>...</td>\n",
       "      <td>...</td>\n",
       "      <td>...</td>\n",
       "      <td>...</td>\n",
       "    </tr>\n",
       "    <tr>\n",
       "      <th>218</th>\n",
       "      <td>2911800</td>\n",
       "      <td>IFC Films</td>\n",
       "      <td>6.8</td>\n",
       "      <td>0.031161</td>\n",
       "      <td>0</td>\n",
       "      <td>0</td>\n",
       "      <td>0</td>\n",
       "      <td>0</td>\n",
       "      <td>0</td>\n",
       "      <td>0</td>\n",
       "      <td>...</td>\n",
       "      <td>0</td>\n",
       "      <td>0</td>\n",
       "      <td>0</td>\n",
       "      <td>0</td>\n",
       "      <td>0</td>\n",
       "      <td>0</td>\n",
       "      <td>0</td>\n",
       "      <td>1</td>\n",
       "      <td>0</td>\n",
       "      <td>0</td>\n",
       "    </tr>\n",
       "    <tr>\n",
       "      <th>2562</th>\n",
       "      <td>62398</td>\n",
       "      <td>Shout! Factory</td>\n",
       "      <td>5.9</td>\n",
       "      <td>NaN</td>\n",
       "      <td>0</td>\n",
       "      <td>0</td>\n",
       "      <td>0</td>\n",
       "      <td>0</td>\n",
       "      <td>0</td>\n",
       "      <td>1</td>\n",
       "      <td>...</td>\n",
       "      <td>0</td>\n",
       "      <td>0</td>\n",
       "      <td>0</td>\n",
       "      <td>0</td>\n",
       "      <td>0</td>\n",
       "      <td>0</td>\n",
       "      <td>0</td>\n",
       "      <td>0</td>\n",
       "      <td>0</td>\n",
       "      <td>0</td>\n",
       "    </tr>\n",
       "    <tr>\n",
       "      <th>582</th>\n",
       "      <td>260234</td>\n",
       "      <td>Fathom Events</td>\n",
       "      <td>3.1</td>\n",
       "      <td>NaN</td>\n",
       "      <td>0</td>\n",
       "      <td>0</td>\n",
       "      <td>1</td>\n",
       "      <td>0</td>\n",
       "      <td>0</td>\n",
       "      <td>0</td>\n",
       "      <td>...</td>\n",
       "      <td>0</td>\n",
       "      <td>0</td>\n",
       "      <td>0</td>\n",
       "      <td>0</td>\n",
       "      <td>1</td>\n",
       "      <td>0</td>\n",
       "      <td>0</td>\n",
       "      <td>0</td>\n",
       "      <td>0</td>\n",
       "      <td>0</td>\n",
       "    </tr>\n",
       "    <tr>\n",
       "      <th>987</th>\n",
       "      <td>91522094</td>\n",
       "      <td>Lionsgate</td>\n",
       "      <td>7.2</td>\n",
       "      <td>0.998610</td>\n",
       "      <td>0</td>\n",
       "      <td>0</td>\n",
       "      <td>0</td>\n",
       "      <td>0</td>\n",
       "      <td>0</td>\n",
       "      <td>0</td>\n",
       "      <td>...</td>\n",
       "      <td>0</td>\n",
       "      <td>0</td>\n",
       "      <td>0</td>\n",
       "      <td>1</td>\n",
       "      <td>0</td>\n",
       "      <td>0</td>\n",
       "      <td>0</td>\n",
       "      <td>0</td>\n",
       "      <td>0</td>\n",
       "      <td>0</td>\n",
       "    </tr>\n",
       "    <tr>\n",
       "      <th>1136</th>\n",
       "      <td>9512</td>\n",
       "      <td>GathrFilms</td>\n",
       "      <td>6.9</td>\n",
       "      <td>NaN</td>\n",
       "      <td>0</td>\n",
       "      <td>0</td>\n",
       "      <td>0</td>\n",
       "      <td>0</td>\n",
       "      <td>1</td>\n",
       "      <td>0</td>\n",
       "      <td>...</td>\n",
       "      <td>0</td>\n",
       "      <td>0</td>\n",
       "      <td>0</td>\n",
       "      <td>0</td>\n",
       "      <td>0</td>\n",
       "      <td>0</td>\n",
       "      <td>0</td>\n",
       "      <td>0</td>\n",
       "      <td>0</td>\n",
       "      <td>0</td>\n",
       "    </tr>\n",
       "  </tbody>\n",
       "</table>\n",
       "<p>1954 rows × 30 columns</p>\n",
       "</div>"
      ],
      "text/plain": [
       "      world_revenue          distributor  imdbscore  \\\n",
       "2280           3981     Strand Releasing        5.4   \n",
       "313           47269  Metrograph Pictures        6.7   \n",
       "1387          36506    Entertainment One        7.8   \n",
       "1514         363307                GKIDS        6.5   \n",
       "1341        2195706   Screen Media Films        5.0   \n",
       "...             ...                  ...        ...   \n",
       "218         2911800            IFC Films        6.8   \n",
       "2562          62398       Shout! Factory        5.9   \n",
       "582          260234        Fathom Events        3.1   \n",
       "987        91522094            Lionsgate        7.2   \n",
       "1136           9512           GathrFilms        6.9   \n",
       "\n",
       "      domestic_international_ratio  Action  Adult  Adventure  Animation  \\\n",
       "2280                           NaN       0      0          0          0   \n",
       "313                       5.226979       0      0          0          0   \n",
       "1387                           NaN       0      0          0          0   \n",
       "1514                      6.134018       0      0          0          1   \n",
       "1341                      0.011173       0      0          0          1   \n",
       "...                            ...     ...    ...        ...        ...   \n",
       "218                       0.031161       0      0          0          0   \n",
       "2562                           NaN       0      0          0          0   \n",
       "582                            NaN       0      0          1          0   \n",
       "987                       0.998610       0      0          0          0   \n",
       "1136                           NaN       0      0          0          0   \n",
       "\n",
       "      Biography  Comedy  ...  Mystery  News  Reality-TV  Romance  Sci-Fi  \\\n",
       "2280          0       0  ...        0     0           0        0       0   \n",
       "313           0       0  ...        0     0           0        0       0   \n",
       "1387          0       0  ...        0     0           0        0       0   \n",
       "1514          0       0  ...        0     0           0        0       0   \n",
       "1341          0       0  ...        0     0           0        0       0   \n",
       "...         ...     ...  ...      ...   ...         ...      ...     ...   \n",
       "218           0       0  ...        0     0           0        0       0   \n",
       "2562          0       1  ...        0     0           0        0       0   \n",
       "582           0       0  ...        0     0           0        0       1   \n",
       "987           0       0  ...        0     0           0        1       0   \n",
       "1136          1       0  ...        0     0           0        0       0   \n",
       "\n",
       "      Short  Sport  Thriller  War  Western  \n",
       "2280      0      0         0    0        0  \n",
       "313       0      0         0    0        0  \n",
       "1387      0      0         0    0        0  \n",
       "1514      0      0         0    1        0  \n",
       "1341      0      0         0    0        0  \n",
       "...     ...    ...       ...  ...      ...  \n",
       "218       0      0         1    0        0  \n",
       "2562      0      0         0    0        0  \n",
       "582       0      0         0    0        0  \n",
       "987       0      0         0    0        0  \n",
       "1136      0      0         0    0        0  \n",
       "\n",
       "[1954 rows x 30 columns]"
      ]
     },
     "execution_count": 47,
     "metadata": {},
     "output_type": "execute_result"
    }
   ],
   "source": [
    "X_train"
   ]
  },
  {
   "cell_type": "markdown",
   "metadata": {},
   "source": [
    "no domestic_international_ratio means there was no international release, so we can fill those to 0"
   ]
  },
  {
   "cell_type": "code",
   "execution_count": 65,
   "metadata": {},
   "outputs": [
    {
     "name": "stderr",
     "output_type": "stream",
     "text": [
      "/Users/liamisaacs/opt/anaconda3/lib/python3.8/site-packages/pandas/core/series.py:4517: SettingWithCopyWarning: \n",
      "A value is trying to be set on a copy of a slice from a DataFrame\n",
      "\n",
      "See the caveats in the documentation: https://pandas.pydata.org/pandas-docs/stable/user_guide/indexing.html#returning-a-view-versus-a-copy\n",
      "  return super().fillna(\n"
     ]
    }
   ],
   "source": [
    "X_train['domestic_international_ratio'].fillna(value=0, inplace=True)"
   ]
  },
  {
   "cell_type": "markdown",
   "metadata": {},
   "source": [
    "Add back-in our interaction terms to X_train"
   ]
  },
  {
   "cell_type": "code",
   "execution_count": 69,
   "metadata": {},
   "outputs": [],
   "source": [
    "X_train2 = X_train.merge(X_train_interactions.iloc[:, 26:380], how='inner', left_index=True, right_index=True)"
   ]
  },
  {
   "cell_type": "code",
   "execution_count": 49,
   "metadata": {},
   "outputs": [],
   "source": [
    "#I wanted to use cv to find these interactions but this code fails\n",
    "\n",
    "# regression = LinearRegression(normalize=True)\n",
    "# crossvalidation = KFold(n=X.shape[0], n_folds=10, shuffle=True, random_state=1)\n",
    "\n",
    "# df = pd.DataFrame(X_train.iloc[:, 3:31])\n",
    "# baseline = np.mean(cross_val_score(regression, X_train, y_train, cv=crossvalidation, scoring='r2',\n",
    "#  n_jobs=1))\n",
    "# interactions = list()\n",
    "# for i in X_train.iloc[:, 5:6]:\n",
    "#  for j in X_train.iloc[:, 3:4]:\n",
    "#   if i > j:\n",
    "#    X_train['interaction'] = X_train[i] * X_train[j]\n",
    "#    score = np.mean(cross_val_score(regression, X_train, y, scoring='r2',\n",
    "#     cv=crossvalidation, n_jobs=1))\n",
    "#    if score > baseline:\n",
    "#     interactions.append((i, j, round(score,3)))\n",
    "# print('Baseline R2: %.3f' % baseline)\n",
    "# print('Top 10 interactions: %s' % sorted(interactions, key=lambda x:x[2],\n",
    "#  reverse=True)[:10])"
   ]
  },
  {
   "cell_type": "markdown",
   "metadata": {},
   "source": [
    "### Feature engineering: add-in another feature, distributors"
   ]
  },
  {
   "cell_type": "markdown",
   "metadata": {},
   "source": [
    "Add-in distributors"
   ]
  },
  {
   "cell_type": "code",
   "execution_count": 71,
   "metadata": {},
   "outputs": [
    {
     "data": {
      "text/plain": [
       "Fathom Events             268\n",
       "Warner Bros.              200\n",
       "Universal Pictures        112\n",
       "IFC Films                 103\n",
       "Indican Pictures           81\n",
       "                         ... \n",
       "FilmBuff                    1\n",
       "OTL Releasing               1\n",
       "CineLife Entertainment      1\n",
       "The Film Collaborative      1\n",
       "Altered Innocence           1\n",
       "Name: distributor, Length: 264, dtype: int64"
      ]
     },
     "execution_count": 71,
     "metadata": {},
     "output_type": "execute_result"
    }
   ],
   "source": [
    "distributors = df.distributor.value_counts()\n",
    "distributors"
   ]
  },
  {
   "cell_type": "code",
   "execution_count": 75,
   "metadata": {},
   "outputs": [
    {
     "name": "stdout",
     "output_type": "stream",
     "text": [
      "Other distributor, defined as less than 10 movies/year, there were 244\n"
     ]
    }
   ],
   "source": [
    "other_distributors = list(distributors[distributors <= 40].index)\n",
    "print(\"Other distributor, defined as less than 10 movies/year, there were {}\".format(len(other_distributors)))\n"
   ]
  },
  {
   "cell_type": "code",
   "execution_count": 90,
   "metadata": {},
   "outputs": [],
   "source": [
    "X_train2['distributor'] = X_train2['distributor'].replace(other_distributors, 'Other')"
   ]
  },
  {
   "cell_type": "code",
   "execution_count": null,
   "metadata": {},
   "outputs": [],
   "source": [
    "genres = np.unique(', '.join(df_new['genres']).split(', '))\n",
    "genres = np.delete(genres, np.where(genres == 'NA'))\n",
    "for genre in genres:\n",
    "    df_new[genre] = df_new['genres'].str.contains(genre).astype('int')\n",
    "df_new.drop('genres', axis=1, inplace=True)"
   ]
  },
  {
   "cell_type": "code",
   "execution_count": 52,
   "metadata": {},
   "outputs": [
    {
     "name": "stdout",
     "output_type": "stream",
     "text": [
      "0\n"
     ]
    }
   ],
   "source": [
    "count = df_new[\"distributor\"].isna().sum()\n",
    "print(count)"
   ]
  },
  {
   "cell_type": "code",
   "execution_count": 53,
   "metadata": {},
   "outputs": [
    {
     "data": {
      "text/plain": [
       "Fathom Events             268\n",
       "Warner Bros.              200\n",
       "Universal Pictures        112\n",
       "IFC Films                 103\n",
       "Indican Pictures           81\n",
       "                         ... \n",
       "FilmBuff                    1\n",
       "OTL Releasing               1\n",
       "CineLife Entertainment      1\n",
       "The Film Collaborative      1\n",
       "Altered Innocence           1\n",
       "Name: distributor, Length: 264, dtype: int64"
      ]
     },
     "execution_count": 53,
     "metadata": {},
     "output_type": "execute_result"
    }
   ],
   "source": []
  },
  {
   "cell_type": "code",
   "execution_count": 54,
   "metadata": {},
   "outputs": [
    {
     "data": {
      "text/plain": [
       "<seaborn.axisgrid.FacetGrid at 0x7fd7eacdc3d0>"
      ]
     },
     "execution_count": 54,
     "metadata": {},
     "output_type": "execute_result"
    },
    {
     "data": {
      "image/png": "[encoded data removed]",
      "text/plain": [
       "<Figure size 360x360 with 1 Axes>"
      ]
     },
     "metadata": {},
     "output_type": "display_data"
    }
   ],
   "source": [
    "sns.displot(df_new, x=\"distributor\")"
   ]
  },
  {
   "cell_type": "code",
   "execution_count": 55,
   "metadata": {},
   "outputs": [],
   "source": []
  },
  {
   "cell_type": "code",
   "execution_count": 56,
   "metadata": {
    "scrolled": true
   },
   "outputs": [
    {
     "data": {
      "text/plain": [
       "229"
      ]
     },
     "execution_count": 56,
     "metadata": {},
     "output_type": "execute_result"
    }
   ],
   "source": []
  },
  {
   "cell_type": "code",
   "execution_count": 57,
   "metadata": {},
   "outputs": [],
   "source": [
    "def split_and_validate(X, y):\n",
    "    '''\n",
    "    For a set of features and target X, y, perform a 80/20 train/val split, \n",
    "    fit and validate a linear regression model, and report results\n",
    "    '''\n",
    "    \n",
    "    # perform train/val split\n",
    "    X_train, X_val, y_train, y_val = \\\n",
    "        train_test_split(X, y, test_size=0.2, random_state=42)\n",
    "    \n",
    "    # fit linear regression to training data\n",
    "    lr_model = LinearRegression()\n",
    "    lr_model.fit(X_train, y_train)\n",
    "    \n",
    "    # score fit model on validation data\n",
    "    val_score = lr_model.score(X_val, y_val)\n",
    "    \n",
    "    # report results\n",
    "    print('\\nValidation R^2 score was:', val_score)\n",
    "    print('Feature coefficient results: \\n')\n",
    "    for feature, coef in zip(X.columns, lr_model.coef_):\n",
    "        print(feature, ':', f'{coef:.2f}')"
   ]
  },
  {
   "cell_type": "code",
   "execution_count": 58,
   "metadata": {
    "scrolled": true
   },
   "outputs": [],
   "source": [
    "X5 = df_new.copy()\n",
    "\n",
    "X5['distributor'] = df_new['distributor'].replace(other_distributors, 'Other')\n",
    "X5['distributor'] = X5['distributor'].str.replace(\" \",\"\")\n"
   ]
  },
  {
   "cell_type": "code",
   "execution_count": 59,
   "metadata": {
    "scrolled": true
   },
   "outputs": [
    {
     "ename": "KeyError",
     "evalue": "'mojo_title'",
     "output_type": "error",
     "traceback": [
      "\u001b[0;31m---------------------------------------------------------------------------\u001b[0m",
      "\u001b[0;31mKeyError\u001b[0m                                  Traceback (most recent call last)",
      "\u001b[0;32m~/opt/anaconda3/lib/python3.8/site-packages/pandas/core/indexes/base.py\u001b[0m in \u001b[0;36mget_loc\u001b[0;34m(self, key, method, tolerance)\u001b[0m\n\u001b[1;32m   2894\u001b[0m             \u001b[0;32mtry\u001b[0m\u001b[0;34m:\u001b[0m\u001b[0;34m\u001b[0m\u001b[0;34m\u001b[0m\u001b[0m\n\u001b[0;32m-> 2895\u001b[0;31m                 \u001b[0;32mreturn\u001b[0m \u001b[0mself\u001b[0m\u001b[0;34m.\u001b[0m\u001b[0m_engine\u001b[0m\u001b[0;34m.\u001b[0m\u001b[0mget_loc\u001b[0m\u001b[0;34m(\u001b[0m\u001b[0mcasted_key\u001b[0m\u001b[0;34m)\u001b[0m\u001b[0;34m\u001b[0m\u001b[0;34m\u001b[0m\u001b[0m\n\u001b[0m\u001b[1;32m   2896\u001b[0m             \u001b[0;32mexcept\u001b[0m \u001b[0mKeyError\u001b[0m \u001b[0;32mas\u001b[0m \u001b[0merr\u001b[0m\u001b[0;34m:\u001b[0m\u001b[0;34m\u001b[0m\u001b[0;34m\u001b[0m\u001b[0m\n",
      "\u001b[0;32mpandas/_libs/index.pyx\u001b[0m in \u001b[0;36mpandas._libs.index.IndexEngine.get_loc\u001b[0;34m()\u001b[0m\n",
      "\u001b[0;32mpandas/_libs/index.pyx\u001b[0m in \u001b[0;36mpandas._libs.index.IndexEngine.get_loc\u001b[0;34m()\u001b[0m\n",
      "\u001b[0;32mpandas/_libs/hashtable_class_helper.pxi\u001b[0m in \u001b[0;36mpandas._libs.hashtable.PyObjectHashTable.get_item\u001b[0;34m()\u001b[0m\n",
      "\u001b[0;32mpandas/_libs/hashtable_class_helper.pxi\u001b[0m in \u001b[0;36mpandas._libs.hashtable.PyObjectHashTable.get_item\u001b[0;34m()\u001b[0m\n",
      "\u001b[0;31mKeyError\u001b[0m: 'mojo_title'",
      "\nThe above exception was the direct cause of the following exception:\n",
      "\u001b[0;31mKeyError\u001b[0m                                  Traceback (most recent call last)",
      "\u001b[0;32m<ipython-input-59-e74640221b8b>\u001b[0m in \u001b[0;36m<module>\u001b[0;34m\u001b[0m\n\u001b[0;32m----> 1\u001b[0;31m \u001b[0mX5\u001b[0m\u001b[0;34m[\u001b[0m\u001b[0mX5\u001b[0m\u001b[0;34m[\u001b[0m\u001b[0;34m'mojo_title'\u001b[0m\u001b[0;34m]\u001b[0m \u001b[0;34m==\u001b[0m \u001b[0;34m'Worlds Apart'\u001b[0m\u001b[0;34m]\u001b[0m\u001b[0;34m\u001b[0m\u001b[0;34m\u001b[0m\u001b[0m\n\u001b[0m",
      "\u001b[0;32m~/opt/anaconda3/lib/python3.8/site-packages/pandas/core/frame.py\u001b[0m in \u001b[0;36m__getitem__\u001b[0;34m(self, key)\u001b[0m\n\u001b[1;32m   2900\u001b[0m             \u001b[0;32mif\u001b[0m \u001b[0mself\u001b[0m\u001b[0;34m.\u001b[0m\u001b[0mcolumns\u001b[0m\u001b[0;34m.\u001b[0m\u001b[0mnlevels\u001b[0m \u001b[0;34m>\u001b[0m \u001b[0;36m1\u001b[0m\u001b[0;34m:\u001b[0m\u001b[0;34m\u001b[0m\u001b[0;34m\u001b[0m\u001b[0m\n\u001b[1;32m   2901\u001b[0m                 \u001b[0;32mreturn\u001b[0m \u001b[0mself\u001b[0m\u001b[0;34m.\u001b[0m\u001b[0m_getitem_multilevel\u001b[0m\u001b[0;34m(\u001b[0m\u001b[0mkey\u001b[0m\u001b[0;34m)\u001b[0m\u001b[0;34m\u001b[0m\u001b[0;34m\u001b[0m\u001b[0m\n\u001b[0;32m-> 2902\u001b[0;31m             \u001b[0mindexer\u001b[0m \u001b[0;34m=\u001b[0m \u001b[0mself\u001b[0m\u001b[0;34m.\u001b[0m\u001b[0mcolumns\u001b[0m\u001b[0;34m.\u001b[0m\u001b[0mget_loc\u001b[0m\u001b[0;34m(\u001b[0m\u001b[0mkey\u001b[0m\u001b[0;34m)\u001b[0m\u001b[0;34m\u001b[0m\u001b[0;34m\u001b[0m\u001b[0m\n\u001b[0m\u001b[1;32m   2903\u001b[0m             \u001b[0;32mif\u001b[0m \u001b[0mis_integer\u001b[0m\u001b[0;34m(\u001b[0m\u001b[0mindexer\u001b[0m\u001b[0;34m)\u001b[0m\u001b[0;34m:\u001b[0m\u001b[0;34m\u001b[0m\u001b[0;34m\u001b[0m\u001b[0m\n\u001b[1;32m   2904\u001b[0m                 \u001b[0mindexer\u001b[0m \u001b[0;34m=\u001b[0m \u001b[0;34m[\u001b[0m\u001b[0mindexer\u001b[0m\u001b[0;34m]\u001b[0m\u001b[0;34m\u001b[0m\u001b[0;34m\u001b[0m\u001b[0m\n",
      "\u001b[0;32m~/opt/anaconda3/lib/python3.8/site-packages/pandas/core/indexes/base.py\u001b[0m in \u001b[0;36mget_loc\u001b[0;34m(self, key, method, tolerance)\u001b[0m\n\u001b[1;32m   2895\u001b[0m                 \u001b[0;32mreturn\u001b[0m \u001b[0mself\u001b[0m\u001b[0;34m.\u001b[0m\u001b[0m_engine\u001b[0m\u001b[0;34m.\u001b[0m\u001b[0mget_loc\u001b[0m\u001b[0;34m(\u001b[0m\u001b[0mcasted_key\u001b[0m\u001b[0;34m)\u001b[0m\u001b[0;34m\u001b[0m\u001b[0;34m\u001b[0m\u001b[0m\n\u001b[1;32m   2896\u001b[0m             \u001b[0;32mexcept\u001b[0m \u001b[0mKeyError\u001b[0m \u001b[0;32mas\u001b[0m \u001b[0merr\u001b[0m\u001b[0;34m:\u001b[0m\u001b[0;34m\u001b[0m\u001b[0;34m\u001b[0m\u001b[0m\n\u001b[0;32m-> 2897\u001b[0;31m                 \u001b[0;32mraise\u001b[0m \u001b[0mKeyError\u001b[0m\u001b[0;34m(\u001b[0m\u001b[0mkey\u001b[0m\u001b[0;34m)\u001b[0m \u001b[0;32mfrom\u001b[0m \u001b[0merr\u001b[0m\u001b[0;34m\u001b[0m\u001b[0;34m\u001b[0m\u001b[0m\n\u001b[0m\u001b[1;32m   2898\u001b[0m \u001b[0;34m\u001b[0m\u001b[0m\n\u001b[1;32m   2899\u001b[0m         \u001b[0;32mif\u001b[0m \u001b[0mtolerance\u001b[0m \u001b[0;32mis\u001b[0m \u001b[0;32mnot\u001b[0m \u001b[0;32mNone\u001b[0m\u001b[0;34m:\u001b[0m\u001b[0;34m\u001b[0m\u001b[0;34m\u001b[0m\u001b[0m\n",
      "\u001b[0;31mKeyError\u001b[0m: 'mojo_title'"
     ]
    }
   ],
   "source": [
    "X5[X5['mojo_title'] == 'Worlds Apart']"
   ]
  },
  {
   "cell_type": "code",
   "execution_count": null,
   "metadata": {},
   "outputs": [],
   "source": [
    "X5 = pd.get_dummies(X5, columns=['distributor'])"
   ]
  },
  {
   "cell_type": "code",
   "execution_count": null,
   "metadata": {},
   "outputs": [],
   "source": [
    "X5.columns"
   ]
  },
  {
   "cell_type": "code",
   "execution_count": null,
   "metadata": {},
   "outputs": [],
   "source": [
    "X5\n"
   ]
  },
  {
   "cell_type": "code",
   "execution_count": null,
   "metadata": {},
   "outputs": [],
   "source": [
    "add_in_more_features = X5.iloc[:, 10:]"
   ]
  },
  {
   "cell_type": "code",
   "execution_count": null,
   "metadata": {},
   "outputs": [],
   "source": [
    "add_in_more_features.columns"
   ]
  },
  {
   "cell_type": "code",
   "execution_count": null,
   "metadata": {},
   "outputs": [],
   "source": [
    "new_lr = LinearRegression()\n",
    "new_lr.fit(add_in_more_features, target)\n",
    "new_lr.score(add_in_more_features, target)\n"
   ]
  },
  {
   "cell_type": "code",
   "execution_count": null,
   "metadata": {},
   "outputs": [],
   "source": []
  },
  {
   "cell_type": "code",
   "execution_count": null,
   "metadata": {},
   "outputs": [],
   "source": []
  },
  {
   "cell_type": "markdown",
   "metadata": {},
   "source": [
    "Nice, that raised our R^2 by .3!"
   ]
  },
  {
   "cell_type": "code",
   "execution_count": null,
   "metadata": {},
   "outputs": [],
   "source": [
    "new_lr.coef_"
   ]
  },
  {
   "cell_type": "markdown",
   "metadata": {},
   "source": [
    "What if I minimize the size of these coefficients.."
   ]
  },
  {
   "cell_type": "markdown",
   "metadata": {},
   "source": [
    "LASSO/RIDGE regression"
   ]
  },
  {
   "cell_type": "markdown",
   "metadata": {},
   "source": [
    "#1 lasso"
   ]
  },
  {
   "cell_type": "code",
   "execution_count": null,
   "metadata": {},
   "outputs": [],
   "source": [
    "add_in_more_features.columns\n",
    "more_features_list = add_in_more_features.columns.values.tolist()\n"
   ]
  },
  {
   "cell_type": "code",
   "execution_count": null,
   "metadata": {},
   "outputs": [],
   "source": [
    "X_train_val, X_test, y_train_val, y_test = train_test_split(X5, y, test_size=0.2,random_state=42)\n",
    "X_train, X_val, y_train, y_val = train_test_split(X_train_val, y_train_val, test_size=.25, random_state=43)"
   ]
  },
  {
   "cell_type": "code",
   "execution_count": null,
   "metadata": {},
   "outputs": [],
   "source": [
    "lasso_model = Lasso(alpha = 0.01) # this is a VERY HIGH regularization strength!, wouldn't usually be used\n",
    "lasso_model.fit(X_train.loc[:,more_features_list], y_train)\n",
    "list(zip(more_features_list, lasso_model.coef_))"
   ]
  },
  {
   "cell_type": "code",
   "execution_count": null,
   "metadata": {},
   "outputs": [],
   "source": [
    "test_set_pred = lasso_model.predict(X_test.loc[:,more_features_list])\n",
    "\n",
    "def mae(y_true, y_pred):\n",
    "    return np.mean(np.abs(y_pred - y_true)) \n",
    "\n",
    "mae(y_test, test_set_pred)"
   ]
  },
  {
   "cell_type": "code",
   "execution_count": null,
   "metadata": {},
   "outputs": [],
   "source": []
  },
  {
   "cell_type": "markdown",
   "metadata": {},
   "source": [
    "Yay some of the coefficients have been zeroed-out!"
   ]
  },
  {
   "cell_type": "markdown",
   "metadata": {},
   "source": [
    "#2 Ridge"
   ]
  },
  {
   "cell_type": "code",
   "execution_count": null,
   "metadata": {},
   "outputs": [],
   "source": [
    "lr_model_ridge = Ridge(alpha = 0.01)\n",
    "lr_model_ridge.fit(X_train.loc[:,more_features_list], y_train)\n",
    "list(zip(more_features_list, lr_model_ridge.coef_))\n",
    "\n"
   ]
  },
  {
   "cell_type": "markdown",
   "metadata": {},
   "source": [
    "Minimizes the coefficients still, but still we have so many features the model becomes hard to read"
   ]
  },
  {
   "cell_type": "code",
   "execution_count": null,
   "metadata": {},
   "outputs": [],
   "source": [
    "test_set_pred = lasso_model.predict(X_test.loc[:,more_features_list])\n"
   ]
  },
  {
   "cell_type": "code",
   "execution_count": null,
   "metadata": {
    "scrolled": true
   },
   "outputs": [],
   "source": [
    "%matplotlib inline\n",
    "plt.figure(figsize=(8, 6))\n",
    "sns.set_style(style='white') \n",
    "# plt.scatter(test_set_pred, y_test, alpha=.1,  scatter_kws={\"color\": \"black\"}, line_kws={\"color\": \"red\"})\n",
    "ax = sns.regplot(x=test_set_pred, y=y_test, color=\"black\")\n",
    "ax.set_title(\"Residual plot of model\", fontsize=30, weight='bold', y=1.1)\n",
    "\n",
    "plt.xlabel('Predicted value', fontsize=14)\n",
    "plt.ylabel('Actual value', fontsize=16)\n",
    "plt.plot()"
   ]
  },
  {
   "cell_type": "code",
   "execution_count": null,
   "metadata": {},
   "outputs": [],
   "source": [
    "df['predicted_imdb'] = lasso_model.prext()"
   ]
  },
  {
   "cell_type": "code",
   "execution_count": null,
   "metadata": {},
   "outputs": [],
   "source": []
  },
  {
   "cell_type": "code",
   "execution_count": null,
   "metadata": {},
   "outputs": [],
   "source": []
  },
  {
   "cell_type": "code",
   "execution_count": null,
   "metadata": {},
   "outputs": [],
   "source": []
  },
  {
   "cell_type": "code",
   "execution_count": null,
   "metadata": {},
   "outputs": [],
   "source": []
  },
  {
   "cell_type": "code",
   "execution_count": null,
   "metadata": {},
   "outputs": [],
   "source": [
    "r2_score(y_test, test_set_pred)\n"
   ]
  },
  {
   "cell_type": "code",
   "execution_count": null,
   "metadata": {},
   "outputs": [],
   "source": [
    "#Mean Absolute Error (MAE)\n",
    "def mae(y_true, y_pred):\n",
    "    return np.mean(np.abs(y_pred - y_true)) \n",
    "\n",
    "mae(y_test, test_set_pred)"
   ]
  },
  {
   "cell_type": "markdown",
   "metadata": {},
   "source": [
    "Tr > Te by .1, which indicates we are *overfitting*. We can use **stronger regularization** to combat this problem, we can try to manually change alpha, or we can find the best value of the regularization strength programmatically."
   ]
  },
  {
   "cell_type": "code",
   "execution_count": null,
   "metadata": {},
   "outputs": [],
   "source": [
    "import numpy as np\n",
    "from sklearn.preprocessing import PolynomialFeatures\n"
   ]
  },
  {
   "cell_type": "code",
   "execution_count": null,
   "metadata": {},
   "outputs": [],
   "source": [
    "poly = PolynomialFeatures(interaction_only=True)\n",
    "poly.fit_transform(X_train.loc[:,more_features_list])\n"
   ]
  },
  {
   "cell_type": "code",
   "execution_count": null,
   "metadata": {},
   "outputs": [],
   "source": []
  },
  {
   "cell_type": "code",
   "execution_count": null,
   "metadata": {},
   "outputs": [],
   "source": [
    "#plot the curve of validation error as alpha changes\n",
    "\n",
    "plt.plot(np.log10(alphalist), err_vec_val)"
   ]
  },
  {
   "cell_type": "code",
   "execution_count": null,
   "metadata": {},
   "outputs": [],
   "source": [
    "## This is the minimum error achieved on the validation set \n",
    "## across the different alpha values we tried\n",
    "np.min(err_vec_val)"
   ]
  },
  {
   "cell_type": "code",
   "execution_count": null,
   "metadata": {},
   "outputs": [],
   "source": [
    "## This is the value of alpha that gave us the lowest error\n",
    "\n",
    "alphalist[np.argmin(err_vec_val)]\n"
   ]
  },
  {
   "cell_type": "markdown",
   "metadata": {},
   "source": [
    "### Cross-validate with LassoCV to find the best alpha"
   ]
  },
  {
   "cell_type": "markdown",
   "metadata": {},
   "source": [
    "Instead of using a program to plot error as we change alpha (on validation data), and taking the minimum of that slope, we can use cross-validation. Here, we run 5-fold cross-validation to retrive the optimal value of alpha"
   ]
  },
  {
   "cell_type": "code",
   "execution_count": null,
   "metadata": {},
   "outputs": [],
   "source": [
    "alphavec = 10**np.linspace(-2,2,200)\n",
    "\n",
    "lasso_model = LassoCV(alphas = alphavec, cv=5)\n",
    "lasso_model.fit(X_train.loc[:,more_features_list], y_train)"
   ]
  },
  {
   "cell_type": "code",
   "execution_count": null,
   "metadata": {},
   "outputs": [],
   "source": [
    "lasso_model.alpha_\n"
   ]
  },
  {
   "cell_type": "markdown",
   "metadata": {},
   "source": [
    "By cross-validating and by using calculus (find min.), we reason the best value of alpha we will get is 0.01."
   ]
  },
  {
   "cell_type": "markdown",
   "metadata": {},
   "source": [
    "Refit it..."
   ]
  },
  {
   "cell_type": "code",
   "execution_count": null,
   "metadata": {},
   "outputs": [],
   "source": [
    "list(zip(X_train.columns, lasso_model.coef_))\n"
   ]
  },
  {
   "cell_type": "code",
   "execution_count": null,
   "metadata": {},
   "outputs": [],
   "source": [
    "mae(y_test, test_set_pred)\n"
   ]
  },
  {
   "cell_type": "code",
   "execution_count": null,
   "metadata": {},
   "outputs": [],
   "source": [
    "X5"
   ]
  },
  {
   "cell_type": "code",
   "execution_count": null,
   "metadata": {},
   "outputs": [],
   "source": [
    "y = X5['imdbscore']\n"
   ]
  },
  {
   "cell_type": "code",
   "execution_count": null,
   "metadata": {},
   "outputs": [],
   "source": [
    "len(y)"
   ]
  },
  {
   "cell_type": "code",
   "execution_count": null,
   "metadata": {},
   "outputs": [],
   "source": [
    "lasso_model = Lasso(alpha = 0.01) # this is a VERY HIGH regularization strength!, wouldn't usually be used\n",
    "lasso_model.fit(X5.loc[:,more_features_list], y)\n",
    "\n",
    "X5['pred'] = lasso_model.predict(X5.loc[:,more_features_list])"
   ]
  },
  {
   "cell_type": "code",
   "execution_count": null,
   "metadata": {},
   "outputs": [],
   "source": [
    "X5"
   ]
  },
  {
   "cell_type": "code",
   "execution_count": null,
   "metadata": {},
   "outputs": [],
   "source": [
    "df_final = df.merge(X5, on=\"mojo_title\", how=\"right\")"
   ]
  },
  {
   "cell_type": "code",
   "execution_count": null,
   "metadata": {},
   "outputs": [],
   "source": [
    "df_final.columns"
   ]
  },
  {
   "cell_type": "code",
   "execution_count": null,
   "metadata": {},
   "outputs": [],
   "source": [
    "r2_score(y_test, test_set_pred)\n"
   ]
  },
  {
   "cell_type": "code",
   "execution_count": null,
   "metadata": {},
   "outputs": [],
   "source": [
    "from sklearn.linear_model import lars_path\n"
   ]
  },
  {
   "cell_type": "markdown",
   "metadata": {},
   "source": [
    "Stepwise regression is a variable selection procedure for independent variables. It consists of a series of steps designed to find the most useful X-variables to include in a regression model.\n",
    "\n",
    "It's a *forward selection* process since once a variable is selected it cannot be removed from the model.\n",
    "\n"
   ]
  },
  {
   "cell_type": "code",
   "execution_count": null,
   "metadata": {},
   "outputs": [],
   "source": [
    "X, y = df_new, df_new['imdbscore']"
   ]
  },
  {
   "cell_type": "code",
   "execution_count": null,
   "metadata": {},
   "outputs": [],
   "source": [
    "lasso_model = Lasso(alpha = 0.01) # this is a VERY HIGH regularization strength!, wouldn't usually be used\n",
    "lasso_model.fit(X.loc[:,more_features_list], y)\n",
    "list(zip(more_features_list, lasso_model.coef_))"
   ]
  },
  {
   "cell_type": "code",
   "execution_count": null,
   "metadata": {},
   "outputs": [],
   "source": [
    "X5['pred'] = test_"
   ]
  },
  {
   "cell_type": "code",
   "execution_count": null,
   "metadata": {},
   "outputs": [],
   "source": [
    "mangodb_df = df.merge()"
   ]
  },
  {
   "cell_type": "code",
   "execution_count": null,
   "metadata": {},
   "outputs": [],
   "source": []
  },
  {
   "cell_type": "markdown",
   "metadata": {},
   "source": [
    "can always get back to title since index order is const. || look at residuals then join movie titles back in"
   ]
  },
  {
   "cell_type": "markdown",
   "metadata": {},
   "source": [
    "--"
   ]
  },
  {
   "cell_type": "markdown",
   "metadata": {},
   "source": [
    "- use standard scaler & a couple lines of code to incorporate LASSO/RIDGE regression\n",
    "- "
   ]
  },
  {
   "cell_type": "code",
   "execution_count": null,
   "metadata": {},
   "outputs": [],
   "source": []
  },
  {
   "cell_type": "markdown",
   "metadata": {},
   "source": [
    "- ratio btwn domestic and international?\n",
    "- complex movies who don't share the same language\n",
    "- easy-acceptable movies \n",
    "- interactions, horror by this studio is good, mine those sorts of conclusions\n",
    "- not expecting .8, get it as high as possible\n",
    "- what movies I can predict well, which ones I can't\n"
   ]
  },
  {
   "cell_type": "code",
   "execution_count": null,
   "metadata": {},
   "outputs": [],
   "source": [
    "df.info"
   ]
  },
  {
   "cell_type": "code",
   "execution_count": null,
   "metadata": {},
   "outputs": [],
   "source": [
    "df = df.dropna(subset=['imdbscore'])"
   ]
  },
  {
   "cell_type": "code",
   "execution_count": null,
   "metadata": {},
   "outputs": [],
   "source": [
    "df_new.info"
   ]
  },
  {
   "cell_type": "code",
   "execution_count": null,
   "metadata": {},
   "outputs": [],
   "source": [
    "df['imdbscore']"
   ]
  }
 ],
 "metadata": {
  "kernelspec": {
   "display_name": "Python 3",
   "language": "python",
   "name": "python3"
  },
  "language_info": {
   "codemirror_mode": {
    "name": "ipython",
    "version": 3
   },
   "file_extension": ".py",
   "mimetype": "text/x-python",
   "name": "python",
   "nbconvert_exporter": "python",
   "pygments_lexer": "ipython3",
   "version": "3.8.5"
  }
 },
 "nbformat": 4,
 "nbformat_minor": 4
}
