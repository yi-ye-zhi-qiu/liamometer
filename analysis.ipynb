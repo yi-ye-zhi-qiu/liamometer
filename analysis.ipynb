{
 "cells": [
  {
   "cell_type": "markdown",
   "metadata": {},
   "source": [
    "# Linear regression analysis"
   ]
  },
  {
   "cell_type": "markdown",
   "metadata": {},
   "source": [
    "## Roadmap of this notebook: \n",
    "- Merge in, do some last-minute cleaning of data\n",
    "  - Quick-maths bar graph\n",
    "  - IMDB, Metacritic, RottenTomatoes, discussion on imputing mean for N/As, and why we will not use RottenTomaotes data moving forward, and only go with IMDb\n",
    "  - Result: 2,601 rows\n",
    "- Analyze\n",
    "  - Train/val/holdout split\n",
    "  - One-hot-encoding of genre\n",
    "  - Target variable as IMDb\n",
    "  - Baseline linear regression (R^2 = ?)\n",
    "  - **** FEATURE ENGINEERING *****\n",
    "  - Add interaction terms between genres (Horror Thriller for instance)\n",
    "  - R^2 = ?\n",
    "  - Add polynomial interaction term between domestic/international and genre\n",
    "  - R^2 = ?\n",
    "  - \n",
    "  "
   ]
  },
  {
   "cell_type": "code",
   "execution_count": 1,
   "metadata": {},
   "outputs": [],
   "source": [
    "import pandas as pd\n",
    "import glob\n",
    "from functools import reduce\n",
    "import numpy as np\n",
    "import re\n",
    "from sklearn.model_selection import train_test_split\n",
    "from sklearn.preprocessing import StandardScaler, PolynomialFeatures, OneHotEncoder\n",
    "from sklearn.linear_model import LinearRegression, Lasso, LassoCV, Ridge, RidgeCV\n",
    "from sklearn.metrics import r2_score\n",
    "import pandas as pd\n",
    "import matplotlib.pyplot as plt\n",
    "import numpy as np\n",
    "from sklearn.linear_model import LinearRegression\n",
    "import seaborn as sns"
   ]
  },
  {
   "cell_type": "code",
   "execution_count": 2,
   "metadata": {
    "scrolled": false
   },
   "outputs": [
    {
     "data": {
      "text/plain": [
       "<bound method Series.count of 0                                          Made in France\n",
       "1                                                  Realms\n",
       "2                                   Postcards from London\n",
       "3                                          Over the Limit\n",
       "4       Tall Tales from the Magical Garden of Antoon K...\n",
       "                              ...                        \n",
       "3102        Star Wars: Episode IX - The Rise of Skywalker\n",
       "3103                              Jumanji: The Next Level\n",
       "3104                                   Sonic the Hedgehog\n",
       "3105                                                 1917\n",
       "3106                                    Bad Boys for Life\n",
       "Name: mojo_title, Length: 3107, dtype: object>"
      ]
     },
     "execution_count": 2,
     "metadata": {},
     "output_type": "execute_result"
    }
   ],
   "source": [
    "mojo = pd.read_csv('data/mojo_revised.csv')\n",
    "imdb = pd.read_csv('data/imdb.csv')\n",
    "metacritic = pd.read_csv('data/metacritic.csv')\n",
    "tomato = pd.read_csv('data/rotten_tomatoes.csv')\n",
    "heirloom = pd.read_csv('data/heirloom.csv')\n",
    "mojo.rename(columns={\"title\": \"mojo_title\"}, inplace=True)\n",
    "heirloom.set_index(['mojo_title'])\n",
    "mojo.set_index(['mojo_title'])\n",
    "imdb.set_index(['mojo_title'])\n",
    "metacritic.set_index(['mojo_title'])\n",
    "tomato.set_index(['mojo_title'])\n",
    "\n",
    "mojo['mojo_title'].count"
   ]
  },
  {
   "cell_type": "code",
   "execution_count": 3,
   "metadata": {},
   "outputs": [],
   "source": [
    "#Our webscraping resulted in some unwanted duplicates (it can be due to a variety of reasons)\n",
    "#As a result, after verifying they contain the same information, I will remove them\n",
    "mojo[mojo.duplicated(subset=['mojo_title'])].sort_values(by='mojo_title').head(10)\n",
    "mojo = mojo.drop_duplicates(subset=['mojo_title'])"
   ]
  },
  {
   "cell_type": "markdown",
   "metadata": {},
   "source": [
    "# House-cleaning: have to merge heirloom into tomato"
   ]
  },
  {
   "cell_type": "code",
   "execution_count": 4,
   "metadata": {},
   "outputs": [
    {
     "data": {
      "text/plain": [
       "(2771, 6)"
      ]
     },
     "execution_count": 4,
     "metadata": {},
     "output_type": "execute_result"
    }
   ],
   "source": [
    "tomato.shape"
   ]
  },
  {
   "cell_type": "code",
   "execution_count": 5,
   "metadata": {},
   "outputs": [
    {
     "data": {
      "text/plain": [
       "(2685, 5)"
      ]
     },
     "execution_count": 5,
     "metadata": {},
     "output_type": "execute_result"
    }
   ],
   "source": [
    "heirloom.shape"
   ]
  },
  {
   "cell_type": "code",
   "execution_count": 6,
   "metadata": {},
   "outputs": [],
   "source": [
    "tomato_final = tomato.merge(heirloom, on='mojo_title', how='left')"
   ]
  },
  {
   "cell_type": "code",
   "execution_count": 7,
   "metadata": {},
   "outputs": [
    {
     "data": {
      "text/plain": [
       "(2771, 10)"
      ]
     },
     "execution_count": 7,
     "metadata": {},
     "output_type": "execute_result"
    }
   ],
   "source": [
    "tomato_final.shape"
   ]
  },
  {
   "cell_type": "code",
   "execution_count": 8,
   "metadata": {},
   "outputs": [],
   "source": [
    "tomato_final = tomato_final.drop(['url_y', 'tomato_criticcount_x'], axis=1)"
   ]
  },
  {
   "cell_type": "code",
   "execution_count": 9,
   "metadata": {},
   "outputs": [],
   "source": [
    "tomato_final = tomato_final.rename(columns={\"tomato_criticcount_y\":\"tomato_criticcount\", \"url_x\":\"url\"})\n"
   ]
  },
  {
   "cell_type": "code",
   "execution_count": 10,
   "metadata": {},
   "outputs": [],
   "source": [
    "tomato_final = tomato_final.dropna(subset=['tomato_image'])"
   ]
  },
  {
   "cell_type": "code",
   "execution_count": 11,
   "metadata": {
    "scrolled": false
   },
   "outputs": [],
   "source": [
    "def get_img_url(df):  \n",
    "    return re.findall('(?<=data-src).*$', df)[0][2:-2]\n",
    "tomato_final['tomato_image'] = tomato_final['tomato_image'].apply(get_img_url)"
   ]
  },
  {
   "cell_type": "code",
   "execution_count": 12,
   "metadata": {},
   "outputs": [
    {
     "data": {
      "text/plain": [
       "(2658, 8)"
      ]
     },
     "execution_count": 12,
     "metadata": {},
     "output_type": "execute_result"
    }
   ],
   "source": [
    "tomato_final.shape"
   ]
  },
  {
   "cell_type": "markdown",
   "metadata": {},
   "source": [
    "## Mojo is our primary dataset. Let's see if we have an even amount across the years."
   ]
  },
  {
   "cell_type": "code",
   "execution_count": 13,
   "metadata": {},
   "outputs": [],
   "source": [
    "mojo['release_year'] = [x.strip()[-4:] for x in mojo['release_days'].astype(str)]\n"
   ]
  },
  {
   "cell_type": "code",
   "execution_count": 14,
   "metadata": {},
   "outputs": [],
   "source": [
    "movies_in_year = [pd.to_numeric(mojo['mojo_title'][mojo['release_year'] == '2016'].shape)[0], \n",
    "                  pd.to_numeric(mojo['mojo_title'][mojo['release_year'] == '2017'].shape)[0], \n",
    "                  pd.to_numeric(mojo['mojo_title'][mojo['release_year'] == '2018'].shape)[0], \n",
    "                  pd.to_numeric(mojo['mojo_title'][mojo['release_year'] == '2019'].shape)[0], \n",
    "                  pd.to_numeric(mojo['mojo_title'][mojo['release_year'] == '2020'].shape)[0]]"
   ]
  },
  {
   "cell_type": "code",
   "execution_count": 15,
   "metadata": {},
   "outputs": [
    {
     "data": {
      "text/plain": [
       "[98, 682, 825, 760, 298]"
      ]
     },
     "execution_count": 15,
     "metadata": {},
     "output_type": "execute_result"
    }
   ],
   "source": [
    "movies_in_year"
   ]
  },
  {
   "cell_type": "code",
   "execution_count": 16,
   "metadata": {},
   "outputs": [
    {
     "data": {
      "image/png": "[encoded data removed]",
      "text/plain": [
       "<Figure size 432x288 with 1 Axes>"
      ]
     },
     "metadata": {
      "needs_background": "light"
     },
     "output_type": "display_data"
    }
   ],
   "source": [
    "index = ['2016', '2017', '2018',\n",
    "         '2019', '2020']\n",
    "df_plot = pd.DataFrame({'#_movies': movies_in_year}, index=index)\n",
    "ax = df_plot.plot.bar(rot=0)"
   ]
  },
  {
   "cell_type": "markdown",
   "metadata": {},
   "source": [
    "## Merge in IMDB"
   ]
  },
  {
   "cell_type": "markdown",
   "metadata": {},
   "source": []
  },
  {
   "cell_type": "code",
   "execution_count": 17,
   "metadata": {},
   "outputs": [],
   "source": [
    "# mojo.drop_duplicates(subset='mojo_title', inplace=True)\n",
    "imdb.drop_duplicates(subset='mojo_title', inplace=True)\n",
    "\n",
    "mojo['mojo_title'] = mojo['mojo_title'].str.strip()\n",
    "imdb['mojo_title'] = imdb['mojo_title'].str.strip()"
   ]
  },
  {
   "cell_type": "code",
   "execution_count": 18,
   "metadata": {},
   "outputs": [
    {
     "data": {
      "text/plain": [
       "<bound method Series.count of 0                                          Made in France\n",
       "1                                                  Realms\n",
       "2                                   Postcards from London\n",
       "3                                          Over the Limit\n",
       "4       Tall Tales from the Magical Garden of Antoon K...\n",
       "                              ...                        \n",
       "3098                                    The Invisible Man\n",
       "3100                                             Dolittle\n",
       "3101                                        Birds of Prey\n",
       "3104                                   Sonic the Hedgehog\n",
       "3106                                    Bad Boys for Life\n",
       "Name: mojo_title, Length: 2777, dtype: object>"
      ]
     },
     "execution_count": 18,
     "metadata": {},
     "output_type": "execute_result"
    }
   ],
   "source": [
    "mojo['mojo_title'].count"
   ]
  },
  {
   "cell_type": "code",
   "execution_count": 19,
   "metadata": {},
   "outputs": [],
   "source": [
    "df1 = mojo.merge(imdb, on='mojo_title', how='left')\n",
    "\n",
    "#This does not return 3107 rows, it returns 3369. I checked below that these duplicates are in fact the exact same\n",
    "#across columns and that no information loss occurs.\n",
    "#\n",
    "#As a result, it is OK by me to just drop these duplicates.\n"
   ]
  },
  {
   "cell_type": "code",
   "execution_count": 20,
   "metadata": {},
   "outputs": [
    {
     "data": {
      "text/plain": [
       "<bound method Series.count of 0                                          Made in France\n",
       "1                                                  Realms\n",
       "2                                   Postcards from London\n",
       "3                                          Over the Limit\n",
       "4       Tall Tales from the Magical Garden of Antoon K...\n",
       "                              ...                        \n",
       "2772                                    The Invisible Man\n",
       "2773                                             Dolittle\n",
       "2774                                        Birds of Prey\n",
       "2775                                   Sonic the Hedgehog\n",
       "2776                                    Bad Boys for Life\n",
       "Name: mojo_title, Length: 2777, dtype: object>"
      ]
     },
     "execution_count": 20,
     "metadata": {},
     "output_type": "execute_result"
    }
   ],
   "source": [
    "df1['mojo_title'].count"
   ]
  },
  {
   "cell_type": "markdown",
   "metadata": {},
   "source": [
    "Row count still == 2777. Merge worked."
   ]
  },
  {
   "cell_type": "markdown",
   "metadata": {},
   "source": [
    "## Merge in metacritic\n",
    "1) Drop duplicates"
   ]
  },
  {
   "cell_type": "code",
   "execution_count": 21,
   "metadata": {},
   "outputs": [
    {
     "data": {
      "text/plain": [
       "<bound method Series.count of 0       Star Wars: Episode VIII - The Last Jedi\n",
       "1                           Annabelle: Creation\n",
       "2                  Murder on the Orient Express\n",
       "3                                Daddy's Home 2\n",
       "4                           Fifty Shades Darker\n",
       "                         ...                   \n",
       "1966                                      Logan\n",
       "1967                            Despicable Me 3\n",
       "1968                             Thor: Ragnarok\n",
       "1969                     Spider-Man: Homecoming\n",
       "1970             Guardians of the Galaxy Vol. 2\n",
       "Name: mojo_title, Length: 1971, dtype: object>"
      ]
     },
     "execution_count": 21,
     "metadata": {},
     "output_type": "execute_result"
    }
   ],
   "source": [
    "metacritic['mojo_title'].count"
   ]
  },
  {
   "cell_type": "code",
   "execution_count": 22,
   "metadata": {},
   "outputs": [],
   "source": [
    "metacritic.drop_duplicates(subset='mojo_title', inplace=True)"
   ]
  },
  {
   "cell_type": "code",
   "execution_count": 23,
   "metadata": {},
   "outputs": [
    {
     "data": {
      "text/plain": [
       "<bound method Series.count of 0       Star Wars: Episode VIII - The Last Jedi\n",
       "1                           Annabelle: Creation\n",
       "2                  Murder on the Orient Express\n",
       "3                                Daddy's Home 2\n",
       "4                           Fifty Shades Darker\n",
       "                         ...                   \n",
       "1966                                      Logan\n",
       "1967                            Despicable Me 3\n",
       "1968                             Thor: Ragnarok\n",
       "1969                     Spider-Man: Homecoming\n",
       "1970             Guardians of the Galaxy Vol. 2\n",
       "Name: mojo_title, Length: 1822, dtype: object>"
      ]
     },
     "execution_count": 23,
     "metadata": {},
     "output_type": "execute_result"
    }
   ],
   "source": [
    "metacritic['mojo_title'].count"
   ]
  },
  {
   "cell_type": "code",
   "execution_count": 24,
   "metadata": {},
   "outputs": [],
   "source": [
    "df2 = df1.merge(metacritic, on='mojo_title', how='left')"
   ]
  },
  {
   "cell_type": "code",
   "execution_count": 25,
   "metadata": {
    "scrolled": true
   },
   "outputs": [
    {
     "data": {
      "text/plain": [
       "<bound method Series.count of 0                                          Made in France\n",
       "1                                                  Realms\n",
       "2                                   Postcards from London\n",
       "3                                          Over the Limit\n",
       "4       Tall Tales from the Magical Garden of Antoon K...\n",
       "                              ...                        \n",
       "2772                                    The Invisible Man\n",
       "2773                                             Dolittle\n",
       "2774                                        Birds of Prey\n",
       "2775                                   Sonic the Hedgehog\n",
       "2776                                    Bad Boys for Life\n",
       "Name: mojo_title, Length: 2777, dtype: object>"
      ]
     },
     "execution_count": 25,
     "metadata": {},
     "output_type": "execute_result"
    }
   ],
   "source": [
    "df2['mojo_title'].count"
   ]
  },
  {
   "cell_type": "markdown",
   "metadata": {},
   "source": [
    "Row count still == 2,777. Merge worked."
   ]
  },
  {
   "cell_type": "markdown",
   "metadata": {},
   "source": [
    "## Merge in RottenTomatoes"
   ]
  },
  {
   "cell_type": "markdown",
   "metadata": {},
   "source": [
    "1) Drop duplicates"
   ]
  },
  {
   "cell_type": "code",
   "execution_count": 26,
   "metadata": {},
   "outputs": [
    {
     "data": {
      "text/plain": [
       "<bound method Series.count of 1                Annabelle: Creation\n",
       "2       Murder on the Orient Express\n",
       "3                     Daddy's Home 2\n",
       "4                        Baby Driver\n",
       "5                Fifty Shades Darker\n",
       "                    ...             \n",
       "2765         The Fate of the Furious\n",
       "2766                           Logan\n",
       "2767                 Despicable Me 3\n",
       "2768                              It\n",
       "2769          Spider-Man: Homecoming\n",
       "Name: mojo_title, Length: 2658, dtype: object>"
      ]
     },
     "execution_count": 26,
     "metadata": {},
     "output_type": "execute_result"
    }
   ],
   "source": [
    "tomato_final['mojo_title'].count"
   ]
  },
  {
   "cell_type": "code",
   "execution_count": 27,
   "metadata": {},
   "outputs": [],
   "source": [
    "tomato_final.drop_duplicates(subset='mojo_title', inplace=True)"
   ]
  },
  {
   "cell_type": "code",
   "execution_count": 28,
   "metadata": {},
   "outputs": [
    {
     "data": {
      "text/plain": [
       "<bound method Series.count of 1                Annabelle: Creation\n",
       "2       Murder on the Orient Express\n",
       "3                     Daddy's Home 2\n",
       "4                        Baby Driver\n",
       "5                Fifty Shades Darker\n",
       "                    ...             \n",
       "2765         The Fate of the Furious\n",
       "2766                           Logan\n",
       "2767                 Despicable Me 3\n",
       "2768                              It\n",
       "2769          Spider-Man: Homecoming\n",
       "Name: mojo_title, Length: 2658, dtype: object>"
      ]
     },
     "execution_count": 28,
     "metadata": {},
     "output_type": "execute_result"
    }
   ],
   "source": [
    "tomato_final['mojo_title'].count"
   ]
  },
  {
   "cell_type": "code",
   "execution_count": 29,
   "metadata": {},
   "outputs": [],
   "source": [
    "df = df2.merge(tomato_final, on='mojo_title', how='left')"
   ]
  },
  {
   "cell_type": "code",
   "execution_count": 30,
   "metadata": {},
   "outputs": [
    {
     "data": {
      "text/plain": [
       "<bound method Series.count of 0                                          Made in France\n",
       "1                                                  Realms\n",
       "2                                   Postcards from London\n",
       "3                                          Over the Limit\n",
       "4       Tall Tales from the Magical Garden of Antoon K...\n",
       "                              ...                        \n",
       "2772                                    The Invisible Man\n",
       "2773                                             Dolittle\n",
       "2774                                        Birds of Prey\n",
       "2775                                   Sonic the Hedgehog\n",
       "2776                                    Bad Boys for Life\n",
       "Name: mojo_title, Length: 2777, dtype: object>"
      ]
     },
     "execution_count": 30,
     "metadata": {},
     "output_type": "execute_result"
    }
   ],
   "source": [
    "df['mojo_title'].count"
   ]
  },
  {
   "cell_type": "markdown",
   "metadata": {},
   "source": [
    "Row count still == 2,777. Merge worked."
   ]
  },
  {
   "cell_type": "markdown",
   "metadata": {},
   "source": [
    "Sanity check: do we have any duplicates. Notice that now I am looking at **tomato_title** from RottenTomatoes. This'll tell us if BoxOfficeMojo thinks a movie's unique, but RottenTomatoes thinks the two are identical."
   ]
  },
  {
   "cell_type": "code",
   "execution_count": 31,
   "metadata": {},
   "outputs": [
    {
     "data": {
      "text/plain": [
       "True"
      ]
     },
     "execution_count": 31,
     "metadata": {},
     "output_type": "execute_result"
    }
   ],
   "source": [
    "boolean = not df[\"tomato_title\"].is_unique      \n",
    "boolean = df['tomato_title'].duplicated().any() \n",
    "boolean"
   ]
  },
  {
   "cell_type": "markdown",
   "metadata": {},
   "source": [
    "Answer: yes! Duplicates == \"N/A\" from Rotten Tomatoes. This can be proved by firstly finding that there are 120 \n",
    "duplicated rows."
   ]
  },
  {
   "cell_type": "code",
   "execution_count": 32,
   "metadata": {},
   "outputs": [
    {
     "data": {
      "text/plain": [
       "120"
      ]
     },
     "execution_count": 32,
     "metadata": {},
     "output_type": "execute_result"
    }
   ],
   "source": [
    "len(df[df.duplicated(subset=['tomato_title'])].sort_values(by='mojo_title'))"
   ]
  },
  {
   "cell_type": "code",
   "execution_count": 33,
   "metadata": {},
   "outputs": [
    {
     "data": {
      "text/html": [
       "<div>\n",
       "<style scoped>\n",
       "    .dataframe tbody tr th:only-of-type {\n",
       "        vertical-align: middle;\n",
       "    }\n",
       "\n",
       "    .dataframe tbody tr th {\n",
       "        vertical-align: top;\n",
       "    }\n",
       "\n",
       "    .dataframe thead th {\n",
       "        text-align: right;\n",
       "    }\n",
       "</style>\n",
       "<table border=\"1\" class=\"dataframe\">\n",
       "  <thead>\n",
       "    <tr style=\"text-align: right;\">\n",
       "      <th></th>\n",
       "      <th>mojo_title</th>\n",
       "      <th>domestic_revenue</th>\n",
       "      <th>international_reveneue</th>\n",
       "      <th>world_revenue</th>\n",
       "      <th>distributor</th>\n",
       "      <th>opening_revenue</th>\n",
       "      <th>opening_theaters</th>\n",
       "      <th>budget</th>\n",
       "      <th>MPAA</th>\n",
       "      <th>genres</th>\n",
       "      <th>...</th>\n",
       "      <th>mc_criticcount</th>\n",
       "      <th>mc_audiencescore</th>\n",
       "      <th>mc_audiencecount</th>\n",
       "      <th>url</th>\n",
       "      <th>tomato_title</th>\n",
       "      <th>tomato_criticscore</th>\n",
       "      <th>tomato_audiencescore</th>\n",
       "      <th>tomato_criticcount</th>\n",
       "      <th>tomato_audiencecount</th>\n",
       "      <th>tomato_image</th>\n",
       "    </tr>\n",
       "  </thead>\n",
       "  <tbody>\n",
       "    <tr>\n",
       "      <th>2684</th>\n",
       "      <td>100% Wolf</td>\n",
       "      <td>$512,805</td>\n",
       "      <td>$4,101,865</td>\n",
       "      <td>$4,614,670</td>\n",
       "      <td>Viva Pictures</td>\n",
       "      <td>NaN</td>\n",
       "      <td>124 theaters</td>\n",
       "      <td>NaN</td>\n",
       "      <td>PG</td>\n",
       "      <td>Adventure, Animation, Comedy, Family, Fantasy</td>\n",
       "      <td>...</td>\n",
       "      <td>15</td>\n",
       "      <td>No score yet</td>\n",
       "      <td>NaN</td>\n",
       "      <td>NaN</td>\n",
       "      <td>NaN</td>\n",
       "      <td>NaN</td>\n",
       "      <td>NaN</td>\n",
       "      <td>NaN</td>\n",
       "      <td>NaN</td>\n",
       "      <td>NaN</td>\n",
       "    </tr>\n",
       "    <tr>\n",
       "      <th>677</th>\n",
       "      <td>1917</td>\n",
       "      <td>$159,227,644</td>\n",
       "      <td>$225,679,098</td>\n",
       "      <td>$384,906,742</td>\n",
       "      <td>Universal Pictures</td>\n",
       "      <td>$576,216</td>\n",
       "      <td>3,987 theaters</td>\n",
       "      <td>$95,000,000</td>\n",
       "      <td>R</td>\n",
       "      <td>Drama, Thriller, War</td>\n",
       "      <td>...</td>\n",
       "      <td>57</td>\n",
       "      <td>8.4</td>\n",
       "      <td>812</td>\n",
       "      <td>NaN</td>\n",
       "      <td>NaN</td>\n",
       "      <td>NaN</td>\n",
       "      <td>NaN</td>\n",
       "      <td>NaN</td>\n",
       "      <td>NaN</td>\n",
       "      <td>NaN</td>\n",
       "    </tr>\n",
       "    <tr>\n",
       "      <th>2734</th>\n",
       "      <td>2020 Oscar Nominated Short Films</td>\n",
       "      <td>$3,306,611</td>\n",
       "      <td>NaN</td>\n",
       "      <td>$3,306,611</td>\n",
       "      <td>Magnolia Pictures</td>\n",
       "      <td>$1,155,505</td>\n",
       "      <td>536 theaters</td>\n",
       "      <td>NaN</td>\n",
       "      <td>NaN</td>\n",
       "      <td>NaN</td>\n",
       "      <td>...</td>\n",
       "      <td>NaN</td>\n",
       "      <td>NaN</td>\n",
       "      <td>NaN</td>\n",
       "      <td>NaN</td>\n",
       "      <td>NaN</td>\n",
       "      <td>NaN</td>\n",
       "      <td>NaN</td>\n",
       "      <td>NaN</td>\n",
       "      <td>NaN</td>\n",
       "      <td>NaN</td>\n",
       "    </tr>\n",
       "    <tr>\n",
       "      <th>1767</th>\n",
       "      <td>2:22</td>\n",
       "      <td>$422</td>\n",
       "      <td>$3,945,307</td>\n",
       "      <td>$3,945,729</td>\n",
       "      <td>Magnolia Pictures</td>\n",
       "      <td>$294</td>\n",
       "      <td>3 theaters</td>\n",
       "      <td>NaN</td>\n",
       "      <td>PG-13</td>\n",
       "      <td>Drama, Mystery, Sci-Fi, Thriller</td>\n",
       "      <td>...</td>\n",
       "      <td>NaN</td>\n",
       "      <td>NaN</td>\n",
       "      <td>NaN</td>\n",
       "      <td>NaN</td>\n",
       "      <td>NaN</td>\n",
       "      <td>NaN</td>\n",
       "      <td>NaN</td>\n",
       "      <td>NaN</td>\n",
       "      <td>NaN</td>\n",
       "      <td>NaN</td>\n",
       "    </tr>\n",
       "    <tr>\n",
       "      <th>458</th>\n",
       "      <td>42nd Street: The Musical</td>\n",
       "      <td>$187,440</td>\n",
       "      <td>$1,834,653</td>\n",
       "      <td>$2,022,093</td>\n",
       "      <td>Fathom Events</td>\n",
       "      <td>NaN</td>\n",
       "      <td>515 theaters</td>\n",
       "      <td>NaN</td>\n",
       "      <td>Not Rated</td>\n",
       "      <td>Musical</td>\n",
       "      <td>...</td>\n",
       "      <td>NaN</td>\n",
       "      <td>NaN</td>\n",
       "      <td>NaN</td>\n",
       "      <td>NaN</td>\n",
       "      <td>NaN</td>\n",
       "      <td>NaN</td>\n",
       "      <td>NaN</td>\n",
       "      <td>NaN</td>\n",
       "      <td>NaN</td>\n",
       "      <td>NaN</td>\n",
       "    </tr>\n",
       "  </tbody>\n",
       "</table>\n",
       "<p>5 rows × 27 columns</p>\n",
       "</div>"
      ],
      "text/plain": [
       "                            mojo_title domestic_revenue  \\\n",
       "2684                         100% Wolf         $512,805   \n",
       "677                               1917     $159,227,644   \n",
       "2734  2020 Oscar Nominated Short Films       $3,306,611   \n",
       "1767                              2:22             $422   \n",
       "458           42nd Street: The Musical         $187,440   \n",
       "\n",
       "     international_reveneue world_revenue         distributor opening_revenue  \\\n",
       "2684             $4,101,865    $4,614,670       Viva Pictures             NaN   \n",
       "677            $225,679,098  $384,906,742  Universal Pictures        $576,216   \n",
       "2734                    NaN    $3,306,611   Magnolia Pictures      $1,155,505   \n",
       "1767             $3,945,307    $3,945,729   Magnolia Pictures            $294   \n",
       "458              $1,834,653    $2,022,093       Fathom Events             NaN   \n",
       "\n",
       "     opening_theaters       budget       MPAA  \\\n",
       "2684     124 theaters          NaN         PG   \n",
       "677    3,987 theaters  $95,000,000          R   \n",
       "2734     536 theaters          NaN        NaN   \n",
       "1767       3 theaters          NaN      PG-13   \n",
       "458      515 theaters          NaN  Not Rated   \n",
       "\n",
       "                                             genres  ... mc_criticcount  \\\n",
       "2684  Adventure, Animation, Comedy, Family, Fantasy  ...             15   \n",
       "677                            Drama, Thriller, War  ...             57   \n",
       "2734                                            NaN  ...            NaN   \n",
       "1767               Drama, Mystery, Sci-Fi, Thriller  ...            NaN   \n",
       "458                                         Musical  ...            NaN   \n",
       "\n",
       "     mc_audiencescore mc_audiencecount  url tomato_title tomato_criticscore  \\\n",
       "2684     No score yet              NaN  NaN          NaN                NaN   \n",
       "677               8.4              812  NaN          NaN                NaN   \n",
       "2734              NaN              NaN  NaN          NaN                NaN   \n",
       "1767              NaN              NaN  NaN          NaN                NaN   \n",
       "458               NaN              NaN  NaN          NaN                NaN   \n",
       "\n",
       "     tomato_audiencescore tomato_criticcount tomato_audiencecount tomato_image  \n",
       "2684                  NaN                NaN                  NaN          NaN  \n",
       "677                   NaN                NaN                  NaN          NaN  \n",
       "2734                  NaN                NaN                  NaN          NaN  \n",
       "1767                  NaN                NaN                  NaN          NaN  \n",
       "458                   NaN                NaN                  NaN          NaN  \n",
       "\n",
       "[5 rows x 27 columns]"
      ]
     },
     "execution_count": 33,
     "metadata": {},
     "output_type": "execute_result"
    }
   ],
   "source": [
    "df[df.duplicated(subset=['tomato_title'])].sort_values(by='mojo_title').head()"
   ]
  },
  {
   "cell_type": "code",
   "execution_count": 34,
   "metadata": {},
   "outputs": [
    {
     "data": {
      "text/plain": [
       "121"
      ]
     },
     "execution_count": 34,
     "metadata": {},
     "output_type": "execute_result"
    }
   ],
   "source": [
    "df['tomato_title'].isnull().sum(axis = 0)"
   ]
  },
  {
   "cell_type": "markdown",
   "metadata": {},
   "source": [
    "*Note*: numbers differ by 1 due to len starting at 0, sum does not."
   ]
  },
  {
   "cell_type": "markdown",
   "metadata": {},
   "source": [
    "## How to handle null review values?"
   ]
  },
  {
   "cell_type": "markdown",
   "metadata": {},
   "source": [
    "This will become a topic of discussion that is at the heart of *all* our wonder,\n",
    "how to count when our values stray from read-able? \n",
    "\n",
    "What is a \"NaN\" review? Why are the values \"N/A\"?\n",
    "\n",
    "The answer comes from our webscraper code. \"N/A\" happens when the site could not be found; this is just part of what\n",
    "we accept when the code relies on a search algorithm to hopefully find us a movie link from a movie name. \n",
    "\n",
    "It's possible RottenTomatoes does not score international movies, for instance, so they lack critical pieces\n",
    "of our population - these N/A are non-random, we can't ignore.\n",
    "\n",
    "**What now?**\n",
    "\n",
    "We cannot disregard these movies -- they are important pieces of data.\n",
    "\n",
    "As it will turn out later in our review, **rotten tomatoes scores are highly non-normal** so they are seemingly\n",
    "untrustworthy anyway. Using this information, we will set them to the average of the RottenTomatoes distribution\n",
    "(the mean), which we find below."
   ]
  },
  {
   "cell_type": "code",
   "execution_count": 35,
   "metadata": {},
   "outputs": [
    {
     "data": {
      "text/plain": [
       "0"
      ]
     },
     "execution_count": 35,
     "metadata": {},
     "output_type": "execute_result"
    }
   ],
   "source": [
    "tomato_scores = df\n",
    "tomato_scores.dropna(subset=['tomato_title'], inplace=True)\n",
    "tomato_scores['tomato_title'].isnull().sum(axis=0)"
   ]
  },
  {
   "cell_type": "code",
   "execution_count": 36,
   "metadata": {},
   "outputs": [
    {
     "name": "stderr",
     "output_type": "stream",
     "text": [
      "/Users/liamisaacs/opt/anaconda3/lib/python3.8/site-packages/seaborn/_decorators.py:36: FutureWarning: Pass the following variable as a keyword arg: x. From version 0.12, the only valid positional argument will be `data`, and passing other arguments without an explicit keyword will result in an error or misinterpretation.\n",
      "  warnings.warn(\n",
      "/Users/liamisaacs/opt/anaconda3/lib/python3.8/site-packages/seaborn/distributions.py:2551: FutureWarning: `distplot` is a deprecated function and will be removed in a future version. Please adapt your code to use either `displot` (a figure-level function with similar flexibility) or `histplot` (an axes-level function for histograms).\n",
      "  warnings.warn(msg, FutureWarning)\n"
     ]
    },
    {
     "data": {
      "image/png": "[encoded data removed]",
      "text/plain": [
       "<Figure size 432x288 with 2 Axes>"
      ]
     },
     "metadata": {
      "needs_background": "light"
     },
     "output_type": "display_data"
    }
   ],
   "source": [
    "import seaborn as sns\n",
    "\n",
    "f, (ax_box, ax_hist) = plt.subplots(2, sharex=True, gridspec_kw= {\"height_ratios\": (0.2, 1)})\n",
    "mean=df['tomato_criticscore'].mean()\n",
    "median=df['tomato_criticscore'].median()\n",
    "\n",
    "sns.boxplot(df[\"tomato_criticscore\"], ax=ax_box)\n",
    "ax_box.axvline(mean, color='r', linestyle='--')\n",
    "ax_box.axvline(median, color='g', linestyle='-')\n",
    "\n",
    "sns.distplot(df[\"tomato_criticscore\"], ax=ax_hist)\n",
    "ax_hist.axvline(mean, color='r', linestyle='--')\n",
    "ax_hist.axvline(median, color='g', linestyle='-')\n",
    "\n",
    "plt.legend({'Mean':mean,'Median':median})\n",
    "\n",
    "ax_box.set(xlabel='')\n",
    "plt.show()"
   ]
  },
  {
   "cell_type": "markdown",
   "metadata": {},
   "source": [
    "*Take-away*: RottenTomatoes critic scores are heavily skewed left, the mean is to the right of the peak (=71.52). \n",
    "This indicates \"review inflation\", where more reviews tend to be positive, even in the 90-100 range."
   ]
  },
  {
   "cell_type": "markdown",
   "metadata": {},
   "source": [
    "### Just for fun, we can also do this for audience scores on Rotten Tomatoes"
   ]
  },
  {
   "cell_type": "code",
   "execution_count": 37,
   "metadata": {},
   "outputs": [
    {
     "name": "stderr",
     "output_type": "stream",
     "text": [
      "/Users/liamisaacs/opt/anaconda3/lib/python3.8/site-packages/seaborn/_decorators.py:36: FutureWarning: Pass the following variable as a keyword arg: x. From version 0.12, the only valid positional argument will be `data`, and passing other arguments without an explicit keyword will result in an error or misinterpretation.\n",
      "  warnings.warn(\n",
      "/Users/liamisaacs/opt/anaconda3/lib/python3.8/site-packages/seaborn/distributions.py:2551: FutureWarning: `distplot` is a deprecated function and will be removed in a future version. Please adapt your code to use either `displot` (a figure-level function with similar flexibility) or `histplot` (an axes-level function for histograms).\n",
      "  warnings.warn(msg, FutureWarning)\n"
     ]
    },
    {
     "data": {
      "image/png": "[encoded data removed]",
      "text/plain": [
       "<Figure size 432x288 with 2 Axes>"
      ]
     },
     "metadata": {
      "needs_background": "light"
     },
     "output_type": "display_data"
    }
   ],
   "source": [
    "import seaborn as sns\n",
    "\n",
    "f, (ax_box, ax_hist) = plt.subplots(2, sharex=True, gridspec_kw= {\"height_ratios\": (0.2, 1)})\n",
    "mean=df['tomato_audiencescore'].mean()\n",
    "median=df['tomato_audiencescore'].median()\n",
    "\n",
    "sns.boxplot(df[\"tomato_audiencescore\"], ax=ax_box)\n",
    "ax_box.axvline(mean, color='r', linestyle='--')\n",
    "ax_box.axvline(median, color='g', linestyle='-')\n",
    "\n",
    "sns.distplot(df[\"tomato_audiencescore\"], ax=ax_hist)\n",
    "ax_hist.axvline(mean, color='r', linestyle='--')\n",
    "ax_hist.axvline(median, color='g', linestyle='-')\n",
    "\n",
    "plt.legend({'Mean':mean,'Median':median})\n",
    "\n",
    "ax_box.set(xlabel='')\n",
    "plt.show()"
   ]
  },
  {
   "cell_type": "code",
   "execution_count": 38,
   "metadata": {},
   "outputs": [
    {
     "data": {
      "text/plain": [
       "0                                          Made in France\n",
       "1                                         Realms of Blood\n",
       "2                                   Postcards From London\n",
       "3                                          Over the Limit\n",
       "4       Tall Tales From the Magical Garden of Antoon K...\n",
       "                              ...                        \n",
       "2772                                    The Invisible Man\n",
       "2773                                             Dolittle\n",
       "2774    Birds of Prey (and the Fantabulous Emancipatio...\n",
       "2775                                   Sonic the Hedgehog\n",
       "2776                                    Bad Boys for Life\n",
       "Name: tomato_title, Length: 2656, dtype: object"
      ]
     },
     "execution_count": 38,
     "metadata": {},
     "output_type": "execute_result"
    }
   ],
   "source": [
    "df['tomato_audiencescore'] =pd.to_numeric(df['tomato_audiencescore'])\n",
    "df['tomato_criticscore'] =pd.to_numeric(df['tomato_criticscore'])\n",
    "df['tomato_criticscore'].fillna(df['tomato_criticscore'].mean())\n",
    "df['tomato_audiencescore'].fillna(df['tomato_audiencescore'].mean())\n",
    "df['tomato_title'].fillna(df['mojo_title'])"
   ]
  },
  {
   "cell_type": "markdown",
   "metadata": {},
   "source": [
    "## We take this opportunity to replace IMDB/Metacritic scores w/ the mean as well"
   ]
  },
  {
   "cell_type": "code",
   "execution_count": 39,
   "metadata": {
    "scrolled": true
   },
   "outputs": [
    {
     "name": "stdout",
     "output_type": "stream",
     "text": [
      "There are 270 null IMDB scores\n"
     ]
    }
   ],
   "source": [
    "num_imdb_null = df['imdbscore'].isnull().sum(axis=0)\n",
    "print(\"There are {} null IMDB scores\".format(num_imdb_null))"
   ]
  },
  {
   "cell_type": "code",
   "execution_count": 40,
   "metadata": {},
   "outputs": [
    {
     "name": "stdout",
     "output_type": "stream",
     "text": [
      "There was a link error for 55 imdb scores, we replaced w/ 'N/A'\n"
     ]
    }
   ],
   "source": [
    "print(\"There was a link error for {} imdb scores, we replaced w/ 'N/A'\".format(len(df[df['imdbscore'] == 'Link error'])))\n",
    "df[df['imdbscore'] == 'Link error'] = np.nan"
   ]
  },
  {
   "cell_type": "code",
   "execution_count": 41,
   "metadata": {},
   "outputs": [],
   "source": [
    "df['mc_criticscore'].isnull().sum(axis=0)\n",
    "\n",
    "df['mc_criticscore'] = df['mc_criticscore'].replace(['Link error'],np.nan)\n",
    "df['mc_criticscore'] = df['mc_criticscore'].replace(['tbd'],np.nan)\n",
    "df['mc_criticscore'] = df['mc_criticscore'].replace(['No score yet'],np.nan)\n",
    "df['mc_criticcount'] = df['mc_criticcount'].replace(['Link error'],np.nan)\n",
    "df['mc_criticcount'] = df['mc_criticcount'].replace(['tbd'],np.nan)\n",
    "\n",
    "df['mc_audiencecount'] = df['mc_audiencecount'].replace(['Link error'],np.nan)\n",
    "df['mc_audiencecount'] = df['mc_audiencecount'].replace(['tbd'],np.nan)\n",
    "df['mc_audiencescore'] = df['mc_audiencescore'].replace(['Link error'],np.nan)\n",
    "df['mc_audiencescore'] = df['mc_audiencescore'].replace(['tbd'],np.nan)\n",
    "df['mc_audiencescore'] = df['mc_audiencescore'].replace(['No score yet'],np.nan)\n"
   ]
  },
  {
   "cell_type": "code",
   "execution_count": 42,
   "metadata": {},
   "outputs": [
    {
     "name": "stdout",
     "output_type": "stream",
     "text": [
      "There are 1576 null metacritic scores\n"
     ]
    }
   ],
   "source": [
    "null_metacritic = df['mc_audiencescore'].isnull().sum(axis=0)\n",
    "print(\"There are {} null metacritic scores\".format(null_metacritic))"
   ]
  },
  {
   "cell_type": "code",
   "execution_count": 43,
   "metadata": {},
   "outputs": [],
   "source": [
    "#slight gymnastics here are: replace 'Link error' with N/A, change 2,200 to 2200 for instance,\n",
    "#convery columns to numeric \n",
    "\n",
    "df['imdbcount'] = imdb['imdbcount'].replace(',','', regex=True)\n",
    "df['mc_criticscore'] =pd.to_numeric(df['mc_criticscore'])*10\n",
    "df['mc_criticcount'] =pd.to_numeric(df['mc_criticcount'])\n",
    "df['mc_audiencescore'] =pd.to_numeric(df['mc_audiencescore'])*10\n",
    "df['mc_audiencecount'] =pd.to_numeric(df['mc_audiencecount'])\n",
    "df['imdbscore'] =pd.to_numeric(df['imdbscore'])\n",
    "\n",
    "mean_imdb = df['imdbscore'].mean()\n",
    "mean_metacritic_critic=df['mc_criticscore'].mean()\n"
   ]
  },
  {
   "cell_type": "markdown",
   "metadata": {},
   "source": [
    "## Does it work to replace the Rotten Tomatoes critic score with the mean?"
   ]
  },
  {
   "cell_type": "markdown",
   "metadata": {},
   "source": [
    "**Not entirely** Of course this part is ripe for criticism. Ultimately, it'd be better to replace these scores with a predicted value, since of course movie to movie reviews may differ"
   ]
  },
  {
   "cell_type": "markdown",
   "metadata": {},
   "source": [
    "*Sanity check:* Are there still duplicates?"
   ]
  },
  {
   "cell_type": "code",
   "execution_count": 44,
   "metadata": {},
   "outputs": [
    {
     "data": {
      "text/plain": [
       "True"
      ]
     },
     "execution_count": 44,
     "metadata": {},
     "output_type": "execute_result"
    }
   ],
   "source": [
    "boolean = not df[\"tomato_title\"].is_unique      \n",
    "boolean = df['tomato_title'].duplicated().any() \n",
    "boolean"
   ]
  },
  {
   "cell_type": "markdown",
   "metadata": {},
   "source": [
    "*Answer*: Yes, but they're all NaN values"
   ]
  },
  {
   "cell_type": "code",
   "execution_count": 45,
   "metadata": {},
   "outputs": [
    {
     "data": {
      "text/plain": [
       "(2656, 27)"
      ]
     },
     "execution_count": 45,
     "metadata": {},
     "output_type": "execute_result"
    }
   ],
   "source": [
    "df.shape"
   ]
  },
  {
   "cell_type": "code",
   "execution_count": 46,
   "metadata": {},
   "outputs": [
    {
     "data": {
      "text/html": [
       "<div>\n",
       "<style scoped>\n",
       "    .dataframe tbody tr th:only-of-type {\n",
       "        vertical-align: middle;\n",
       "    }\n",
       "\n",
       "    .dataframe tbody tr th {\n",
       "        vertical-align: top;\n",
       "    }\n",
       "\n",
       "    .dataframe thead th {\n",
       "        text-align: right;\n",
       "    }\n",
       "</style>\n",
       "<table border=\"1\" class=\"dataframe\">\n",
       "  <thead>\n",
       "    <tr style=\"text-align: right;\">\n",
       "      <th></th>\n",
       "      <th>mojo_title</th>\n",
       "      <th>domestic_revenue</th>\n",
       "      <th>international_reveneue</th>\n",
       "      <th>world_revenue</th>\n",
       "      <th>distributor</th>\n",
       "      <th>opening_revenue</th>\n",
       "      <th>opening_theaters</th>\n",
       "      <th>budget</th>\n",
       "      <th>MPAA</th>\n",
       "      <th>genres</th>\n",
       "      <th>...</th>\n",
       "      <th>mc_criticcount</th>\n",
       "      <th>mc_audiencescore</th>\n",
       "      <th>mc_audiencecount</th>\n",
       "      <th>url</th>\n",
       "      <th>tomato_title</th>\n",
       "      <th>tomato_criticscore</th>\n",
       "      <th>tomato_audiencescore</th>\n",
       "      <th>tomato_criticcount</th>\n",
       "      <th>tomato_audiencecount</th>\n",
       "      <th>tomato_image</th>\n",
       "    </tr>\n",
       "  </thead>\n",
       "  <tbody>\n",
       "    <tr>\n",
       "      <th>0</th>\n",
       "      <td>Made in France</td>\n",
       "      <td>$9,956</td>\n",
       "      <td>NaN</td>\n",
       "      <td>$9,956</td>\n",
       "      <td>Under The Milky Way</td>\n",
       "      <td>$3,688</td>\n",
       "      <td>2 theaters</td>\n",
       "      <td>NaN</td>\n",
       "      <td>NaN</td>\n",
       "      <td>Crime, Drama, Thriller</td>\n",
       "      <td>...</td>\n",
       "      <td>4.0</td>\n",
       "      <td>NaN</td>\n",
       "      <td>NaN</td>\n",
       "      <td>https://rottentomatoes.com/m/made_in_france_2016</td>\n",
       "      <td>Made in France</td>\n",
       "      <td>NaN</td>\n",
       "      <td>67.0</td>\n",
       "      <td>NaN</td>\n",
       "      <td>44.0</td>\n",
       "      <td>https://resizing.flixster.com/kNAx-vP2oyaFP62m...</td>\n",
       "    </tr>\n",
       "    <tr>\n",
       "      <th>1</th>\n",
       "      <td>Realms</td>\n",
       "      <td>$147</td>\n",
       "      <td>$22,296</td>\n",
       "      <td>$22,443</td>\n",
       "      <td>The Film Arcade</td>\n",
       "      <td>$108</td>\n",
       "      <td>3 theaters</td>\n",
       "      <td>NaN</td>\n",
       "      <td>R</td>\n",
       "      <td>Horror, Mystery</td>\n",
       "      <td>...</td>\n",
       "      <td>9.0</td>\n",
       "      <td>NaN</td>\n",
       "      <td>NaN</td>\n",
       "      <td>https://rottentomatoes.com/m/realms-of-blood</td>\n",
       "      <td>Realms of Blood</td>\n",
       "      <td>NaN</td>\n",
       "      <td>NaN</td>\n",
       "      <td>NaN</td>\n",
       "      <td>NaN</td>\n",
       "      <td>/assets/pizza-pie/images/poster_default.c8c896...</td>\n",
       "    </tr>\n",
       "    <tr>\n",
       "      <th>2</th>\n",
       "      <td>Postcards from London</td>\n",
       "      <td>$5,312</td>\n",
       "      <td>$10,236</td>\n",
       "      <td>$15,548</td>\n",
       "      <td>Strand Releasing</td>\n",
       "      <td>$2,686</td>\n",
       "      <td>1 theater</td>\n",
       "      <td>NaN</td>\n",
       "      <td>NaN</td>\n",
       "      <td>Drama</td>\n",
       "      <td>...</td>\n",
       "      <td>NaN</td>\n",
       "      <td>NaN</td>\n",
       "      <td>NaN</td>\n",
       "      <td>https://rottentomatoes.com/m/postcards_from_lo...</td>\n",
       "      <td>Postcards From London</td>\n",
       "      <td>50.0</td>\n",
       "      <td>32.0</td>\n",
       "      <td>16</td>\n",
       "      <td>66.0</td>\n",
       "      <td>https://resizing.flixster.com/GiuH2v-t2jvzC0Uu...</td>\n",
       "    </tr>\n",
       "    <tr>\n",
       "      <th>3</th>\n",
       "      <td>Over the Limit</td>\n",
       "      <td>$3,243</td>\n",
       "      <td>NaN</td>\n",
       "      <td>$3,243</td>\n",
       "      <td>Film Movement</td>\n",
       "      <td>$1,402</td>\n",
       "      <td>2 theaters</td>\n",
       "      <td>NaN</td>\n",
       "      <td>NaN</td>\n",
       "      <td>Documentary, Sport</td>\n",
       "      <td>...</td>\n",
       "      <td>4.0</td>\n",
       "      <td>NaN</td>\n",
       "      <td>NaN</td>\n",
       "      <td>https://rottentomatoes.com/m/over_the_limit</td>\n",
       "      <td>Over the Limit</td>\n",
       "      <td>100.0</td>\n",
       "      <td>73.0</td>\n",
       "      <td>9</td>\n",
       "      <td>55.0</td>\n",
       "      <td>https://resizing.flixster.com/CHGxEsGtDZbPgzH4...</td>\n",
       "    </tr>\n",
       "    <tr>\n",
       "      <th>4</th>\n",
       "      <td>Tall Tales from the Magical Garden of Antoon K...</td>\n",
       "      <td>$220</td>\n",
       "      <td>$14,340,506</td>\n",
       "      <td>$14,340,726</td>\n",
       "      <td>Viva Pictures</td>\n",
       "      <td>NaN</td>\n",
       "      <td>20 theaters</td>\n",
       "      <td>NaN</td>\n",
       "      <td>PG</td>\n",
       "      <td>Adventure, Animation, Comedy, Family</td>\n",
       "      <td>...</td>\n",
       "      <td>NaN</td>\n",
       "      <td>NaN</td>\n",
       "      <td>NaN</td>\n",
       "      <td>https://rottentomatoes.com/m/tall_tales_from_t...</td>\n",
       "      <td>Tall Tales From the Magical Garden of Antoon K...</td>\n",
       "      <td>NaN</td>\n",
       "      <td>29.0</td>\n",
       "      <td>NaN</td>\n",
       "      <td>14.0</td>\n",
       "      <td>https://resizing.flixster.com/EmYqOnBhv0f8cgcc...</td>\n",
       "    </tr>\n",
       "  </tbody>\n",
       "</table>\n",
       "<p>5 rows × 27 columns</p>\n",
       "</div>"
      ],
      "text/plain": [
       "                                          mojo_title domestic_revenue  \\\n",
       "0                                     Made in France           $9,956   \n",
       "1                                             Realms             $147   \n",
       "2                              Postcards from London           $5,312   \n",
       "3                                     Over the Limit           $3,243   \n",
       "4  Tall Tales from the Magical Garden of Antoon K...             $220   \n",
       "\n",
       "  international_reveneue world_revenue          distributor opening_revenue  \\\n",
       "0                    NaN        $9,956  Under The Milky Way          $3,688   \n",
       "1                $22,296       $22,443      The Film Arcade            $108   \n",
       "2                $10,236       $15,548     Strand Releasing          $2,686   \n",
       "3                    NaN        $3,243        Film Movement          $1,402   \n",
       "4            $14,340,506   $14,340,726        Viva Pictures             NaN   \n",
       "\n",
       "  opening_theaters budget MPAA                                genres  ...  \\\n",
       "0       2 theaters    NaN  NaN                Crime, Drama, Thriller  ...   \n",
       "1       3 theaters    NaN    R                       Horror, Mystery  ...   \n",
       "2        1 theater    NaN  NaN                                 Drama  ...   \n",
       "3       2 theaters    NaN  NaN                    Documentary, Sport  ...   \n",
       "4      20 theaters    NaN   PG  Adventure, Animation, Comedy, Family  ...   \n",
       "\n",
       "  mc_criticcount mc_audiencescore mc_audiencecount  \\\n",
       "0            4.0              NaN              NaN   \n",
       "1            9.0              NaN              NaN   \n",
       "2            NaN              NaN              NaN   \n",
       "3            4.0              NaN              NaN   \n",
       "4            NaN              NaN              NaN   \n",
       "\n",
       "                                                 url  \\\n",
       "0   https://rottentomatoes.com/m/made_in_france_2016   \n",
       "1       https://rottentomatoes.com/m/realms-of-blood   \n",
       "2  https://rottentomatoes.com/m/postcards_from_lo...   \n",
       "3        https://rottentomatoes.com/m/over_the_limit   \n",
       "4  https://rottentomatoes.com/m/tall_tales_from_t...   \n",
       "\n",
       "                                        tomato_title tomato_criticscore  \\\n",
       "0                                     Made in France                NaN   \n",
       "1                                    Realms of Blood                NaN   \n",
       "2                              Postcards From London               50.0   \n",
       "3                                     Over the Limit              100.0   \n",
       "4  Tall Tales From the Magical Garden of Antoon K...                NaN   \n",
       "\n",
       "   tomato_audiencescore  tomato_criticcount  tomato_audiencecount  \\\n",
       "0                  67.0                 NaN                  44.0   \n",
       "1                   NaN                 NaN                   NaN   \n",
       "2                  32.0                  16                  66.0   \n",
       "3                  73.0                   9                  55.0   \n",
       "4                  29.0                 NaN                  14.0   \n",
       "\n",
       "                                        tomato_image  \n",
       "0  https://resizing.flixster.com/kNAx-vP2oyaFP62m...  \n",
       "1  /assets/pizza-pie/images/poster_default.c8c896...  \n",
       "2  https://resizing.flixster.com/GiuH2v-t2jvzC0Uu...  \n",
       "3  https://resizing.flixster.com/CHGxEsGtDZbPgzH4...  \n",
       "4  https://resizing.flixster.com/EmYqOnBhv0f8cgcc...  \n",
       "\n",
       "[5 rows x 27 columns]"
      ]
     },
     "execution_count": 46,
     "metadata": {},
     "output_type": "execute_result"
    }
   ],
   "source": [
    "df.head()"
   ]
  },
  {
   "cell_type": "code",
   "execution_count": 47,
   "metadata": {},
   "outputs": [
    {
     "data": {
      "text/html": [
       "<div>\n",
       "<style scoped>\n",
       "    .dataframe tbody tr th:only-of-type {\n",
       "        vertical-align: middle;\n",
       "    }\n",
       "\n",
       "    .dataframe tbody tr th {\n",
       "        vertical-align: top;\n",
       "    }\n",
       "\n",
       "    .dataframe thead th {\n",
       "        text-align: right;\n",
       "    }\n",
       "</style>\n",
       "<table border=\"1\" class=\"dataframe\">\n",
       "  <thead>\n",
       "    <tr style=\"text-align: right;\">\n",
       "      <th></th>\n",
       "      <th>mojo_title</th>\n",
       "      <th>domestic_revenue</th>\n",
       "      <th>international_reveneue</th>\n",
       "      <th>world_revenue</th>\n",
       "      <th>distributor</th>\n",
       "      <th>opening_revenue</th>\n",
       "      <th>opening_theaters</th>\n",
       "      <th>budget</th>\n",
       "      <th>MPAA</th>\n",
       "      <th>genres</th>\n",
       "      <th>...</th>\n",
       "      <th>mc_criticcount</th>\n",
       "      <th>mc_audiencescore</th>\n",
       "      <th>mc_audiencecount</th>\n",
       "      <th>url</th>\n",
       "      <th>tomato_title</th>\n",
       "      <th>tomato_criticscore</th>\n",
       "      <th>tomato_audiencescore</th>\n",
       "      <th>tomato_criticcount</th>\n",
       "      <th>tomato_audiencecount</th>\n",
       "      <th>tomato_image</th>\n",
       "    </tr>\n",
       "  </thead>\n",
       "  <tbody>\n",
       "    <tr>\n",
       "      <th>0</th>\n",
       "      <td>Made in France</td>\n",
       "      <td>$9,956</td>\n",
       "      <td>NaN</td>\n",
       "      <td>$9,956</td>\n",
       "      <td>Under The Milky Way</td>\n",
       "      <td>$3,688</td>\n",
       "      <td>2 theaters</td>\n",
       "      <td>NaN</td>\n",
       "      <td>NaN</td>\n",
       "      <td>Crime, Drama, Thriller</td>\n",
       "      <td>...</td>\n",
       "      <td>4.0</td>\n",
       "      <td>NaN</td>\n",
       "      <td>NaN</td>\n",
       "      <td>https://rottentomatoes.com/m/made_in_france_2016</td>\n",
       "      <td>Made in France</td>\n",
       "      <td>NaN</td>\n",
       "      <td>67.0</td>\n",
       "      <td>NaN</td>\n",
       "      <td>44.0</td>\n",
       "      <td>https://resizing.flixster.com/kNAx-vP2oyaFP62m...</td>\n",
       "    </tr>\n",
       "    <tr>\n",
       "      <th>1</th>\n",
       "      <td>Realms</td>\n",
       "      <td>$147</td>\n",
       "      <td>$22,296</td>\n",
       "      <td>$22,443</td>\n",
       "      <td>The Film Arcade</td>\n",
       "      <td>$108</td>\n",
       "      <td>3 theaters</td>\n",
       "      <td>NaN</td>\n",
       "      <td>R</td>\n",
       "      <td>Horror, Mystery</td>\n",
       "      <td>...</td>\n",
       "      <td>9.0</td>\n",
       "      <td>NaN</td>\n",
       "      <td>NaN</td>\n",
       "      <td>https://rottentomatoes.com/m/realms-of-blood</td>\n",
       "      <td>Realms of Blood</td>\n",
       "      <td>NaN</td>\n",
       "      <td>NaN</td>\n",
       "      <td>NaN</td>\n",
       "      <td>NaN</td>\n",
       "      <td>/assets/pizza-pie/images/poster_default.c8c896...</td>\n",
       "    </tr>\n",
       "    <tr>\n",
       "      <th>2</th>\n",
       "      <td>Postcards from London</td>\n",
       "      <td>$5,312</td>\n",
       "      <td>$10,236</td>\n",
       "      <td>$15,548</td>\n",
       "      <td>Strand Releasing</td>\n",
       "      <td>$2,686</td>\n",
       "      <td>1 theater</td>\n",
       "      <td>NaN</td>\n",
       "      <td>NaN</td>\n",
       "      <td>Drama</td>\n",
       "      <td>...</td>\n",
       "      <td>NaN</td>\n",
       "      <td>NaN</td>\n",
       "      <td>NaN</td>\n",
       "      <td>https://rottentomatoes.com/m/postcards_from_lo...</td>\n",
       "      <td>Postcards From London</td>\n",
       "      <td>50.0</td>\n",
       "      <td>32.0</td>\n",
       "      <td>16</td>\n",
       "      <td>66.0</td>\n",
       "      <td>https://resizing.flixster.com/GiuH2v-t2jvzC0Uu...</td>\n",
       "    </tr>\n",
       "    <tr>\n",
       "      <th>3</th>\n",
       "      <td>Over the Limit</td>\n",
       "      <td>$3,243</td>\n",
       "      <td>NaN</td>\n",
       "      <td>$3,243</td>\n",
       "      <td>Film Movement</td>\n",
       "      <td>$1,402</td>\n",
       "      <td>2 theaters</td>\n",
       "      <td>NaN</td>\n",
       "      <td>NaN</td>\n",
       "      <td>Documentary, Sport</td>\n",
       "      <td>...</td>\n",
       "      <td>4.0</td>\n",
       "      <td>NaN</td>\n",
       "      <td>NaN</td>\n",
       "      <td>https://rottentomatoes.com/m/over_the_limit</td>\n",
       "      <td>Over the Limit</td>\n",
       "      <td>100.0</td>\n",
       "      <td>73.0</td>\n",
       "      <td>9</td>\n",
       "      <td>55.0</td>\n",
       "      <td>https://resizing.flixster.com/CHGxEsGtDZbPgzH4...</td>\n",
       "    </tr>\n",
       "    <tr>\n",
       "      <th>4</th>\n",
       "      <td>Tall Tales from the Magical Garden of Antoon K...</td>\n",
       "      <td>$220</td>\n",
       "      <td>$14,340,506</td>\n",
       "      <td>$14,340,726</td>\n",
       "      <td>Viva Pictures</td>\n",
       "      <td>NaN</td>\n",
       "      <td>20 theaters</td>\n",
       "      <td>NaN</td>\n",
       "      <td>PG</td>\n",
       "      <td>Adventure, Animation, Comedy, Family</td>\n",
       "      <td>...</td>\n",
       "      <td>NaN</td>\n",
       "      <td>NaN</td>\n",
       "      <td>NaN</td>\n",
       "      <td>https://rottentomatoes.com/m/tall_tales_from_t...</td>\n",
       "      <td>Tall Tales From the Magical Garden of Antoon K...</td>\n",
       "      <td>NaN</td>\n",
       "      <td>29.0</td>\n",
       "      <td>NaN</td>\n",
       "      <td>14.0</td>\n",
       "      <td>https://resizing.flixster.com/EmYqOnBhv0f8cgcc...</td>\n",
       "    </tr>\n",
       "    <tr>\n",
       "      <th>...</th>\n",
       "      <td>...</td>\n",
       "      <td>...</td>\n",
       "      <td>...</td>\n",
       "      <td>...</td>\n",
       "      <td>...</td>\n",
       "      <td>...</td>\n",
       "      <td>...</td>\n",
       "      <td>...</td>\n",
       "      <td>...</td>\n",
       "      <td>...</td>\n",
       "      <td>...</td>\n",
       "      <td>...</td>\n",
       "      <td>...</td>\n",
       "      <td>...</td>\n",
       "      <td>...</td>\n",
       "      <td>...</td>\n",
       "      <td>...</td>\n",
       "      <td>...</td>\n",
       "      <td>...</td>\n",
       "      <td>...</td>\n",
       "      <td>...</td>\n",
       "    </tr>\n",
       "    <tr>\n",
       "      <th>2772</th>\n",
       "      <td>The Invisible Man</td>\n",
       "      <td>$70,410,000</td>\n",
       "      <td>$72,741,000</td>\n",
       "      <td>$143,151,000</td>\n",
       "      <td>Universal Pictures</td>\n",
       "      <td>$28,205,665</td>\n",
       "      <td>3,636 theaters</td>\n",
       "      <td>$7,000,000</td>\n",
       "      <td>R</td>\n",
       "      <td>Drama, Horror, Mystery, Sci-Fi, Thriller</td>\n",
       "      <td>...</td>\n",
       "      <td>58.0</td>\n",
       "      <td>69.0</td>\n",
       "      <td>533.0</td>\n",
       "      <td>https://rottentomatoes.com/m/the_invisible_man...</td>\n",
       "      <td>The Invisible Man</td>\n",
       "      <td>91.0</td>\n",
       "      <td>88.0</td>\n",
       "      <td>397</td>\n",
       "      <td>11942.0</td>\n",
       "      <td>https://resizing.flixster.com/ZDisBvib7RW1HNgj...</td>\n",
       "    </tr>\n",
       "    <tr>\n",
       "      <th>2773</th>\n",
       "      <td>Dolittle</td>\n",
       "      <td>$77,047,065</td>\n",
       "      <td>$168,255,817</td>\n",
       "      <td>$245,302,882</td>\n",
       "      <td>Universal Pictures</td>\n",
       "      <td>$21,844,045</td>\n",
       "      <td>4,155 theaters</td>\n",
       "      <td>$175,000,000</td>\n",
       "      <td>PG</td>\n",
       "      <td>Adventure, Comedy, Family, Fantasy</td>\n",
       "      <td>...</td>\n",
       "      <td>NaN</td>\n",
       "      <td>NaN</td>\n",
       "      <td>NaN</td>\n",
       "      <td>https://rottentomatoes.com/m/dolittle</td>\n",
       "      <td>Dolittle</td>\n",
       "      <td>13.0</td>\n",
       "      <td>76.0</td>\n",
       "      <td>231</td>\n",
       "      <td>11528.0</td>\n",
       "      <td>https://resizing.flixster.com/M36Iydu9GjpyZ-ey...</td>\n",
       "    </tr>\n",
       "    <tr>\n",
       "      <th>2774</th>\n",
       "      <td>Birds of Prey</td>\n",
       "      <td>$84,158,461</td>\n",
       "      <td>$117,700,000</td>\n",
       "      <td>$201,858,461</td>\n",
       "      <td>Warner Bros.</td>\n",
       "      <td>$33,010,017</td>\n",
       "      <td>4,236 theaters</td>\n",
       "      <td>$84,500,000</td>\n",
       "      <td>R</td>\n",
       "      <td>Action, Adventure, Comedy, Crime</td>\n",
       "      <td>...</td>\n",
       "      <td>59.0</td>\n",
       "      <td>30.0</td>\n",
       "      <td>2502.0</td>\n",
       "      <td>https://rottentomatoes.com/m/birds_of_prey_2020</td>\n",
       "      <td>Birds of Prey (and the Fantabulous Emancipatio...</td>\n",
       "      <td>78.0</td>\n",
       "      <td>78.0</td>\n",
       "      <td>413</td>\n",
       "      <td>15718.0</td>\n",
       "      <td>https://resizing.flixster.com/Z2wwW0uGDmBLYr1_...</td>\n",
       "    </tr>\n",
       "    <tr>\n",
       "      <th>2775</th>\n",
       "      <td>Sonic the Hedgehog</td>\n",
       "      <td>$148,974,665</td>\n",
       "      <td>$164,621,905</td>\n",
       "      <td>$313,596,570</td>\n",
       "      <td>Paramount Pictures</td>\n",
       "      <td>$58,018,348</td>\n",
       "      <td>4,198 theaters</td>\n",
       "      <td>$85,000,000</td>\n",
       "      <td>PG</td>\n",
       "      <td>Action, Adventure, Comedy, Family, Sci-Fi</td>\n",
       "      <td>...</td>\n",
       "      <td>NaN</td>\n",
       "      <td>NaN</td>\n",
       "      <td>NaN</td>\n",
       "      <td>https://rottentomatoes.com/m/sonic_the_hedgeho...</td>\n",
       "      <td>Sonic the Hedgehog</td>\n",
       "      <td>63.0</td>\n",
       "      <td>93.0</td>\n",
       "      <td>237</td>\n",
       "      <td>19468.0</td>\n",
       "      <td>https://resizing.flixster.com/KlcT35A3b-y5DItq...</td>\n",
       "    </tr>\n",
       "    <tr>\n",
       "      <th>2776</th>\n",
       "      <td>Bad Boys for Life</td>\n",
       "      <td>$206,305,244</td>\n",
       "      <td>$220,200,000</td>\n",
       "      <td>$426,505,244</td>\n",
       "      <td>Sony Pictures Entertainment (SPE)</td>\n",
       "      <td>$62,504,105</td>\n",
       "      <td>3,775 theaters</td>\n",
       "      <td>$90,000,000</td>\n",
       "      <td>R</td>\n",
       "      <td>Action, Comedy, Crime, Thriller</td>\n",
       "      <td>...</td>\n",
       "      <td>NaN</td>\n",
       "      <td>NaN</td>\n",
       "      <td>NaN</td>\n",
       "      <td>https://rottentomatoes.com/m/bad_boys_for_life</td>\n",
       "      <td>Bad Boys for Life</td>\n",
       "      <td>77.0</td>\n",
       "      <td>96.0</td>\n",
       "      <td>257</td>\n",
       "      <td>42968.0</td>\n",
       "      <td>https://resizing.flixster.com/4kzegfgOeJgsxg71...</td>\n",
       "    </tr>\n",
       "  </tbody>\n",
       "</table>\n",
       "<p>2601 rows × 27 columns</p>\n",
       "</div>"
      ],
      "text/plain": [
       "                                             mojo_title domestic_revenue  \\\n",
       "0                                        Made in France           $9,956   \n",
       "1                                                Realms             $147   \n",
       "2                                 Postcards from London           $5,312   \n",
       "3                                        Over the Limit           $3,243   \n",
       "4     Tall Tales from the Magical Garden of Antoon K...             $220   \n",
       "...                                                 ...              ...   \n",
       "2772                                  The Invisible Man      $70,410,000   \n",
       "2773                                           Dolittle      $77,047,065   \n",
       "2774                                      Birds of Prey      $84,158,461   \n",
       "2775                                 Sonic the Hedgehog     $148,974,665   \n",
       "2776                                  Bad Boys for Life     $206,305,244   \n",
       "\n",
       "     international_reveneue world_revenue                        distributor  \\\n",
       "0                       NaN        $9,956                Under The Milky Way   \n",
       "1                   $22,296       $22,443                    The Film Arcade   \n",
       "2                   $10,236       $15,548                   Strand Releasing   \n",
       "3                       NaN        $3,243                      Film Movement   \n",
       "4               $14,340,506   $14,340,726                      Viva Pictures   \n",
       "...                     ...           ...                                ...   \n",
       "2772            $72,741,000  $143,151,000                 Universal Pictures   \n",
       "2773           $168,255,817  $245,302,882                 Universal Pictures   \n",
       "2774           $117,700,000  $201,858,461                       Warner Bros.   \n",
       "2775           $164,621,905  $313,596,570                 Paramount Pictures   \n",
       "2776           $220,200,000  $426,505,244  Sony Pictures Entertainment (SPE)   \n",
       "\n",
       "     opening_revenue opening_theaters        budget MPAA  \\\n",
       "0             $3,688       2 theaters           NaN  NaN   \n",
       "1               $108       3 theaters           NaN    R   \n",
       "2             $2,686        1 theater           NaN  NaN   \n",
       "3             $1,402       2 theaters           NaN  NaN   \n",
       "4                NaN      20 theaters           NaN   PG   \n",
       "...              ...              ...           ...  ...   \n",
       "2772     $28,205,665   3,636 theaters    $7,000,000    R   \n",
       "2773     $21,844,045   4,155 theaters  $175,000,000   PG   \n",
       "2774     $33,010,017   4,236 theaters   $84,500,000    R   \n",
       "2775     $58,018,348   4,198 theaters   $85,000,000   PG   \n",
       "2776     $62,504,105   3,775 theaters   $90,000,000    R   \n",
       "\n",
       "                                         genres  ... mc_criticcount  \\\n",
       "0                        Crime, Drama, Thriller  ...            4.0   \n",
       "1                               Horror, Mystery  ...            9.0   \n",
       "2                                         Drama  ...            NaN   \n",
       "3                            Documentary, Sport  ...            4.0   \n",
       "4          Adventure, Animation, Comedy, Family  ...            NaN   \n",
       "...                                         ...  ...            ...   \n",
       "2772   Drama, Horror, Mystery, Sci-Fi, Thriller  ...           58.0   \n",
       "2773         Adventure, Comedy, Family, Fantasy  ...            NaN   \n",
       "2774           Action, Adventure, Comedy, Crime  ...           59.0   \n",
       "2775  Action, Adventure, Comedy, Family, Sci-Fi  ...            NaN   \n",
       "2776            Action, Comedy, Crime, Thriller  ...            NaN   \n",
       "\n",
       "     mc_audiencescore mc_audiencecount  \\\n",
       "0                 NaN              NaN   \n",
       "1                 NaN              NaN   \n",
       "2                 NaN              NaN   \n",
       "3                 NaN              NaN   \n",
       "4                 NaN              NaN   \n",
       "...               ...              ...   \n",
       "2772             69.0            533.0   \n",
       "2773              NaN              NaN   \n",
       "2774             30.0           2502.0   \n",
       "2775              NaN              NaN   \n",
       "2776              NaN              NaN   \n",
       "\n",
       "                                                    url  \\\n",
       "0      https://rottentomatoes.com/m/made_in_france_2016   \n",
       "1          https://rottentomatoes.com/m/realms-of-blood   \n",
       "2     https://rottentomatoes.com/m/postcards_from_lo...   \n",
       "3           https://rottentomatoes.com/m/over_the_limit   \n",
       "4     https://rottentomatoes.com/m/tall_tales_from_t...   \n",
       "...                                                 ...   \n",
       "2772  https://rottentomatoes.com/m/the_invisible_man...   \n",
       "2773              https://rottentomatoes.com/m/dolittle   \n",
       "2774    https://rottentomatoes.com/m/birds_of_prey_2020   \n",
       "2775  https://rottentomatoes.com/m/sonic_the_hedgeho...   \n",
       "2776     https://rottentomatoes.com/m/bad_boys_for_life   \n",
       "\n",
       "                                           tomato_title tomato_criticscore  \\\n",
       "0                                        Made in France                NaN   \n",
       "1                                       Realms of Blood                NaN   \n",
       "2                                 Postcards From London               50.0   \n",
       "3                                        Over the Limit              100.0   \n",
       "4     Tall Tales From the Magical Garden of Antoon K...                NaN   \n",
       "...                                                 ...                ...   \n",
       "2772                                  The Invisible Man               91.0   \n",
       "2773                                           Dolittle               13.0   \n",
       "2774  Birds of Prey (and the Fantabulous Emancipatio...               78.0   \n",
       "2775                                 Sonic the Hedgehog               63.0   \n",
       "2776                                  Bad Boys for Life               77.0   \n",
       "\n",
       "      tomato_audiencescore  tomato_criticcount  tomato_audiencecount  \\\n",
       "0                     67.0                 NaN                  44.0   \n",
       "1                      NaN                 NaN                   NaN   \n",
       "2                     32.0                  16                  66.0   \n",
       "3                     73.0                   9                  55.0   \n",
       "4                     29.0                 NaN                  14.0   \n",
       "...                    ...                 ...                   ...   \n",
       "2772                  88.0                 397               11942.0   \n",
       "2773                  76.0                 231               11528.0   \n",
       "2774                  78.0                 413               15718.0   \n",
       "2775                  93.0                 237               19468.0   \n",
       "2776                  96.0                 257               42968.0   \n",
       "\n",
       "                                           tomato_image  \n",
       "0     https://resizing.flixster.com/kNAx-vP2oyaFP62m...  \n",
       "1     /assets/pizza-pie/images/poster_default.c8c896...  \n",
       "2     https://resizing.flixster.com/GiuH2v-t2jvzC0Uu...  \n",
       "3     https://resizing.flixster.com/CHGxEsGtDZbPgzH4...  \n",
       "4     https://resizing.flixster.com/EmYqOnBhv0f8cgcc...  \n",
       "...                                                 ...  \n",
       "2772  https://resizing.flixster.com/ZDisBvib7RW1HNgj...  \n",
       "2773  https://resizing.flixster.com/M36Iydu9GjpyZ-ey...  \n",
       "2774  https://resizing.flixster.com/Z2wwW0uGDmBLYr1_...  \n",
       "2775  https://resizing.flixster.com/KlcT35A3b-y5DItq...  \n",
       "2776  https://resizing.flixster.com/4kzegfgOeJgsxg71...  \n",
       "\n",
       "[2601 rows x 27 columns]"
      ]
     },
     "execution_count": 47,
     "metadata": {},
     "output_type": "execute_result"
    }
   ],
   "source": [
    "df[df.duplicated(subset=['tomato_title'])].sort_values(by='mojo_title')\n",
    "df.dropna(subset=['tomato_title'])\n"
   ]
  },
  {
   "cell_type": "markdown",
   "metadata": {},
   "source": [
    "#### We will be working with 2601 rows of data."
   ]
  },
  {
   "cell_type": "markdown",
   "metadata": {},
   "source": [
    "#### Let's see the year distribution for this data. After all of this, what does the data actually look like?"
   ]
  },
  {
   "cell_type": "code",
   "execution_count": 48,
   "metadata": {},
   "outputs": [],
   "source": [
    "df['release_year'] = [x.strip()[-4:] for x in df['release_days'].astype(str)]"
   ]
  },
  {
   "cell_type": "code",
   "execution_count": 49,
   "metadata": {},
   "outputs": [],
   "source": [
    "movies_in_year = [pd.to_numeric(df['mojo_title'][df['release_year'] == '2016'].shape)[0], \n",
    "                  pd.to_numeric(df['mojo_title'][df['release_year'] == '2017'].shape)[0], \n",
    "                  pd.to_numeric(df['mojo_title'][df['release_year'] == '2018'].shape)[0], \n",
    "                  pd.to_numeric(df['mojo_title'][df['release_year'] == '2019'].shape)[0], \n",
    "                  pd.to_numeric(df['mojo_title'][df['release_year'] == '2020'].shape)[0]]"
   ]
  },
  {
   "cell_type": "code",
   "execution_count": 50,
   "metadata": {
    "scrolled": false
   },
   "outputs": [
    {
     "data": {
      "image/png": "[encoded data removed]",
      "text/plain": [
       "<Figure size 432x288 with 1 Axes>"
      ]
     },
     "metadata": {
      "needs_background": "light"
     },
     "output_type": "display_data"
    }
   ],
   "source": [
    "index = ['2016', '2017', '2018',\n",
    "         '2019', '2020']\n",
    "df_plot = pd.DataFrame({'#_movies': movies_in_year}, index=index)\n",
    "ax = df_plot.plot.bar(rot=0)"
   ]
  },
  {
   "cell_type": "markdown",
   "metadata": {},
   "source": [
    "Looks like we cannot truly claim to represent 2016 data.."
   ]
  },
  {
   "cell_type": "code",
   "execution_count": 51,
   "metadata": {},
   "outputs": [],
   "source": [
    "# turn $2,000 into 2000\n",
    "df['domestic_revenue'] = df['domestic_revenue'].str.replace(',', '')\n",
    "df['domestic_revenue'] = df['domestic_revenue'].str.replace('$', '')\n",
    "df['domestic_revenue'] = pd.to_numeric(df['domestic_revenue'])\n",
    "df['international_reveneue'] = df['international_reveneue'].str.replace(',', '')\n",
    "df['international_reveneue'] = df['international_reveneue'].str.replace('$', '')\n",
    "df['international_reveneue'] = pd.to_numeric(df['international_reveneue'])\n",
    "df['world_revenue'] = df['world_revenue'].str.replace(',', '')\n",
    "df['world_revenue'] = df['world_revenue'].str.replace('$', '')\n",
    "df['world_revenue'] = pd.to_numeric(df['world_revenue'])\n",
    "df['opening_revenue'] = df['opening_revenue'].str.replace(',', '')\n",
    "df['opening_revenue'] = df['opening_revenue'].str.replace('$', '')\n",
    "df['opening_revenue'] = pd.to_numeric(df['opening_revenue'])"
   ]
  },
  {
   "cell_type": "markdown",
   "metadata": {},
   "source": [
    "# With clean data, we can ask: what do we care about? What looks related?"
   ]
  },
  {
   "cell_type": "code",
   "execution_count": 52,
   "metadata": {},
   "outputs": [
    {
     "data": {
      "text/plain": [
       "Text(74.40624999999999, 0.5, 'Category')"
      ]
     },
     "execution_count": 52,
     "metadata": {},
     "output_type": "execute_result"
    },
    {
     "data": {
      "image/png": "[encoded data removed]",
      "text/plain": [
       "<Figure size 864x864 with 2 Axes>"
      ]
     },
     "metadata": {
      "needs_background": "light"
     },
     "output_type": "display_data"
    }
   ],
   "source": [
    "plt.figure(figsize=(12,12))\n",
    "cor = df.corr()\n",
    "\n",
    "sns.set(font_scale = 2)\n",
    "\n",
    "a =sns.heatmap(cor, annot=False, cmap=\"Blues\")\n",
    "\n",
    "a.set_ylabel(\"Category\",fontsize=30)"
   ]
  },
  {
   "cell_type": "markdown",
   "metadata": {},
   "source": [
    "## Looks like IMDB, RottenTomates and Metacritic have different opinions"
   ]
  },
  {
   "cell_type": "markdown",
   "metadata": {},
   "source": [
    "Just from a heatmap, we can convince ourselves that film critique is subjective: varying across Metacritic, RottenTomatoes, and IMDB, relationships are about .51 or .64. This is **almost like** domain knowledge, as if we are pretending to know different population's preferences, or trying to validate if those can be assumed as random. As if we were trying to ask \"can I assume reviews ot be consistent throughout a population?\" \n",
    "\n",
    "In turn, it's surprising that ciritcscores are unrelated to revenue (whereas critic **counts** are), our capitalistic mind would think that a higher grossing film would get better ratings. \n",
    "\n",
    "Regardless of that, seeing as there's little relationships between them, it's better to go with the score that is the most normal."
   ]
  },
  {
   "cell_type": "markdown",
   "metadata": {},
   "source": [
    "## Seeing as that is, which one is the most trustworthy to use?"
   ]
  },
  {
   "cell_type": "code",
   "execution_count": 55,
   "metadata": {},
   "outputs": [
    {
     "name": "stderr",
     "output_type": "stream",
     "text": [
      "/Users/liamisaacs/opt/anaconda3/lib/python3.8/site-packages/seaborn/distributions.py:2551: FutureWarning: `distplot` is a deprecated function and will be removed in a future version. Please adapt your code to use either `displot` (a figure-level function with similar flexibility) or `kdeplot` (an axes-level function for kernel density plots).\n",
      "  warnings.warn(msg, FutureWarning)\n",
      "/Users/liamisaacs/opt/anaconda3/lib/python3.8/site-packages/seaborn/distributions.py:2551: FutureWarning: `distplot` is a deprecated function and will be removed in a future version. Please adapt your code to use either `displot` (a figure-level function with similar flexibility) or `kdeplot` (an axes-level function for kernel density plots).\n",
      "  warnings.warn(msg, FutureWarning)\n",
      "/Users/liamisaacs/opt/anaconda3/lib/python3.8/site-packages/seaborn/distributions.py:2551: FutureWarning: `distplot` is a deprecated function and will be removed in a future version. Please adapt your code to use either `displot` (a figure-level function with similar flexibility) or `kdeplot` (an axes-level function for kernel density plots).\n",
      "  warnings.warn(msg, FutureWarning)\n"
     ]
    },
    {
     "data": {
      "image/png": "[encoded data removed]",
      "text/plain": [
       "<Figure size 1080x720 with 1 Axes>"
      ]
     },
     "metadata": {},
     "output_type": "display_data"
    }
   ],
   "source": [
    "sns.set(font_scale = 2)\n",
    "\n",
    "sns.set_style(style='white') \n",
    "fig, ax = plt.subplots(figsize=(15,10))\n",
    "sns.distplot( df[\"imdbscore\"] , color=\"skyblue\", label=\"IMDB's score\",hist=None)\n",
    "sns.distplot( df[\"mc_audiencescore\"]/10 , color=\"green\", label=\"RottenTomatoe's audience score\",hist=None)\n",
    "\n",
    "sns.distplot( df[\"tomato_audiencescore\"]/10 , color=\"red\", label=\"RottenTomatoe's audience score\", hist=None)\n",
    "fig.legend(labels=['IMDB','Metacritic', 'RottenTomatoes'])\n",
    "ax.set_title(\"Review Distributions\", fontsize=30, weight='bold', y=1.1)\n",
    "ax.set(xlabel=\"Audience Rating (scaled to 1-10)\",\n",
    "       ylabel=\"KDE Estimate\", xlim=(0, 10))\n",
    "sns.despine()"
   ]
  },
  {
   "cell_type": "code",
   "execution_count": 56,
   "metadata": {},
   "outputs": [
    {
     "name": "stderr",
     "output_type": "stream",
     "text": [
      "/Users/liamisaacs/opt/anaconda3/lib/python3.8/site-packages/seaborn/distributions.py:2551: FutureWarning: `distplot` is a deprecated function and will be removed in a future version. Please adapt your code to use either `displot` (a figure-level function with similar flexibility) or `histplot` (an axes-level function for histograms).\n",
      "  warnings.warn(msg, FutureWarning)\n"
     ]
    },
    {
     "data": {
      "image/png": "[encoded data removed]",
      "text/plain": [
       "<Figure size 1080x720 with 1 Axes>"
      ]
     },
     "metadata": {},
     "output_type": "display_data"
    }
   ],
   "source": [
    "fig, ax = plt.subplots(figsize=(15,10))\n",
    "sns.distplot( df[\"imdbscore\"] , color=\"skyblue\", label=\"IMDB's score\")\n",
    "fig.legend(labels=['IMDB','Metacritic'])\n",
    "\n",
    "ax.set(xlabel=\"Overlaid distribution of IMDB and Metacritic audience scores\",\n",
    "       ylabel=\"Score Count\", xlim=(0, 10))\n",
    "title = \"IMDB Score Distributions\"\n",
    "sns.despine()"
   ]
  },
  {
   "cell_type": "code",
   "execution_count": 57,
   "metadata": {
    "scrolled": true
   },
   "outputs": [
    {
     "data": {
      "text/plain": [
       "<seaborn.axisgrid.FacetGrid at 0x7ffbf8457550>"
      ]
     },
     "execution_count": 57,
     "metadata": {},
     "output_type": "execute_result"
    },
    {
     "data": {
      "image/png": "[encoded data removed]",
      "text/plain": [
       "<Figure size 360x360 with 1 Axes>"
      ]
     },
     "metadata": {},
     "output_type": "display_data"
    }
   ],
   "source": [
    "sns.displot(df, x=\"mc_criticscore\")"
   ]
  },
  {
   "cell_type": "code",
   "execution_count": 58,
   "metadata": {},
   "outputs": [
    {
     "data": {
      "text/plain": [
       "<seaborn.axisgrid.FacetGrid at 0x7ffbd84ca700>"
      ]
     },
     "execution_count": 58,
     "metadata": {},
     "output_type": "execute_result"
    },
    {
     "data": {
      "image/png": "[encoded data removed]",
      "text/plain": [
       "<Figure size 360x360 with 1 Axes>"
      ]
     },
     "metadata": {},
     "output_type": "display_data"
    }
   ],
   "source": [
    "sns.displot(df, x=\"mc_audiencescore\")"
   ]
  },
  {
   "cell_type": "code",
   "execution_count": 59,
   "metadata": {},
   "outputs": [
    {
     "data": {
      "text/plain": [
       "<seaborn.axisgrid.FacetGrid at 0x7ffbd88940d0>"
      ]
     },
     "execution_count": 59,
     "metadata": {},
     "output_type": "execute_result"
    },
    {
     "data": {
      "image/png": "[encoded data removed]",
      "text/plain": [
       "<Figure size 360x360 with 1 Axes>"
      ]
     },
     "metadata": {},
     "output_type": "display_data"
    }
   ],
   "source": [
    "sns.displot(df, x=\"tomato_criticscore\")"
   ]
  },
  {
   "cell_type": "code",
   "execution_count": 60,
   "metadata": {},
   "outputs": [
    {
     "data": {
      "text/plain": [
       "<seaborn.axisgrid.FacetGrid at 0x7ffbe8563d60>"
      ]
     },
     "execution_count": 60,
     "metadata": {},
     "output_type": "execute_result"
    },
    {
     "data": {
      "image/png": "[encoded data removed]",
      "text/plain": [
       "<Figure size 360x360 with 1 Axes>"
      ]
     },
     "metadata": {},
     "output_type": "display_data"
    }
   ],
   "source": [
    "sns.displot(df, x=\"tomato_audiencescore\")"
   ]
  },
  {
   "cell_type": "markdown",
   "metadata": {},
   "source": [
    "## IMDB"
   ]
  },
  {
   "cell_type": "markdown",
   "metadata": {},
   "source": [
    "As is evidence in the graphs above, IMDB is the most normal distribution. We will analyze data using IMDB ratings alone."
   ]
  },
  {
   "cell_type": "markdown",
   "metadata": {},
   "source": [
    "## Towards a new dataframe\n"
   ]
  },
  {
   "cell_type": "code",
   "execution_count": 61,
   "metadata": {},
   "outputs": [
    {
     "data": {
      "text/plain": [
       "<bound method DataFrame.info of                                              mojo_title  domestic_revenue  \\\n",
       "0                                        Made in France            9956.0   \n",
       "1                                                Realms             147.0   \n",
       "2                                 Postcards from London            5312.0   \n",
       "3                                        Over the Limit            3243.0   \n",
       "4     Tall Tales from the Magical Garden of Antoon K...             220.0   \n",
       "...                                                 ...               ...   \n",
       "2772                                  The Invisible Man        70410000.0   \n",
       "2773                                           Dolittle        77047065.0   \n",
       "2774                                      Birds of Prey        84158461.0   \n",
       "2775                                 Sonic the Hedgehog       148974665.0   \n",
       "2776                                  Bad Boys for Life       206305244.0   \n",
       "\n",
       "      international_reveneue  world_revenue  \\\n",
       "0                        NaN         9956.0   \n",
       "1                    22296.0        22443.0   \n",
       "2                    10236.0        15548.0   \n",
       "3                        NaN         3243.0   \n",
       "4                 14340506.0     14340726.0   \n",
       "...                      ...            ...   \n",
       "2772              72741000.0    143151000.0   \n",
       "2773             168255817.0    245302882.0   \n",
       "2774             117700000.0    201858461.0   \n",
       "2775             164621905.0    313596570.0   \n",
       "2776             220200000.0    426505244.0   \n",
       "\n",
       "                            distributor  opening_revenue opening_theaters  \\\n",
       "0                   Under The Milky Way           3688.0       2 theaters   \n",
       "1                       The Film Arcade            108.0       3 theaters   \n",
       "2                      Strand Releasing           2686.0        1 theater   \n",
       "3                         Film Movement           1402.0       2 theaters   \n",
       "4                         Viva Pictures              NaN      20 theaters   \n",
       "...                                 ...              ...              ...   \n",
       "2772                 Universal Pictures       28205665.0   3,636 theaters   \n",
       "2773                 Universal Pictures       21844045.0   4,155 theaters   \n",
       "2774                       Warner Bros.       33010017.0   4,236 theaters   \n",
       "2775                 Paramount Pictures       58018348.0   4,198 theaters   \n",
       "2776  Sony Pictures Entertainment (SPE)       62504105.0   3,775 theaters   \n",
       "\n",
       "            budget MPAA                                     genres  ...  \\\n",
       "0              NaN  NaN                     Crime, Drama, Thriller  ...   \n",
       "1              NaN    R                            Horror, Mystery  ...   \n",
       "2              NaN  NaN                                      Drama  ...   \n",
       "3              NaN  NaN                         Documentary, Sport  ...   \n",
       "4              NaN   PG       Adventure, Animation, Comedy, Family  ...   \n",
       "...            ...  ...                                        ...  ...   \n",
       "2772    $7,000,000    R   Drama, Horror, Mystery, Sci-Fi, Thriller  ...   \n",
       "2773  $175,000,000   PG         Adventure, Comedy, Family, Fantasy  ...   \n",
       "2774   $84,500,000    R           Action, Adventure, Comedy, Crime  ...   \n",
       "2775   $85,000,000   PG  Action, Adventure, Comedy, Family, Sci-Fi  ...   \n",
       "2776   $90,000,000    R            Action, Comedy, Crime, Thriller  ...   \n",
       "\n",
       "     mc_criticcount mc_audiencescore mc_audiencecount  \\\n",
       "0               4.0              NaN              NaN   \n",
       "1               9.0              NaN              NaN   \n",
       "2               NaN              NaN              NaN   \n",
       "3               4.0              NaN              NaN   \n",
       "4               NaN              NaN              NaN   \n",
       "...             ...              ...              ...   \n",
       "2772           58.0             69.0            533.0   \n",
       "2773            NaN              NaN              NaN   \n",
       "2774           59.0             30.0           2502.0   \n",
       "2775            NaN              NaN              NaN   \n",
       "2776            NaN              NaN              NaN   \n",
       "\n",
       "                                                    url  \\\n",
       "0      https://rottentomatoes.com/m/made_in_france_2016   \n",
       "1          https://rottentomatoes.com/m/realms-of-blood   \n",
       "2     https://rottentomatoes.com/m/postcards_from_lo...   \n",
       "3           https://rottentomatoes.com/m/over_the_limit   \n",
       "4     https://rottentomatoes.com/m/tall_tales_from_t...   \n",
       "...                                                 ...   \n",
       "2772  https://rottentomatoes.com/m/the_invisible_man...   \n",
       "2773              https://rottentomatoes.com/m/dolittle   \n",
       "2774    https://rottentomatoes.com/m/birds_of_prey_2020   \n",
       "2775  https://rottentomatoes.com/m/sonic_the_hedgeho...   \n",
       "2776     https://rottentomatoes.com/m/bad_boys_for_life   \n",
       "\n",
       "                                           tomato_title tomato_criticscore  \\\n",
       "0                                        Made in France                NaN   \n",
       "1                                       Realms of Blood                NaN   \n",
       "2                                 Postcards From London               50.0   \n",
       "3                                        Over the Limit              100.0   \n",
       "4     Tall Tales From the Magical Garden of Antoon K...                NaN   \n",
       "...                                                 ...                ...   \n",
       "2772                                  The Invisible Man               91.0   \n",
       "2773                                           Dolittle               13.0   \n",
       "2774  Birds of Prey (and the Fantabulous Emancipatio...               78.0   \n",
       "2775                                 Sonic the Hedgehog               63.0   \n",
       "2776                                  Bad Boys for Life               77.0   \n",
       "\n",
       "      tomato_audiencescore  tomato_criticcount  tomato_audiencecount  \\\n",
       "0                     67.0                 NaN                  44.0   \n",
       "1                      NaN                 NaN                   NaN   \n",
       "2                     32.0                  16                  66.0   \n",
       "3                     73.0                   9                  55.0   \n",
       "4                     29.0                 NaN                  14.0   \n",
       "...                    ...                 ...                   ...   \n",
       "2772                  88.0                 397               11942.0   \n",
       "2773                  76.0                 231               11528.0   \n",
       "2774                  78.0                 413               15718.0   \n",
       "2775                  93.0                 237               19468.0   \n",
       "2776                  96.0                 257               42968.0   \n",
       "\n",
       "                                           tomato_image  \n",
       "0     https://resizing.flixster.com/kNAx-vP2oyaFP62m...  \n",
       "1     /assets/pizza-pie/images/poster_default.c8c896...  \n",
       "2     https://resizing.flixster.com/GiuH2v-t2jvzC0Uu...  \n",
       "3     https://resizing.flixster.com/CHGxEsGtDZbPgzH4...  \n",
       "4     https://resizing.flixster.com/EmYqOnBhv0f8cgcc...  \n",
       "...                                                 ...  \n",
       "2772  https://resizing.flixster.com/ZDisBvib7RW1HNgj...  \n",
       "2773  https://resizing.flixster.com/M36Iydu9GjpyZ-ey...  \n",
       "2774  https://resizing.flixster.com/Z2wwW0uGDmBLYr1_...  \n",
       "2775  https://resizing.flixster.com/KlcT35A3b-y5DItq...  \n",
       "2776  https://resizing.flixster.com/4kzegfgOeJgsxg71...  \n",
       "\n",
       "[2656 rows x 27 columns]>"
      ]
     },
     "execution_count": 61,
     "metadata": {},
     "output_type": "execute_result"
    }
   ],
   "source": [
    "df.info"
   ]
  },
  {
   "cell_type": "code",
   "execution_count": 62,
   "metadata": {},
   "outputs": [],
   "source": [
    "df_new = df\n",
    "df_new = df_new.drop(columns=['domestic_revenue', 'international_reveneue', 'opening_revenue',\n",
    "                              'imdbpicture', 'imdb_metacritic', 'mc_criticscore', 'mc_criticcount',\n",
    "                            'mc_audiencescore', 'mc_audiencecount', 'url', 'tomato_title',\n",
    "                            'tomato_criticscore', 'tomato_audiencescore', 'tomato_criticcount',\n",
    "                            'tomato_audiencecount', 'tomato_image'], axis=1)\n",
    "\n",
    "#df_new['domestic_international_ratio'] = df['domestic_revenue'] / df['international_reveneue']\n",
    "\n",
    "#let's drop revenues, as those present the risk of multicolinearity\n",
    "# df_new = df_new.drop(columns=['domestic_revenue', 'international_reveneue', 'opening_revenue']).head(2)"
   ]
  },
  {
   "cell_type": "code",
   "execution_count": 63,
   "metadata": {
    "scrolled": true
   },
   "outputs": [
    {
     "data": {
      "text/html": [
       "<div>\n",
       "<style scoped>\n",
       "    .dataframe tbody tr th:only-of-type {\n",
       "        vertical-align: middle;\n",
       "    }\n",
       "\n",
       "    .dataframe tbody tr th {\n",
       "        vertical-align: top;\n",
       "    }\n",
       "\n",
       "    .dataframe thead th {\n",
       "        text-align: right;\n",
       "    }\n",
       "</style>\n",
       "<table border=\"1\" class=\"dataframe\">\n",
       "  <thead>\n",
       "    <tr style=\"text-align: right;\">\n",
       "      <th></th>\n",
       "      <th>mojo_title</th>\n",
       "      <th>world_revenue</th>\n",
       "      <th>distributor</th>\n",
       "      <th>opening_theaters</th>\n",
       "      <th>budget</th>\n",
       "      <th>MPAA</th>\n",
       "      <th>genres</th>\n",
       "      <th>release_days</th>\n",
       "      <th>release_year</th>\n",
       "      <th>imdbscore</th>\n",
       "      <th>imdbcount</th>\n",
       "    </tr>\n",
       "  </thead>\n",
       "  <tbody>\n",
       "    <tr>\n",
       "      <th>0</th>\n",
       "      <td>Made in France</td>\n",
       "      <td>9956.0</td>\n",
       "      <td>Under The Milky Way</td>\n",
       "      <td>2 theaters</td>\n",
       "      <td>NaN</td>\n",
       "      <td>NaN</td>\n",
       "      <td>Crime, Drama, Thriller</td>\n",
       "      <td>Sep 23, 2016</td>\n",
       "      <td>2016</td>\n",
       "      <td>6.2</td>\n",
       "      <td>563379</td>\n",
       "    </tr>\n",
       "    <tr>\n",
       "      <th>1</th>\n",
       "      <td>Realms</td>\n",
       "      <td>22443.0</td>\n",
       "      <td>The Film Arcade</td>\n",
       "      <td>3 theaters</td>\n",
       "      <td>NaN</td>\n",
       "      <td>R</td>\n",
       "      <td>Horror, Mystery</td>\n",
       "      <td>Sep 7, 2018</td>\n",
       "      <td>2018</td>\n",
       "      <td>5.5</td>\n",
       "      <td>112304</td>\n",
       "    </tr>\n",
       "    <tr>\n",
       "      <th>2</th>\n",
       "      <td>Postcards from London</td>\n",
       "      <td>15548.0</td>\n",
       "      <td>Strand Releasing</td>\n",
       "      <td>1 theater</td>\n",
       "      <td>NaN</td>\n",
       "      <td>NaN</td>\n",
       "      <td>Drama</td>\n",
       "      <td>Nov 9, 2018</td>\n",
       "      <td>2018</td>\n",
       "      <td>5.1</td>\n",
       "      <td>212816</td>\n",
       "    </tr>\n",
       "    <tr>\n",
       "      <th>3</th>\n",
       "      <td>Over the Limit</td>\n",
       "      <td>3243.0</td>\n",
       "      <td>Film Movement</td>\n",
       "      <td>2 theaters</td>\n",
       "      <td>NaN</td>\n",
       "      <td>NaN</td>\n",
       "      <td>Documentary, Sport</td>\n",
       "      <td>Oct 12, 2018</td>\n",
       "      <td>2018</td>\n",
       "      <td>7.4</td>\n",
       "      <td>62252</td>\n",
       "    </tr>\n",
       "    <tr>\n",
       "      <th>4</th>\n",
       "      <td>Tall Tales from the Magical Garden of Antoon K...</td>\n",
       "      <td>14340726.0</td>\n",
       "      <td>Viva Pictures</td>\n",
       "      <td>20 theaters</td>\n",
       "      <td>NaN</td>\n",
       "      <td>PG</td>\n",
       "      <td>Adventure, Animation, Comedy, Family</td>\n",
       "      <td>Jan 11, 2019</td>\n",
       "      <td>2019</td>\n",
       "      <td>4.6</td>\n",
       "      <td>437340</td>\n",
       "    </tr>\n",
       "  </tbody>\n",
       "</table>\n",
       "</div>"
      ],
      "text/plain": [
       "                                          mojo_title  world_revenue  \\\n",
       "0                                     Made in France         9956.0   \n",
       "1                                             Realms        22443.0   \n",
       "2                              Postcards from London        15548.0   \n",
       "3                                     Over the Limit         3243.0   \n",
       "4  Tall Tales from the Magical Garden of Antoon K...     14340726.0   \n",
       "\n",
       "           distributor opening_theaters budget MPAA  \\\n",
       "0  Under The Milky Way       2 theaters    NaN  NaN   \n",
       "1      The Film Arcade       3 theaters    NaN    R   \n",
       "2     Strand Releasing        1 theater    NaN  NaN   \n",
       "3        Film Movement       2 theaters    NaN  NaN   \n",
       "4        Viva Pictures      20 theaters    NaN   PG   \n",
       "\n",
       "                                 genres  release_days release_year  imdbscore  \\\n",
       "0                Crime, Drama, Thriller  Sep 23, 2016         2016        6.2   \n",
       "1                       Horror, Mystery   Sep 7, 2018         2018        5.5   \n",
       "2                                 Drama   Nov 9, 2018         2018        5.1   \n",
       "3                    Documentary, Sport  Oct 12, 2018         2018        7.4   \n",
       "4  Adventure, Animation, Comedy, Family  Jan 11, 2019         2019        4.6   \n",
       "\n",
       "  imdbcount  \n",
       "0    563379  \n",
       "1    112304  \n",
       "2    212816  \n",
       "3     62252  \n",
       "4    437340  "
      ]
     },
     "execution_count": 63,
     "metadata": {},
     "output_type": "execute_result"
    }
   ],
   "source": [
    "df_new.head()"
   ]
  },
  {
   "cell_type": "markdown",
   "metadata": {},
   "source": [
    "## Let's analyze genre: one-hot-encoding"
   ]
  },
  {
   "cell_type": "markdown",
   "metadata": {},
   "source": [
    "To add in our first feature, genre, we need to one-hot-encode this genre column."
   ]
  },
  {
   "cell_type": "code",
   "execution_count": 64,
   "metadata": {},
   "outputs": [
    {
     "data": {
      "text/plain": [
       "True"
      ]
     },
     "execution_count": 64,
     "metadata": {},
     "output_type": "execute_result"
    }
   ],
   "source": [
    "df_new['genres'].isnull().values.any()"
   ]
  },
  {
   "cell_type": "code",
   "execution_count": 65,
   "metadata": {},
   "outputs": [],
   "source": [
    "df_new[df_new.duplicated(subset=['genres'])].sort_values(by='mojo_title')\n",
    "#NaN columns at the bottom, safe to remove\n",
    "df_new = df_new.dropna(subset=['genres'])"
   ]
  },
  {
   "cell_type": "code",
   "execution_count": 66,
   "metadata": {},
   "outputs": [
    {
     "data": {
      "text/plain": [
       "True"
      ]
     },
     "execution_count": 66,
     "metadata": {},
     "output_type": "execute_result"
    }
   ],
   "source": [
    "df_new['imdbscore'].isnull().values.any()"
   ]
  },
  {
   "cell_type": "code",
   "execution_count": 67,
   "metadata": {},
   "outputs": [],
   "source": [
    "df_new = df_new.dropna(subset=['imdbscore'])"
   ]
  },
  {
   "cell_type": "code",
   "execution_count": 69,
   "metadata": {},
   "outputs": [
    {
     "data": {
      "text/plain": [
       "<bound method DataFrame.info of                                              mojo_title  world_revenue  \\\n",
       "0                                        Made in France         9956.0   \n",
       "1                                                Realms        22443.0   \n",
       "2                                 Postcards from London        15548.0   \n",
       "3                                        Over the Limit         3243.0   \n",
       "4     Tall Tales from the Magical Garden of Antoon K...     14340726.0   \n",
       "...                                                 ...            ...   \n",
       "2765                                    The New Mutants     46766745.0   \n",
       "2768                                      The Gentlemen    115171795.0   \n",
       "2772                                  The Invisible Man    143151000.0   \n",
       "2774                                      Birds of Prey    201858461.0   \n",
       "2776                                  Bad Boys for Life    426505244.0   \n",
       "\n",
       "                            distributor opening_theaters       budget   MPAA  \\\n",
       "0                   Under The Milky Way       2 theaters          NaN    NaN   \n",
       "1                       The Film Arcade       3 theaters          NaN      R   \n",
       "2                      Strand Releasing        1 theater          NaN    NaN   \n",
       "3                         Film Movement       2 theaters          NaN    NaN   \n",
       "4                         Viva Pictures      20 theaters          NaN     PG   \n",
       "...                                 ...              ...          ...    ...   \n",
       "2765               20th Century Studios   2,754 theaters          NaN  PG-13   \n",
       "2768                  STX Entertainment   2,675 theaters  $22,000,000      R   \n",
       "2772                 Universal Pictures   3,636 theaters   $7,000,000      R   \n",
       "2774                       Warner Bros.   4,236 theaters  $84,500,000      R   \n",
       "2776  Sony Pictures Entertainment (SPE)   3,775 theaters  $90,000,000      R   \n",
       "\n",
       "                                        genres  release_days release_year  \\\n",
       "0                       Crime, Drama, Thriller  Sep 23, 2016         2016   \n",
       "1                              Horror, Mystery   Sep 7, 2018         2018   \n",
       "2                                        Drama   Nov 9, 2018         2018   \n",
       "3                           Documentary, Sport  Oct 12, 2018         2018   \n",
       "4         Adventure, Animation, Comedy, Family  Jan 11, 2019         2019   \n",
       "...                                        ...           ...          ...   \n",
       "2765                    Action, Horror, Sci-Fi  Aug 28, 2020         2020   \n",
       "2768                     Action, Comedy, Crime  Jan 24, 2020         2020   \n",
       "2772  Drama, Horror, Mystery, Sci-Fi, Thriller  Feb 28, 2020         2020   \n",
       "2774          Action, Adventure, Comedy, Crime   Feb 7, 2020         2020   \n",
       "2776           Action, Comedy, Crime, Thriller  Jan 17, 2020         2020   \n",
       "\n",
       "      imdbscore imdbcount  \n",
       "0           6.2    563379  \n",
       "1           5.5    112304  \n",
       "2           5.1    212816  \n",
       "3           7.4     62252  \n",
       "4           4.6    437340  \n",
       "...         ...       ...  \n",
       "2765        5.3       NaN  \n",
       "2768        7.8       NaN  \n",
       "2772        7.1       NaN  \n",
       "2774        6.1       NaN  \n",
       "2776        6.6       NaN  \n",
       "\n",
       "[2316 rows x 11 columns]>"
      ]
     },
     "execution_count": 69,
     "metadata": {},
     "output_type": "execute_result"
    }
   ],
   "source": [
    "df_new.info"
   ]
  },
  {
   "cell_type": "code",
   "execution_count": 70,
   "metadata": {},
   "outputs": [],
   "source": [
    "# df['opening_theaters'] = df['opening_theaters'].str.extract(r'([^\\s]+)')\n",
    "# df['opening_theaters'] = df['opening_theaters'].str.replace(',', '')\n",
    "# df['opening_theaters'] = pd.to_numeric(df['opening_theaters'])\n",
    "genres = np.unique(', '.join(df_new['genres']).split(', '))\n",
    "genres = np.delete(genres, np.where(genres == 'NA'))\n",
    "for genre in genres:\n",
    "    df_new[genre] = df_new['genres'].str.contains(genre).astype('int')\n",
    "df_new.drop('genres', axis=1, inplace=True)"
   ]
  },
  {
   "cell_type": "code",
   "execution_count": 71,
   "metadata": {
    "scrolled": true
   },
   "outputs": [
    {
     "data": {
      "text/html": [
       "<div>\n",
       "<style scoped>\n",
       "    .dataframe tbody tr th:only-of-type {\n",
       "        vertical-align: middle;\n",
       "    }\n",
       "\n",
       "    .dataframe tbody tr th {\n",
       "        vertical-align: top;\n",
       "    }\n",
       "\n",
       "    .dataframe thead th {\n",
       "        text-align: right;\n",
       "    }\n",
       "</style>\n",
       "<table border=\"1\" class=\"dataframe\">\n",
       "  <thead>\n",
       "    <tr style=\"text-align: right;\">\n",
       "      <th></th>\n",
       "      <th>mojo_title</th>\n",
       "      <th>world_revenue</th>\n",
       "      <th>distributor</th>\n",
       "      <th>opening_theaters</th>\n",
       "      <th>budget</th>\n",
       "      <th>MPAA</th>\n",
       "      <th>release_days</th>\n",
       "      <th>release_year</th>\n",
       "      <th>imdbscore</th>\n",
       "      <th>imdbcount</th>\n",
       "      <th>...</th>\n",
       "      <th>Musical</th>\n",
       "      <th>Mystery</th>\n",
       "      <th>News</th>\n",
       "      <th>Romance</th>\n",
       "      <th>Sci-Fi</th>\n",
       "      <th>Short</th>\n",
       "      <th>Sport</th>\n",
       "      <th>Thriller</th>\n",
       "      <th>War</th>\n",
       "      <th>Western</th>\n",
       "    </tr>\n",
       "  </thead>\n",
       "  <tbody>\n",
       "    <tr>\n",
       "      <th>1408</th>\n",
       "      <td>Superman</td>\n",
       "      <td>233585.0</td>\n",
       "      <td>Fathom Events</td>\n",
       "      <td>394 theaters</td>\n",
       "      <td>$55,000,000</td>\n",
       "      <td>PG</td>\n",
       "      <td>Nov 25, 2018</td>\n",
       "      <td>2018</td>\n",
       "      <td>6.4</td>\n",
       "      <td>Link error</td>\n",
       "      <td>...</td>\n",
       "      <td>0</td>\n",
       "      <td>0</td>\n",
       "      <td>0</td>\n",
       "      <td>0</td>\n",
       "      <td>1</td>\n",
       "      <td>0</td>\n",
       "      <td>0</td>\n",
       "      <td>0</td>\n",
       "      <td>0</td>\n",
       "      <td>0</td>\n",
       "    </tr>\n",
       "    <tr>\n",
       "      <th>2067</th>\n",
       "      <td>Manolo: the Boy Who Made Shoes for Lizards</td>\n",
       "      <td>64889.0</td>\n",
       "      <td>Music Box Films</td>\n",
       "      <td>11 theaters</td>\n",
       "      <td>NaN</td>\n",
       "      <td>NaN</td>\n",
       "      <td>Sep 15, 2017</td>\n",
       "      <td>2017</td>\n",
       "      <td>6.4</td>\n",
       "      <td>3840</td>\n",
       "      <td>...</td>\n",
       "      <td>0</td>\n",
       "      <td>0</td>\n",
       "      <td>0</td>\n",
       "      <td>0</td>\n",
       "      <td>0</td>\n",
       "      <td>0</td>\n",
       "      <td>0</td>\n",
       "      <td>0</td>\n",
       "      <td>0</td>\n",
       "      <td>0</td>\n",
       "    </tr>\n",
       "    <tr>\n",
       "      <th>1677</th>\n",
       "      <td>The Happytime Murders</td>\n",
       "      <td>27506452.0</td>\n",
       "      <td>STX Entertainment</td>\n",
       "      <td>3,256 theaters</td>\n",
       "      <td>$40,000,000</td>\n",
       "      <td>R</td>\n",
       "      <td>Aug 24, 2018</td>\n",
       "      <td>2018</td>\n",
       "      <td>5.4</td>\n",
       "      <td>2334</td>\n",
       "      <td>...</td>\n",
       "      <td>0</td>\n",
       "      <td>1</td>\n",
       "      <td>0</td>\n",
       "      <td>0</td>\n",
       "      <td>0</td>\n",
       "      <td>0</td>\n",
       "      <td>0</td>\n",
       "      <td>1</td>\n",
       "      <td>0</td>\n",
       "      <td>0</td>\n",
       "    </tr>\n",
       "    <tr>\n",
       "      <th>1607</th>\n",
       "      <td>The Sisters Brothers</td>\n",
       "      <td>13143056.0</td>\n",
       "      <td>Annapurna Pictures</td>\n",
       "      <td>1,141 theaters</td>\n",
       "      <td>NaN</td>\n",
       "      <td>R</td>\n",
       "      <td>NaN</td>\n",
       "      <td>nan</td>\n",
       "      <td>7.0</td>\n",
       "      <td>Link error</td>\n",
       "      <td>...</td>\n",
       "      <td>0</td>\n",
       "      <td>0</td>\n",
       "      <td>0</td>\n",
       "      <td>0</td>\n",
       "      <td>0</td>\n",
       "      <td>0</td>\n",
       "      <td>0</td>\n",
       "      <td>0</td>\n",
       "      <td>0</td>\n",
       "      <td>1</td>\n",
       "    </tr>\n",
       "    <tr>\n",
       "      <th>692</th>\n",
       "      <td>Wild Rose</td>\n",
       "      <td>7123449.0</td>\n",
       "      <td>Neon</td>\n",
       "      <td>195 theaters</td>\n",
       "      <td>NaN</td>\n",
       "      <td>R</td>\n",
       "      <td>Jun 21, 2019</td>\n",
       "      <td>2019</td>\n",
       "      <td>7.2</td>\n",
       "      <td>418929</td>\n",
       "      <td>...</td>\n",
       "      <td>0</td>\n",
       "      <td>0</td>\n",
       "      <td>0</td>\n",
       "      <td>0</td>\n",
       "      <td>0</td>\n",
       "      <td>0</td>\n",
       "      <td>0</td>\n",
       "      <td>0</td>\n",
       "      <td>0</td>\n",
       "      <td>0</td>\n",
       "    </tr>\n",
       "    <tr>\n",
       "      <th>1592</th>\n",
       "      <td>Murder on the Orient Express</td>\n",
       "      <td>352789811.0</td>\n",
       "      <td>Twentieth Century Fox</td>\n",
       "      <td>3,354 theaters</td>\n",
       "      <td>$55,000,000</td>\n",
       "      <td>PG-13</td>\n",
       "      <td>Nov 10, 2017</td>\n",
       "      <td>2017</td>\n",
       "      <td>6.5</td>\n",
       "      <td>NaN</td>\n",
       "      <td>...</td>\n",
       "      <td>0</td>\n",
       "      <td>1</td>\n",
       "      <td>0</td>\n",
       "      <td>0</td>\n",
       "      <td>0</td>\n",
       "      <td>0</td>\n",
       "      <td>0</td>\n",
       "      <td>0</td>\n",
       "      <td>0</td>\n",
       "      <td>0</td>\n",
       "    </tr>\n",
       "    <tr>\n",
       "      <th>881</th>\n",
       "      <td>The LEGO Movie 2: The Second Part</td>\n",
       "      <td>192306508.0</td>\n",
       "      <td>Warner Bros.</td>\n",
       "      <td>4,303 theaters</td>\n",
       "      <td>$99,000,000</td>\n",
       "      <td>PG</td>\n",
       "      <td>Feb 8, 2019</td>\n",
       "      <td>2019</td>\n",
       "      <td>6.6</td>\n",
       "      <td>54799</td>\n",
       "      <td>...</td>\n",
       "      <td>1</td>\n",
       "      <td>0</td>\n",
       "      <td>0</td>\n",
       "      <td>0</td>\n",
       "      <td>0</td>\n",
       "      <td>0</td>\n",
       "      <td>0</td>\n",
       "      <td>0</td>\n",
       "      <td>0</td>\n",
       "      <td>0</td>\n",
       "    </tr>\n",
       "    <tr>\n",
       "      <th>2737</th>\n",
       "      <td>The Broken Hearts Gallery</td>\n",
       "      <td>4781389.0</td>\n",
       "      <td>TriStar Pictures</td>\n",
       "      <td>2,221 theaters</td>\n",
       "      <td>NaN</td>\n",
       "      <td>PG-13</td>\n",
       "      <td>Sep 11, 2020</td>\n",
       "      <td>2020</td>\n",
       "      <td>6.2</td>\n",
       "      <td>NaN</td>\n",
       "      <td>...</td>\n",
       "      <td>0</td>\n",
       "      <td>0</td>\n",
       "      <td>0</td>\n",
       "      <td>1</td>\n",
       "      <td>0</td>\n",
       "      <td>0</td>\n",
       "      <td>0</td>\n",
       "      <td>0</td>\n",
       "      <td>0</td>\n",
       "      <td>0</td>\n",
       "    </tr>\n",
       "    <tr>\n",
       "      <th>1410</th>\n",
       "      <td>Alien Intrusion: Unmasking a Deception</td>\n",
       "      <td>237411.0</td>\n",
       "      <td>Fathom Events</td>\n",
       "      <td>727 theaters</td>\n",
       "      <td>NaN</td>\n",
       "      <td>NaN</td>\n",
       "      <td>Jan 11, 2018</td>\n",
       "      <td>2018</td>\n",
       "      <td>5.3</td>\n",
       "      <td>433</td>\n",
       "      <td>...</td>\n",
       "      <td>0</td>\n",
       "      <td>0</td>\n",
       "      <td>0</td>\n",
       "      <td>0</td>\n",
       "      <td>0</td>\n",
       "      <td>0</td>\n",
       "      <td>0</td>\n",
       "      <td>0</td>\n",
       "      <td>0</td>\n",
       "      <td>0</td>\n",
       "    </tr>\n",
       "    <tr>\n",
       "      <th>216</th>\n",
       "      <td>Chasing Einstein</td>\n",
       "      <td>24057.0</td>\n",
       "      <td>Atlas Distribution Company</td>\n",
       "      <td>4 theaters</td>\n",
       "      <td>NaN</td>\n",
       "      <td>NaN</td>\n",
       "      <td>Sep 13, 2019</td>\n",
       "      <td>2019</td>\n",
       "      <td>7.2</td>\n",
       "      <td>132</td>\n",
       "      <td>...</td>\n",
       "      <td>0</td>\n",
       "      <td>0</td>\n",
       "      <td>0</td>\n",
       "      <td>0</td>\n",
       "      <td>0</td>\n",
       "      <td>0</td>\n",
       "      <td>0</td>\n",
       "      <td>0</td>\n",
       "      <td>0</td>\n",
       "      <td>0</td>\n",
       "    </tr>\n",
       "  </tbody>\n",
       "</table>\n",
       "<p>10 rows × 35 columns</p>\n",
       "</div>"
      ],
      "text/plain": [
       "                                      mojo_title  world_revenue  \\\n",
       "1408                                    Superman       233585.0   \n",
       "2067  Manolo: the Boy Who Made Shoes for Lizards        64889.0   \n",
       "1677                       The Happytime Murders     27506452.0   \n",
       "1607                        The Sisters Brothers     13143056.0   \n",
       "692                                    Wild Rose      7123449.0   \n",
       "1592                Murder on the Orient Express    352789811.0   \n",
       "881            The LEGO Movie 2: The Second Part    192306508.0   \n",
       "2737                   The Broken Hearts Gallery      4781389.0   \n",
       "1410      Alien Intrusion: Unmasking a Deception       237411.0   \n",
       "216                             Chasing Einstein        24057.0   \n",
       "\n",
       "                     distributor opening_theaters       budget   MPAA  \\\n",
       "1408               Fathom Events     394 theaters  $55,000,000     PG   \n",
       "2067             Music Box Films      11 theaters          NaN    NaN   \n",
       "1677           STX Entertainment   3,256 theaters  $40,000,000      R   \n",
       "1607          Annapurna Pictures   1,141 theaters          NaN      R   \n",
       "692                         Neon     195 theaters          NaN      R   \n",
       "1592       Twentieth Century Fox   3,354 theaters  $55,000,000  PG-13   \n",
       "881                 Warner Bros.   4,303 theaters  $99,000,000     PG   \n",
       "2737            TriStar Pictures   2,221 theaters          NaN  PG-13   \n",
       "1410               Fathom Events     727 theaters          NaN    NaN   \n",
       "216   Atlas Distribution Company       4 theaters          NaN    NaN   \n",
       "\n",
       "      release_days release_year  imdbscore   imdbcount  ...  Musical  Mystery  \\\n",
       "1408  Nov 25, 2018         2018        6.4  Link error  ...        0        0   \n",
       "2067  Sep 15, 2017         2017        6.4        3840  ...        0        0   \n",
       "1677  Aug 24, 2018         2018        5.4        2334  ...        0        1   \n",
       "1607           NaN          nan        7.0  Link error  ...        0        0   \n",
       "692   Jun 21, 2019         2019        7.2      418929  ...        0        0   \n",
       "1592  Nov 10, 2017         2017        6.5         NaN  ...        0        1   \n",
       "881    Feb 8, 2019         2019        6.6       54799  ...        1        0   \n",
       "2737  Sep 11, 2020         2020        6.2         NaN  ...        0        0   \n",
       "1410  Jan 11, 2018         2018        5.3         433  ...        0        0   \n",
       "216   Sep 13, 2019         2019        7.2         132  ...        0        0   \n",
       "\n",
       "      News  Romance  Sci-Fi  Short  Sport  Thriller  War  Western  \n",
       "1408     0        0       1      0      0         0    0        0  \n",
       "2067     0        0       0      0      0         0    0        0  \n",
       "1677     0        0       0      0      0         1    0        0  \n",
       "1607     0        0       0      0      0         0    0        1  \n",
       "692      0        0       0      0      0         0    0        0  \n",
       "1592     0        0       0      0      0         0    0        0  \n",
       "881      0        0       0      0      0         0    0        0  \n",
       "2737     0        1       0      0      0         0    0        0  \n",
       "1410     0        0       0      0      0         0    0        0  \n",
       "216      0        0       0      0      0         0    0        0  \n",
       "\n",
       "[10 rows x 35 columns]"
      ]
     },
     "execution_count": 71,
     "metadata": {},
     "output_type": "execute_result"
    }
   ],
   "source": [
    "df_new.sample(10)"
   ]
  },
  {
   "cell_type": "code",
   "execution_count": 72,
   "metadata": {},
   "outputs": [
    {
     "data": {
      "image/png": "[encoded data removed]",
      "text/plain": [
       "<Figure size 1080x864 with 2 Axes>"
      ]
     },
     "metadata": {},
     "output_type": "display_data"
    }
   ],
   "source": [
    "\n",
    "sns.set(font_scale = 1.2)\n",
    "plt.figure(figsize=(15,12))\n",
    "cor = df_new.corr()\n",
    "b = sns.heatmap(cor, annot=False, cmap=plt.cm.Reds)\n",
    "b.set_ylabel(\"Genre\",fontsize=30)\n",
    "plt.savefig('heatmap_2.svg', dpi=500)"
   ]
  },
  {
   "cell_type": "markdown",
   "metadata": {},
   "source": [
    "## Linear regression w/ Genre"
   ]
  },
  {
   "cell_type": "markdown",
   "metadata": {},
   "source": [
    "Validation method: Train / Validation / Test"
   ]
  },
  {
   "cell_type": "code",
   "execution_count": 73,
   "metadata": {},
   "outputs": [],
   "source": [
    "#hold 20% for final testing\n",
    "X, y = df_new, df_new['imdbscore']\n",
    "X_, X_test, y_, y_test = train_test_split(X, y, test_size=.2, random_state=10)"
   ]
  },
  {
   "cell_type": "code",
   "execution_count": 74,
   "metadata": {},
   "outputs": [],
   "source": [
    "X_train, X_val, y_train, y_val = train_test_split(X_, y_, test_size=.25, random_state=3)"
   ]
  },
  {
   "cell_type": "markdown",
   "metadata": {},
   "source": [
    "Target: IMDB score; features: genres; question: do people like one genre over the other?"
   ]
  },
  {
   "cell_type": "code",
   "execution_count": 75,
   "metadata": {},
   "outputs": [],
   "source": [
    "target = df_new['imdbscore']\n",
    "features = df_new[['world_revenue', 'Action', 'Adventure', 'Animation', 'Biography', 'Comedy', 'Crime', 'Documentary', \n",
    "               'Drama', 'Family', 'Fantasy', 'Film-Noir', 'History', 'Horror', 'Music', 'Musical', 'Mystery',\n",
    "               'News', 'Romance', 'Sci-Fi', 'Short', 'Sport', 'Thriller', 'War', 'Western']]"
   ]
  },
  {
   "cell_type": "code",
   "execution_count": 76,
   "metadata": {
    "scrolled": true
   },
   "outputs": [
    {
     "data": {
      "text/plain": [
       "0.1480629761036255"
      ]
     },
     "execution_count": 76,
     "metadata": {},
     "output_type": "execute_result"
    }
   ],
   "source": [
    "linear_obj = LinearRegression()\n",
    "linear_obj.fit(features, target)\n",
    "linear_obj.score(features, target)"
   ]
  },
  {
   "cell_type": "markdown",
   "metadata": {},
   "source": [
    "Add-in distributors"
   ]
  },
  {
   "cell_type": "code",
   "execution_count": 77,
   "metadata": {},
   "outputs": [
    {
     "data": {
      "text/plain": [
       "<bound method DataFrame.info of                                  mojo_title  world_revenue  \\\n",
       "7                             A Breath Away      2842040.0   \n",
       "10                         I Am Not A Witch       182462.0   \n",
       "14                Narcissister Organ Player        15334.0   \n",
       "20              For Those Who Don't Read Me        36506.0   \n",
       "21    American Playhouse: The Killing Floor         1583.0   \n",
       "...                                     ...            ...   \n",
       "2765                        The New Mutants     46766745.0   \n",
       "2768                          The Gentlemen    115171795.0   \n",
       "2772                      The Invisible Man    143151000.0   \n",
       "2774                          Birds of Prey    201858461.0   \n",
       "2776                      Bad Boys for Life    426505244.0   \n",
       "\n",
       "                            distributor opening_theaters       budget   MPAA  \\\n",
       "7                     Entertainment One      12 theaters          NaN    NaN   \n",
       "10                        Film Movement       8 theaters          NaN    NaN   \n",
       "14                        Film Movement       4 theaters          NaN    NaN   \n",
       "20                    Entertainment One       6 theaters          NaN    NaN   \n",
       "21                        Film Movement        1 theater          NaN    NaN   \n",
       "...                                 ...              ...          ...    ...   \n",
       "2765               20th Century Studios   2,754 theaters          NaN  PG-13   \n",
       "2768                  STX Entertainment   2,675 theaters  $22,000,000      R   \n",
       "2772                 Universal Pictures   3,636 theaters   $7,000,000      R   \n",
       "2774                       Warner Bros.   4,236 theaters  $84,500,000      R   \n",
       "2776  Sony Pictures Entertainment (SPE)   3,775 theaters  $90,000,000      R   \n",
       "\n",
       "      release_days release_year  imdbscore imdbcount  ...  Musical  Mystery  \\\n",
       "7     Aug 10, 2018         2018        5.9    133631  ...        0        1   \n",
       "10     Sep 7, 2018         2018        6.9    623354  ...        0        0   \n",
       "14     Nov 7, 2018         2018        5.4      5648  ...        0        0   \n",
       "20    Nov 23, 2018         2018        7.8       924  ...        0        0   \n",
       "21    Nov 22, 2019         2019        7.0       709  ...        0        0   \n",
       "...            ...          ...        ...       ...  ...      ...      ...   \n",
       "2765  Aug 28, 2020         2020        5.3       NaN  ...        0        0   \n",
       "2768  Jan 24, 2020         2020        7.8       NaN  ...        0        0   \n",
       "2772  Feb 28, 2020         2020        7.1       NaN  ...        0        1   \n",
       "2774   Feb 7, 2020         2020        6.1       NaN  ...        0        0   \n",
       "2776  Jan 17, 2020         2020        6.6       NaN  ...        0        0   \n",
       "\n",
       "      News  Romance  Sci-Fi  Short  Sport  Thriller  War  Western  \n",
       "7        0        0       1      0      0         1    0        0  \n",
       "10       0        0       0      0      0         0    0        0  \n",
       "14       0        0       0      0      0         0    0        0  \n",
       "20       0        0       0      0      0         0    0        0  \n",
       "21       0        1       1      0      0         0    0        0  \n",
       "...    ...      ...     ...    ...    ...       ...  ...      ...  \n",
       "2765     0        0       1      0      0         0    0        0  \n",
       "2768     0        0       0      0      0         0    0        0  \n",
       "2772     0        0       1      0      0         1    0        0  \n",
       "2774     0        0       0      0      0         0    0        0  \n",
       "2776     0        0       0      0      0         1    0        0  \n",
       "\n",
       "[2059 rows x 35 columns]>"
      ]
     },
     "execution_count": 77,
     "metadata": {},
     "output_type": "execute_result"
    }
   ],
   "source": [
    "df_new[df_new.duplicated(subset=['distributor'])].info"
   ]
  },
  {
   "cell_type": "code",
   "execution_count": 78,
   "metadata": {},
   "outputs": [
    {
     "name": "stdout",
     "output_type": "stream",
     "text": [
      "0\n"
     ]
    }
   ],
   "source": [
    "count = df_new[\"distributor\"].isna().sum()\n",
    "print(count)"
   ]
  },
  {
   "cell_type": "code",
   "execution_count": 79,
   "metadata": {},
   "outputs": [
    {
     "data": {
      "text/plain": [
       "Fathom Events             217\n",
       "IFC Films                 102\n",
       "Warner Bros.               79\n",
       "Indican Pictures           75\n",
       "Magnolia Pictures          73\n",
       "                         ... \n",
       "Area 23a                    1\n",
       "Joma Films                  1\n",
       "Factory 25                  1\n",
       "River Rain Productions      1\n",
       "New Line Cinema             1\n",
       "Name: distributor, Length: 271, dtype: int64"
      ]
     },
     "execution_count": 79,
     "metadata": {},
     "output_type": "execute_result"
    }
   ],
   "source": [
    "distributors = df.distributor.value_counts()\n",
    "distributors"
   ]
  },
  {
   "cell_type": "code",
   "execution_count": 80,
   "metadata": {},
   "outputs": [
    {
     "data": {
      "text/plain": [
       "<seaborn.axisgrid.FacetGrid at 0x7ffbe8e551f0>"
      ]
     },
     "execution_count": 80,
     "metadata": {},
     "output_type": "execute_result"
    },
    {
     "data": {
      "image/png": "[encoded data removed]",
      "text/plain": [
       "<Figure size 360x360 with 1 Axes>"
      ]
     },
     "metadata": {},
     "output_type": "display_data"
    }
   ],
   "source": [
    "sns.displot(df_new, x=\"distributor\")"
   ]
  },
  {
   "cell_type": "code",
   "execution_count": 83,
   "metadata": {},
   "outputs": [],
   "source": [
    "other_distributors = list(distributors[distributors <= 30].index)\n"
   ]
  },
  {
   "cell_type": "code",
   "execution_count": 84,
   "metadata": {
    "scrolled": true
   },
   "outputs": [
    {
     "data": {
      "text/plain": [
       "248"
      ]
     },
     "execution_count": 84,
     "metadata": {},
     "output_type": "execute_result"
    }
   ],
   "source": [
    "len(other_distributors)\n"
   ]
  },
  {
   "cell_type": "code",
   "execution_count": 85,
   "metadata": {},
   "outputs": [],
   "source": [
    "def split_and_validate(X, y):\n",
    "    '''\n",
    "    For a set of features and target X, y, perform a 80/20 train/val split, \n",
    "    fit and validate a linear regression model, and report results\n",
    "    '''\n",
    "    \n",
    "    # perform train/val split\n",
    "    X_train, X_val, y_train, y_val = \\\n",
    "        train_test_split(X, y, test_size=0.2, random_state=42)\n",
    "    \n",
    "    # fit linear regression to training data\n",
    "    lr_model = LinearRegression()\n",
    "    lr_model.fit(X_train, y_train)\n",
    "    \n",
    "    # score fit model on validation data\n",
    "    val_score = lr_model.score(X_val, y_val)\n",
    "    \n",
    "    # report results\n",
    "    print('\\nValidation R^2 score was:', val_score)\n",
    "    print('Feature coefficient results: \\n')\n",
    "    for feature, coef in zip(X.columns, lr_model.coef_):\n",
    "        print(feature, ':', f'{coef:.2f}')"
   ]
  },
  {
   "cell_type": "code",
   "execution_count": 86,
   "metadata": {
    "scrolled": true
   },
   "outputs": [],
   "source": [
    "X5 = df_new.copy()\n",
    "\n",
    "X5['distributor'] = df_new['distributor'].replace(other_distributors, 'Other')\n",
    "X5['distributor'] = X5['distributor'].str.replace(\" \",\"\")\n"
   ]
  },
  {
   "cell_type": "code",
   "execution_count": 87,
   "metadata": {
    "scrolled": true
   },
   "outputs": [
    {
     "data": {
      "text/html": [
       "<div>\n",
       "<style scoped>\n",
       "    .dataframe tbody tr th:only-of-type {\n",
       "        vertical-align: middle;\n",
       "    }\n",
       "\n",
       "    .dataframe tbody tr th {\n",
       "        vertical-align: top;\n",
       "    }\n",
       "\n",
       "    .dataframe thead th {\n",
       "        text-align: right;\n",
       "    }\n",
       "</style>\n",
       "<table border=\"1\" class=\"dataframe\">\n",
       "  <thead>\n",
       "    <tr style=\"text-align: right;\">\n",
       "      <th></th>\n",
       "      <th>mojo_title</th>\n",
       "      <th>world_revenue</th>\n",
       "      <th>distributor</th>\n",
       "      <th>opening_theaters</th>\n",
       "      <th>budget</th>\n",
       "      <th>MPAA</th>\n",
       "      <th>release_days</th>\n",
       "      <th>release_year</th>\n",
       "      <th>imdbscore</th>\n",
       "      <th>imdbcount</th>\n",
       "      <th>...</th>\n",
       "      <th>Musical</th>\n",
       "      <th>Mystery</th>\n",
       "      <th>News</th>\n",
       "      <th>Romance</th>\n",
       "      <th>Sci-Fi</th>\n",
       "      <th>Short</th>\n",
       "      <th>Sport</th>\n",
       "      <th>Thriller</th>\n",
       "      <th>War</th>\n",
       "      <th>Western</th>\n",
       "    </tr>\n",
       "  </thead>\n",
       "  <tbody>\n",
       "    <tr>\n",
       "      <th>2068</th>\n",
       "      <td>Worlds Apart</td>\n",
       "      <td>5011560.0</td>\n",
       "      <td>Other</td>\n",
       "      <td>2 theaters</td>\n",
       "      <td>NaN</td>\n",
       "      <td>NaN</td>\n",
       "      <td>Jan 13, 2017</td>\n",
       "      <td>2017</td>\n",
       "      <td>7.4</td>\n",
       "      <td>3629</td>\n",
       "      <td>...</td>\n",
       "      <td>0</td>\n",
       "      <td>0</td>\n",
       "      <td>0</td>\n",
       "      <td>1</td>\n",
       "      <td>0</td>\n",
       "      <td>0</td>\n",
       "      <td>0</td>\n",
       "      <td>0</td>\n",
       "      <td>0</td>\n",
       "      <td>0</td>\n",
       "    </tr>\n",
       "  </tbody>\n",
       "</table>\n",
       "<p>1 rows × 35 columns</p>\n",
       "</div>"
      ],
      "text/plain": [
       "        mojo_title  world_revenue distributor opening_theaters budget MPAA  \\\n",
       "2068  Worlds Apart      5011560.0       Other       2 theaters    NaN  NaN   \n",
       "\n",
       "      release_days release_year  imdbscore imdbcount  ...  Musical  Mystery  \\\n",
       "2068  Jan 13, 2017         2017        7.4      3629  ...        0        0   \n",
       "\n",
       "      News  Romance  Sci-Fi  Short  Sport  Thriller  War  Western  \n",
       "2068     0        1       0      0      0         0    0        0  \n",
       "\n",
       "[1 rows x 35 columns]"
      ]
     },
     "execution_count": 87,
     "metadata": {},
     "output_type": "execute_result"
    }
   ],
   "source": [
    "X5[X5['mojo_title'] == 'Worlds Apart']"
   ]
  },
  {
   "cell_type": "code",
   "execution_count": 88,
   "metadata": {},
   "outputs": [],
   "source": [
    "X5 = pd.get_dummies(X5, columns=['distributor'])"
   ]
  },
  {
   "cell_type": "code",
   "execution_count": 89,
   "metadata": {},
   "outputs": [
    {
     "data": {
      "text/plain": [
       "Index(['mojo_title', 'world_revenue', 'opening_theaters', 'budget', 'MPAA',\n",
       "       'release_days', 'release_year', 'imdbscore', 'imdbcount', 'Action',\n",
       "       'Adult', 'Adventure', 'Animation', 'Biography', 'Comedy', 'Crime',\n",
       "       'Documentary', 'Drama', 'Family', 'Fantasy', 'Film-Noir', 'History',\n",
       "       'Horror', 'Music', 'Musical', 'Mystery', 'News', 'Romance', 'Sci-Fi',\n",
       "       'Short', 'Sport', 'Thriller', 'War', 'Western', 'distributor_A24',\n",
       "       'distributor_Abramorama', 'distributor_CohenMediaGroup',\n",
       "       'distributor_FathomEvents', 'distributor_FilmMovement',\n",
       "       'distributor_FocusFeatures', 'distributor_IFCFilms',\n",
       "       'distributor_IndicanPictures', 'distributor_KinoLorber',\n",
       "       'distributor_Lionsgate', 'distributor_MagnoliaPictures',\n",
       "       'distributor_Neon', 'distributor_Oscilloscope', 'distributor_Other',\n",
       "       'distributor_ParamountPictures', 'distributor_RoadsideAttractions',\n",
       "       'distributor_SonyPicturesClassics',\n",
       "       'distributor_SonyPicturesEntertainment(SPE)',\n",
       "       'distributor_StrandReleasing', 'distributor_TwentiethCenturyFox',\n",
       "       'distributor_UniversalPictures',\n",
       "       'distributor_WaltDisneyStudiosMotionPictures',\n",
       "       'distributor_WarnerBros.', 'distributor_WellGoUSAEntertainment'],\n",
       "      dtype='object')"
      ]
     },
     "execution_count": 89,
     "metadata": {},
     "output_type": "execute_result"
    }
   ],
   "source": [
    "X5.columns"
   ]
  },
  {
   "cell_type": "code",
   "execution_count": 90,
   "metadata": {},
   "outputs": [
    {
     "data": {
      "text/html": [
       "<div>\n",
       "<style scoped>\n",
       "    .dataframe tbody tr th:only-of-type {\n",
       "        vertical-align: middle;\n",
       "    }\n",
       "\n",
       "    .dataframe tbody tr th {\n",
       "        vertical-align: top;\n",
       "    }\n",
       "\n",
       "    .dataframe thead th {\n",
       "        text-align: right;\n",
       "    }\n",
       "</style>\n",
       "<table border=\"1\" class=\"dataframe\">\n",
       "  <thead>\n",
       "    <tr style=\"text-align: right;\">\n",
       "      <th></th>\n",
       "      <th>mojo_title</th>\n",
       "      <th>world_revenue</th>\n",
       "      <th>opening_theaters</th>\n",
       "      <th>budget</th>\n",
       "      <th>MPAA</th>\n",
       "      <th>release_days</th>\n",
       "      <th>release_year</th>\n",
       "      <th>imdbscore</th>\n",
       "      <th>imdbcount</th>\n",
       "      <th>Action</th>\n",
       "      <th>...</th>\n",
       "      <th>distributor_ParamountPictures</th>\n",
       "      <th>distributor_RoadsideAttractions</th>\n",
       "      <th>distributor_SonyPicturesClassics</th>\n",
       "      <th>distributor_SonyPicturesEntertainment(SPE)</th>\n",
       "      <th>distributor_StrandReleasing</th>\n",
       "      <th>distributor_TwentiethCenturyFox</th>\n",
       "      <th>distributor_UniversalPictures</th>\n",
       "      <th>distributor_WaltDisneyStudiosMotionPictures</th>\n",
       "      <th>distributor_WarnerBros.</th>\n",
       "      <th>distributor_WellGoUSAEntertainment</th>\n",
       "    </tr>\n",
       "  </thead>\n",
       "  <tbody>\n",
       "    <tr>\n",
       "      <th>0</th>\n",
       "      <td>Made in France</td>\n",
       "      <td>9956.0</td>\n",
       "      <td>2 theaters</td>\n",
       "      <td>NaN</td>\n",
       "      <td>NaN</td>\n",
       "      <td>Sep 23, 2016</td>\n",
       "      <td>2016</td>\n",
       "      <td>6.2</td>\n",
       "      <td>563379</td>\n",
       "      <td>0</td>\n",
       "      <td>...</td>\n",
       "      <td>0</td>\n",
       "      <td>0</td>\n",
       "      <td>0</td>\n",
       "      <td>0</td>\n",
       "      <td>0</td>\n",
       "      <td>0</td>\n",
       "      <td>0</td>\n",
       "      <td>0</td>\n",
       "      <td>0</td>\n",
       "      <td>0</td>\n",
       "    </tr>\n",
       "    <tr>\n",
       "      <th>1</th>\n",
       "      <td>Realms</td>\n",
       "      <td>22443.0</td>\n",
       "      <td>3 theaters</td>\n",
       "      <td>NaN</td>\n",
       "      <td>R</td>\n",
       "      <td>Sep 7, 2018</td>\n",
       "      <td>2018</td>\n",
       "      <td>5.5</td>\n",
       "      <td>112304</td>\n",
       "      <td>0</td>\n",
       "      <td>...</td>\n",
       "      <td>0</td>\n",
       "      <td>0</td>\n",
       "      <td>0</td>\n",
       "      <td>0</td>\n",
       "      <td>0</td>\n",
       "      <td>0</td>\n",
       "      <td>0</td>\n",
       "      <td>0</td>\n",
       "      <td>0</td>\n",
       "      <td>0</td>\n",
       "    </tr>\n",
       "    <tr>\n",
       "      <th>2</th>\n",
       "      <td>Postcards from London</td>\n",
       "      <td>15548.0</td>\n",
       "      <td>1 theater</td>\n",
       "      <td>NaN</td>\n",
       "      <td>NaN</td>\n",
       "      <td>Nov 9, 2018</td>\n",
       "      <td>2018</td>\n",
       "      <td>5.1</td>\n",
       "      <td>212816</td>\n",
       "      <td>0</td>\n",
       "      <td>...</td>\n",
       "      <td>0</td>\n",
       "      <td>0</td>\n",
       "      <td>0</td>\n",
       "      <td>0</td>\n",
       "      <td>1</td>\n",
       "      <td>0</td>\n",
       "      <td>0</td>\n",
       "      <td>0</td>\n",
       "      <td>0</td>\n",
       "      <td>0</td>\n",
       "    </tr>\n",
       "    <tr>\n",
       "      <th>3</th>\n",
       "      <td>Over the Limit</td>\n",
       "      <td>3243.0</td>\n",
       "      <td>2 theaters</td>\n",
       "      <td>NaN</td>\n",
       "      <td>NaN</td>\n",
       "      <td>Oct 12, 2018</td>\n",
       "      <td>2018</td>\n",
       "      <td>7.4</td>\n",
       "      <td>62252</td>\n",
       "      <td>0</td>\n",
       "      <td>...</td>\n",
       "      <td>0</td>\n",
       "      <td>0</td>\n",
       "      <td>0</td>\n",
       "      <td>0</td>\n",
       "      <td>0</td>\n",
       "      <td>0</td>\n",
       "      <td>0</td>\n",
       "      <td>0</td>\n",
       "      <td>0</td>\n",
       "      <td>0</td>\n",
       "    </tr>\n",
       "    <tr>\n",
       "      <th>4</th>\n",
       "      <td>Tall Tales from the Magical Garden of Antoon K...</td>\n",
       "      <td>14340726.0</td>\n",
       "      <td>20 theaters</td>\n",
       "      <td>NaN</td>\n",
       "      <td>PG</td>\n",
       "      <td>Jan 11, 2019</td>\n",
       "      <td>2019</td>\n",
       "      <td>4.6</td>\n",
       "      <td>437340</td>\n",
       "      <td>0</td>\n",
       "      <td>...</td>\n",
       "      <td>0</td>\n",
       "      <td>0</td>\n",
       "      <td>0</td>\n",
       "      <td>0</td>\n",
       "      <td>0</td>\n",
       "      <td>0</td>\n",
       "      <td>0</td>\n",
       "      <td>0</td>\n",
       "      <td>0</td>\n",
       "      <td>0</td>\n",
       "    </tr>\n",
       "    <tr>\n",
       "      <th>...</th>\n",
       "      <td>...</td>\n",
       "      <td>...</td>\n",
       "      <td>...</td>\n",
       "      <td>...</td>\n",
       "      <td>...</td>\n",
       "      <td>...</td>\n",
       "      <td>...</td>\n",
       "      <td>...</td>\n",
       "      <td>...</td>\n",
       "      <td>...</td>\n",
       "      <td>...</td>\n",
       "      <td>...</td>\n",
       "      <td>...</td>\n",
       "      <td>...</td>\n",
       "      <td>...</td>\n",
       "      <td>...</td>\n",
       "      <td>...</td>\n",
       "      <td>...</td>\n",
       "      <td>...</td>\n",
       "      <td>...</td>\n",
       "      <td>...</td>\n",
       "    </tr>\n",
       "    <tr>\n",
       "      <th>2765</th>\n",
       "      <td>The New Mutants</td>\n",
       "      <td>46766745.0</td>\n",
       "      <td>2,754 theaters</td>\n",
       "      <td>NaN</td>\n",
       "      <td>PG-13</td>\n",
       "      <td>Aug 28, 2020</td>\n",
       "      <td>2020</td>\n",
       "      <td>5.3</td>\n",
       "      <td>NaN</td>\n",
       "      <td>1</td>\n",
       "      <td>...</td>\n",
       "      <td>0</td>\n",
       "      <td>0</td>\n",
       "      <td>0</td>\n",
       "      <td>0</td>\n",
       "      <td>0</td>\n",
       "      <td>0</td>\n",
       "      <td>0</td>\n",
       "      <td>0</td>\n",
       "      <td>0</td>\n",
       "      <td>0</td>\n",
       "    </tr>\n",
       "    <tr>\n",
       "      <th>2768</th>\n",
       "      <td>The Gentlemen</td>\n",
       "      <td>115171795.0</td>\n",
       "      <td>2,675 theaters</td>\n",
       "      <td>$22,000,000</td>\n",
       "      <td>R</td>\n",
       "      <td>Jan 24, 2020</td>\n",
       "      <td>2020</td>\n",
       "      <td>7.8</td>\n",
       "      <td>NaN</td>\n",
       "      <td>1</td>\n",
       "      <td>...</td>\n",
       "      <td>0</td>\n",
       "      <td>0</td>\n",
       "      <td>0</td>\n",
       "      <td>0</td>\n",
       "      <td>0</td>\n",
       "      <td>0</td>\n",
       "      <td>0</td>\n",
       "      <td>0</td>\n",
       "      <td>0</td>\n",
       "      <td>0</td>\n",
       "    </tr>\n",
       "    <tr>\n",
       "      <th>2772</th>\n",
       "      <td>The Invisible Man</td>\n",
       "      <td>143151000.0</td>\n",
       "      <td>3,636 theaters</td>\n",
       "      <td>$7,000,000</td>\n",
       "      <td>R</td>\n",
       "      <td>Feb 28, 2020</td>\n",
       "      <td>2020</td>\n",
       "      <td>7.1</td>\n",
       "      <td>NaN</td>\n",
       "      <td>0</td>\n",
       "      <td>...</td>\n",
       "      <td>0</td>\n",
       "      <td>0</td>\n",
       "      <td>0</td>\n",
       "      <td>0</td>\n",
       "      <td>0</td>\n",
       "      <td>0</td>\n",
       "      <td>1</td>\n",
       "      <td>0</td>\n",
       "      <td>0</td>\n",
       "      <td>0</td>\n",
       "    </tr>\n",
       "    <tr>\n",
       "      <th>2774</th>\n",
       "      <td>Birds of Prey</td>\n",
       "      <td>201858461.0</td>\n",
       "      <td>4,236 theaters</td>\n",
       "      <td>$84,500,000</td>\n",
       "      <td>R</td>\n",
       "      <td>Feb 7, 2020</td>\n",
       "      <td>2020</td>\n",
       "      <td>6.1</td>\n",
       "      <td>NaN</td>\n",
       "      <td>1</td>\n",
       "      <td>...</td>\n",
       "      <td>0</td>\n",
       "      <td>0</td>\n",
       "      <td>0</td>\n",
       "      <td>0</td>\n",
       "      <td>0</td>\n",
       "      <td>0</td>\n",
       "      <td>0</td>\n",
       "      <td>0</td>\n",
       "      <td>1</td>\n",
       "      <td>0</td>\n",
       "    </tr>\n",
       "    <tr>\n",
       "      <th>2776</th>\n",
       "      <td>Bad Boys for Life</td>\n",
       "      <td>426505244.0</td>\n",
       "      <td>3,775 theaters</td>\n",
       "      <td>$90,000,000</td>\n",
       "      <td>R</td>\n",
       "      <td>Jan 17, 2020</td>\n",
       "      <td>2020</td>\n",
       "      <td>6.6</td>\n",
       "      <td>NaN</td>\n",
       "      <td>1</td>\n",
       "      <td>...</td>\n",
       "      <td>0</td>\n",
       "      <td>0</td>\n",
       "      <td>0</td>\n",
       "      <td>1</td>\n",
       "      <td>0</td>\n",
       "      <td>0</td>\n",
       "      <td>0</td>\n",
       "      <td>0</td>\n",
       "      <td>0</td>\n",
       "      <td>0</td>\n",
       "    </tr>\n",
       "  </tbody>\n",
       "</table>\n",
       "<p>2316 rows × 58 columns</p>\n",
       "</div>"
      ],
      "text/plain": [
       "                                             mojo_title  world_revenue  \\\n",
       "0                                        Made in France         9956.0   \n",
       "1                                                Realms        22443.0   \n",
       "2                                 Postcards from London        15548.0   \n",
       "3                                        Over the Limit         3243.0   \n",
       "4     Tall Tales from the Magical Garden of Antoon K...     14340726.0   \n",
       "...                                                 ...            ...   \n",
       "2765                                    The New Mutants     46766745.0   \n",
       "2768                                      The Gentlemen    115171795.0   \n",
       "2772                                  The Invisible Man    143151000.0   \n",
       "2774                                      Birds of Prey    201858461.0   \n",
       "2776                                  Bad Boys for Life    426505244.0   \n",
       "\n",
       "     opening_theaters       budget   MPAA  release_days release_year  \\\n",
       "0          2 theaters          NaN    NaN  Sep 23, 2016         2016   \n",
       "1          3 theaters          NaN      R   Sep 7, 2018         2018   \n",
       "2           1 theater          NaN    NaN   Nov 9, 2018         2018   \n",
       "3          2 theaters          NaN    NaN  Oct 12, 2018         2018   \n",
       "4         20 theaters          NaN     PG  Jan 11, 2019         2019   \n",
       "...               ...          ...    ...           ...          ...   \n",
       "2765   2,754 theaters          NaN  PG-13  Aug 28, 2020         2020   \n",
       "2768   2,675 theaters  $22,000,000      R  Jan 24, 2020         2020   \n",
       "2772   3,636 theaters   $7,000,000      R  Feb 28, 2020         2020   \n",
       "2774   4,236 theaters  $84,500,000      R   Feb 7, 2020         2020   \n",
       "2776   3,775 theaters  $90,000,000      R  Jan 17, 2020         2020   \n",
       "\n",
       "      imdbscore imdbcount  Action  ...  distributor_ParamountPictures  \\\n",
       "0           6.2    563379       0  ...                              0   \n",
       "1           5.5    112304       0  ...                              0   \n",
       "2           5.1    212816       0  ...                              0   \n",
       "3           7.4     62252       0  ...                              0   \n",
       "4           4.6    437340       0  ...                              0   \n",
       "...         ...       ...     ...  ...                            ...   \n",
       "2765        5.3       NaN       1  ...                              0   \n",
       "2768        7.8       NaN       1  ...                              0   \n",
       "2772        7.1       NaN       0  ...                              0   \n",
       "2774        6.1       NaN       1  ...                              0   \n",
       "2776        6.6       NaN       1  ...                              0   \n",
       "\n",
       "      distributor_RoadsideAttractions  distributor_SonyPicturesClassics  \\\n",
       "0                                   0                                 0   \n",
       "1                                   0                                 0   \n",
       "2                                   0                                 0   \n",
       "3                                   0                                 0   \n",
       "4                                   0                                 0   \n",
       "...                               ...                               ...   \n",
       "2765                                0                                 0   \n",
       "2768                                0                                 0   \n",
       "2772                                0                                 0   \n",
       "2774                                0                                 0   \n",
       "2776                                0                                 0   \n",
       "\n",
       "      distributor_SonyPicturesEntertainment(SPE)  distributor_StrandReleasing  \\\n",
       "0                                              0                            0   \n",
       "1                                              0                            0   \n",
       "2                                              0                            1   \n",
       "3                                              0                            0   \n",
       "4                                              0                            0   \n",
       "...                                          ...                          ...   \n",
       "2765                                           0                            0   \n",
       "2768                                           0                            0   \n",
       "2772                                           0                            0   \n",
       "2774                                           0                            0   \n",
       "2776                                           1                            0   \n",
       "\n",
       "      distributor_TwentiethCenturyFox  distributor_UniversalPictures  \\\n",
       "0                                   0                              0   \n",
       "1                                   0                              0   \n",
       "2                                   0                              0   \n",
       "3                                   0                              0   \n",
       "4                                   0                              0   \n",
       "...                               ...                            ...   \n",
       "2765                                0                              0   \n",
       "2768                                0                              0   \n",
       "2772                                0                              1   \n",
       "2774                                0                              0   \n",
       "2776                                0                              0   \n",
       "\n",
       "      distributor_WaltDisneyStudiosMotionPictures  distributor_WarnerBros.  \\\n",
       "0                                               0                        0   \n",
       "1                                               0                        0   \n",
       "2                                               0                        0   \n",
       "3                                               0                        0   \n",
       "4                                               0                        0   \n",
       "...                                           ...                      ...   \n",
       "2765                                            0                        0   \n",
       "2768                                            0                        0   \n",
       "2772                                            0                        0   \n",
       "2774                                            0                        1   \n",
       "2776                                            0                        0   \n",
       "\n",
       "      distributor_WellGoUSAEntertainment  \n",
       "0                                      0  \n",
       "1                                      0  \n",
       "2                                      0  \n",
       "3                                      0  \n",
       "4                                      0  \n",
       "...                                  ...  \n",
       "2765                                   0  \n",
       "2768                                   0  \n",
       "2772                                   0  \n",
       "2774                                   0  \n",
       "2776                                   0  \n",
       "\n",
       "[2316 rows x 58 columns]"
      ]
     },
     "execution_count": 90,
     "metadata": {},
     "output_type": "execute_result"
    }
   ],
   "source": [
    "X5\n"
   ]
  },
  {
   "cell_type": "code",
   "execution_count": 91,
   "metadata": {},
   "outputs": [],
   "source": [
    "add_in_more_features = X5.iloc[:, 10:]"
   ]
  },
  {
   "cell_type": "code",
   "execution_count": 92,
   "metadata": {},
   "outputs": [
    {
     "data": {
      "text/plain": [
       "Index(['Adult', 'Adventure', 'Animation', 'Biography', 'Comedy', 'Crime',\n",
       "       'Documentary', 'Drama', 'Family', 'Fantasy', 'Film-Noir', 'History',\n",
       "       'Horror', 'Music', 'Musical', 'Mystery', 'News', 'Romance', 'Sci-Fi',\n",
       "       'Short', 'Sport', 'Thriller', 'War', 'Western', 'distributor_A24',\n",
       "       'distributor_Abramorama', 'distributor_CohenMediaGroup',\n",
       "       'distributor_FathomEvents', 'distributor_FilmMovement',\n",
       "       'distributor_FocusFeatures', 'distributor_IFCFilms',\n",
       "       'distributor_IndicanPictures', 'distributor_KinoLorber',\n",
       "       'distributor_Lionsgate', 'distributor_MagnoliaPictures',\n",
       "       'distributor_Neon', 'distributor_Oscilloscope', 'distributor_Other',\n",
       "       'distributor_ParamountPictures', 'distributor_RoadsideAttractions',\n",
       "       'distributor_SonyPicturesClassics',\n",
       "       'distributor_SonyPicturesEntertainment(SPE)',\n",
       "       'distributor_StrandReleasing', 'distributor_TwentiethCenturyFox',\n",
       "       'distributor_UniversalPictures',\n",
       "       'distributor_WaltDisneyStudiosMotionPictures',\n",
       "       'distributor_WarnerBros.', 'distributor_WellGoUSAEntertainment'],\n",
       "      dtype='object')"
      ]
     },
     "execution_count": 92,
     "metadata": {},
     "output_type": "execute_result"
    }
   ],
   "source": [
    "add_in_more_features.columns"
   ]
  },
  {
   "cell_type": "code",
   "execution_count": 93,
   "metadata": {},
   "outputs": [
    {
     "data": {
      "text/plain": [
       "0.17249526511983793"
      ]
     },
     "execution_count": 93,
     "metadata": {},
     "output_type": "execute_result"
    }
   ],
   "source": [
    "new_lr = LinearRegression()\n",
    "new_lr.fit(add_in_more_features, target)\n",
    "new_lr.score(add_in_more_features, target)\n"
   ]
  },
  {
   "cell_type": "code",
   "execution_count": null,
   "metadata": {},
   "outputs": [],
   "source": []
  },
  {
   "cell_type": "code",
   "execution_count": null,
   "metadata": {},
   "outputs": [],
   "source": []
  },
  {
   "cell_type": "markdown",
   "metadata": {},
   "source": [
    "Nice, that raised our R^2 by .3!"
   ]
  },
  {
   "cell_type": "code",
   "execution_count": null,
   "metadata": {},
   "outputs": [],
   "source": [
    "new_lr.coef_"
   ]
  },
  {
   "cell_type": "markdown",
   "metadata": {},
   "source": [
    "What if I minimize the size of these coefficients.."
   ]
  },
  {
   "cell_type": "markdown",
   "metadata": {},
   "source": [
    "LASSO/RIDGE regression"
   ]
  },
  {
   "cell_type": "markdown",
   "metadata": {},
   "source": [
    "#1 lasso"
   ]
  },
  {
   "cell_type": "code",
   "execution_count": 94,
   "metadata": {},
   "outputs": [],
   "source": [
    "add_in_more_features.columns\n",
    "more_features_list = add_in_more_features.columns.values.tolist()\n"
   ]
  },
  {
   "cell_type": "code",
   "execution_count": 95,
   "metadata": {},
   "outputs": [],
   "source": [
    "X_train_val, X_test, y_train_val, y_test = train_test_split(X5, y, test_size=0.2,random_state=42)\n",
    "X_train, X_val, y_train, y_val = train_test_split(X_train_val, y_train_val, test_size=.25, random_state=43)"
   ]
  },
  {
   "cell_type": "code",
   "execution_count": 96,
   "metadata": {},
   "outputs": [
    {
     "data": {
      "text/plain": [
       "[('Adult', -0.0),\n",
       " ('Adventure', -0.0),\n",
       " ('Animation', 0.3117850245367316),\n",
       " ('Biography', 0.0),\n",
       " ('Comedy', -0.0664152339898354),\n",
       " ('Crime', 0.07362948293958244),\n",
       " ('Documentary', 0.6516601969635661),\n",
       " ('Drama', 0.3236091879703434),\n",
       " ('Family', -0.0),\n",
       " ('Fantasy', -0.0),\n",
       " ('Film-Noir', 0.0),\n",
       " ('History', 0.0),\n",
       " ('Horror', -0.4007048947181228),\n",
       " ('Music', 0.21384551468329696),\n",
       " ('Musical', -0.0),\n",
       " ('Mystery', 0.0),\n",
       " ('News', 0.0),\n",
       " ('Romance', -0.0),\n",
       " ('Sci-Fi', -0.00856959929186524),\n",
       " ('Short', -0.0),\n",
       " ('Sport', 0.0),\n",
       " ('Thriller', -0.06972870481666894),\n",
       " ('War', 0.1497497297712556),\n",
       " ('Western', 0.0),\n",
       " ('distributor_A24', 0.0),\n",
       " ('distributor_Abramorama', 0.0),\n",
       " ('distributor_CohenMediaGroup', 0.0),\n",
       " ('distributor_FathomEvents', 0.09581399932740185),\n",
       " ('distributor_FilmMovement', -0.0),\n",
       " ('distributor_FocusFeatures', 0.0),\n",
       " ('distributor_IFCFilms', -0.0),\n",
       " ('distributor_IndicanPictures', -0.4602748351627256),\n",
       " ('distributor_KinoLorber', 0.0),\n",
       " ('distributor_Lionsgate', -0.0),\n",
       " ('distributor_MagnoliaPictures', -0.0),\n",
       " ('distributor_Neon', -0.0),\n",
       " ('distributor_Oscilloscope', -0.0),\n",
       " ('distributor_Other', -0.1293106909474969),\n",
       " ('distributor_ParamountPictures', 0.0),\n",
       " ('distributor_RoadsideAttractions', -0.0),\n",
       " ('distributor_SonyPicturesClassics', 0.0),\n",
       " ('distributor_SonyPicturesEntertainment(SPE)', 0.0),\n",
       " ('distributor_StrandReleasing', -0.0),\n",
       " ('distributor_TwentiethCenturyFox', 0.0),\n",
       " ('distributor_UniversalPictures', -0.0),\n",
       " ('distributor_WaltDisneyStudiosMotionPictures', 0.0),\n",
       " ('distributor_WarnerBros.', 0.0),\n",
       " ('distributor_WellGoUSAEntertainment', 0.0)]"
      ]
     },
     "execution_count": 96,
     "metadata": {},
     "output_type": "execute_result"
    }
   ],
   "source": [
    "lasso_model = Lasso(alpha = 0.01) # this is a VERY HIGH regularization strength!, wouldn't usually be used\n",
    "lasso_model.fit(X_train.loc[:,more_features_list], y_train)\n",
    "list(zip(more_features_list, lasso_model.coef_))"
   ]
  },
  {
   "cell_type": "code",
   "execution_count": 97,
   "metadata": {},
   "outputs": [
    {
     "data": {
      "text/plain": [
       "0.8084772134764259"
      ]
     },
     "execution_count": 97,
     "metadata": {},
     "output_type": "execute_result"
    }
   ],
   "source": [
    "test_set_pred = lasso_model.predict(X_test.loc[:,more_features_list])\n",
    "\n",
    "def mae(y_true, y_pred):\n",
    "    return np.mean(np.abs(y_pred - y_true)) \n",
    "\n",
    "mae(y_test, test_set_pred)"
   ]
  },
  {
   "cell_type": "code",
   "execution_count": null,
   "metadata": {},
   "outputs": [],
   "source": []
  },
  {
   "cell_type": "markdown",
   "metadata": {},
   "source": [
    "Yay some of the coefficients have been zeroed-out!"
   ]
  },
  {
   "cell_type": "markdown",
   "metadata": {},
   "source": [
    "#2 Ridge"
   ]
  },
  {
   "cell_type": "code",
   "execution_count": 99,
   "metadata": {},
   "outputs": [
    {
     "data": {
      "text/plain": [
       "[('Adult', -0.7246668400615186),\n",
       " ('Adventure', -0.07043762144557242),\n",
       " ('Animation', 0.6908376201791865),\n",
       " ('Biography', -0.06331833560510207),\n",
       " ('Comedy', -0.08773363200574946),\n",
       " ('Crime', 0.1904941742689602),\n",
       " ('Documentary', 0.7237680785393781),\n",
       " ('Drama', 0.3904208863471593),\n",
       " ('Family', -0.26213762809559005),\n",
       " ('Fantasy', -0.10487379183984187),\n",
       " ('Film-Noir', 1.4619134304436845),\n",
       " ('History', 0.0792927863070151),\n",
       " ('Horror', -0.40206470100189895),\n",
       " ('Music', 0.4115090435911601),\n",
       " ('Musical', -0.25640959177546013),\n",
       " ('Mystery', 0.11818671610644196),\n",
       " ('News', 0.37903764183993666),\n",
       " ('Romance', -0.0741733967031093),\n",
       " ('Sci-Fi', -0.17543705219440694),\n",
       " ('Short', -0.6700369369470623),\n",
       " ('Sport', 0.32272297497140384),\n",
       " ('Thriller', -0.15945970688291933),\n",
       " ('War', 0.3870251945818162),\n",
       " ('Western', 0.10355879532347217),\n",
       " ('distributor_A24', -0.06672873770515876),\n",
       " ('distributor_Abramorama', 0.08212780922149868),\n",
       " ('distributor_CohenMediaGroup', 0.09821499807789844),\n",
       " ('distributor_FathomEvents', 0.18326084966408396),\n",
       " ('distributor_FilmMovement', -0.07341270782385285),\n",
       " ('distributor_FocusFeatures', 0.3139140762894705),\n",
       " ('distributor_IFCFilms', -0.2554488321875476),\n",
       " ('distributor_IndicanPictures', -0.7924883785025169),\n",
       " ('distributor_KinoLorber', -0.0541725211394967),\n",
       " ('distributor_Lionsgate', -0.4367804332448998),\n",
       " ('distributor_MagnoliaPictures', -0.15663613644394483),\n",
       " ('distributor_Neon', -0.03189584371549517),\n",
       " ('distributor_Oscilloscope', -0.09942749921075664),\n",
       " ('distributor_Other', -0.1955685375250646),\n",
       " ('distributor_ParamountPictures', 0.2905825389247785),\n",
       " ('distributor_RoadsideAttractions', -0.23785938807283474),\n",
       " ('distributor_SonyPicturesClassics', 0.16012904536433442),\n",
       " ('distributor_SonyPicturesEntertainment(SPE)', 0.10122433122433763),\n",
       " ('distributor_StrandReleasing', -0.28379402732321574),\n",
       " ('distributor_TwentiethCenturyFox', 0.3266519457162216),\n",
       " ('distributor_UniversalPictures', 0.04258336522080743),\n",
       " ('distributor_WaltDisneyStudiosMotionPictures', 0.8416867591308678),\n",
       " ('distributor_WarnerBros.', 0.13627231845137117),\n",
       " ('distributor_WellGoUSAEntertainment', 0.10756500560266241)]"
      ]
     },
     "execution_count": 99,
     "metadata": {},
     "output_type": "execute_result"
    }
   ],
   "source": [
    "lr_model_ridge = Ridge(alpha = 0.01)\n",
    "lr_model_ridge.fit(X_train.loc[:,more_features_list], y_train)\n",
    "list(zip(more_features_list, lr_model_ridge.coef_))\n",
    "\n"
   ]
  },
  {
   "cell_type": "markdown",
   "metadata": {},
   "source": [
    "Minimizes the coefficients still, but still we have so many features the model becomes hard to read"
   ]
  },
  {
   "cell_type": "code",
   "execution_count": 98,
   "metadata": {},
   "outputs": [],
   "source": [
    "test_set_pred = lasso_model.predict(X_test.loc[:,more_features_list])\n"
   ]
  },
  {
   "cell_type": "code",
   "execution_count": 112,
   "metadata": {
    "scrolled": true
   },
   "outputs": [
    {
     "data": {
      "text/plain": [
       "[]"
      ]
     },
     "execution_count": 112,
     "metadata": {},
     "output_type": "execute_result"
    },
    {
     "data": {
      "image/png": "[encoded data removed]",
      "text/plain": [
       "<Figure size 576x432 with 1 Axes>"
      ]
     },
     "metadata": {
      "needs_background": "light"
     },
     "output_type": "display_data"
    }
   ],
   "source": [
    "%matplotlib inline\n",
    "plt.figure(figsize=(8, 6))\n",
    "sns.set_style(style='white') \n",
    "# plt.scatter(test_set_pred, y_test, alpha=.1,  scatter_kws={\"color\": \"black\"}, line_kws={\"color\": \"red\"})\n",
    "ax = sns.regplot(x=test_set_pred, y=y_test, color=\"black\")\n",
    "ax.set_title(\"Residual plot of model\", fontsize=30, weight='bold', y=1.1)\n",
    "\n",
    "plt.xlabel('Predicted value', fontsize=14)\n",
    "plt.ylabel('Actual value', fontsize=16)\n",
    "plt.plot()"
   ]
  },
  {
   "cell_type": "code",
   "execution_count": null,
   "metadata": {},
   "outputs": [],
   "source": [
    "df['predicted_imdb'] = lasso_model.prext()"
   ]
  },
  {
   "cell_type": "code",
   "execution_count": null,
   "metadata": {},
   "outputs": [],
   "source": []
  },
  {
   "cell_type": "code",
   "execution_count": null,
   "metadata": {},
   "outputs": [],
   "source": []
  },
  {
   "cell_type": "code",
   "execution_count": null,
   "metadata": {},
   "outputs": [],
   "source": []
  },
  {
   "cell_type": "code",
   "execution_count": null,
   "metadata": {},
   "outputs": [],
   "source": []
  },
  {
   "cell_type": "code",
   "execution_count": 101,
   "metadata": {},
   "outputs": [
    {
     "data": {
      "text/plain": [
       "0.14175884367433378"
      ]
     },
     "execution_count": 101,
     "metadata": {},
     "output_type": "execute_result"
    }
   ],
   "source": [
    "r2_score(y_test, test_set_pred)\n"
   ]
  },
  {
   "cell_type": "code",
   "execution_count": 100,
   "metadata": {},
   "outputs": [
    {
     "data": {
      "text/plain": [
       "0.8084772134764259"
      ]
     },
     "execution_count": 100,
     "metadata": {},
     "output_type": "execute_result"
    }
   ],
   "source": [
    "#Mean Absolute Error (MAE)\n",
    "def mae(y_true, y_pred):\n",
    "    return np.mean(np.abs(y_pred - y_true)) \n",
    "\n",
    "mae(y_test, test_set_pred)"
   ]
  },
  {
   "cell_type": "markdown",
   "metadata": {},
   "source": [
    "Tr > Te by .1, which indicates we are *overfitting*. We can use **stronger regularization** to combat this problem, we can try to manually change alpha, or we can find the best value of the regularization strength programmatically."
   ]
  },
  {
   "cell_type": "code",
   "execution_count": null,
   "metadata": {},
   "outputs": [],
   "source": [
    "import numpy as np\n",
    "from sklearn.preprocessing import PolynomialFeatures\n"
   ]
  },
  {
   "cell_type": "code",
   "execution_count": null,
   "metadata": {},
   "outputs": [],
   "source": [
    "poly = PolynomialFeatures(interaction_only=True)\n",
    "poly.fit_transform(X_train.loc[:,more_features_list])\n"
   ]
  },
  {
   "cell_type": "code",
   "execution_count": null,
   "metadata": {},
   "outputs": [],
   "source": []
  },
  {
   "cell_type": "code",
   "execution_count": 104,
   "metadata": {},
   "outputs": [
    {
     "ename": "NameError",
     "evalue": "name 'alphalist' is not defined",
     "output_type": "error",
     "traceback": [
      "\u001b[0;31m---------------------------------------------------------------------------\u001b[0m",
      "\u001b[0;31mNameError\u001b[0m                                 Traceback (most recent call last)",
      "\u001b[0;32m<ipython-input-104-b4e93a16d5a7>\u001b[0m in \u001b[0;36m<module>\u001b[0;34m\u001b[0m\n\u001b[1;32m      1\u001b[0m \u001b[0;31m#plot the curve of validation error as alpha changes\u001b[0m\u001b[0;34m\u001b[0m\u001b[0;34m\u001b[0m\u001b[0;34m\u001b[0m\u001b[0m\n\u001b[1;32m      2\u001b[0m \u001b[0;34m\u001b[0m\u001b[0m\n\u001b[0;32m----> 3\u001b[0;31m \u001b[0mplt\u001b[0m\u001b[0;34m.\u001b[0m\u001b[0mplot\u001b[0m\u001b[0;34m(\u001b[0m\u001b[0mnp\u001b[0m\u001b[0;34m.\u001b[0m\u001b[0mlog10\u001b[0m\u001b[0;34m(\u001b[0m\u001b[0malphalist\u001b[0m\u001b[0;34m)\u001b[0m\u001b[0;34m,\u001b[0m \u001b[0merr_vec_val\u001b[0m\u001b[0;34m)\u001b[0m\u001b[0;34m\u001b[0m\u001b[0;34m\u001b[0m\u001b[0m\n\u001b[0m",
      "\u001b[0;31mNameError\u001b[0m: name 'alphalist' is not defined"
     ]
    }
   ],
   "source": [
    "#plot the curve of validation error as alpha changes\n",
    "\n",
    "plt.plot(np.log10(alphalist), err_vec_val)"
   ]
  },
  {
   "cell_type": "code",
   "execution_count": null,
   "metadata": {},
   "outputs": [],
   "source": [
    "## This is the minimum error achieved on the validation set \n",
    "## across the different alpha values we tried\n",
    "np.min(err_vec_val)"
   ]
  },
  {
   "cell_type": "code",
   "execution_count": null,
   "metadata": {},
   "outputs": [],
   "source": [
    "## This is the value of alpha that gave us the lowest error\n",
    "\n",
    "alphalist[np.argmin(err_vec_val)]\n"
   ]
  },
  {
   "cell_type": "markdown",
   "metadata": {},
   "source": [
    "### Cross-validate with LassoCV to find the best alpha"
   ]
  },
  {
   "cell_type": "markdown",
   "metadata": {},
   "source": [
    "Instead of using a program to plot error as we change alpha (on validation data), and taking the minimum of that slope, we can use cross-validation. Here, we run 5-fold cross-validation to retrive the optimal value of alpha"
   ]
  },
  {
   "cell_type": "code",
   "execution_count": null,
   "metadata": {},
   "outputs": [],
   "source": [
    "alphavec = 10**np.linspace(-2,2,200)\n",
    "\n",
    "lasso_model = LassoCV(alphas = alphavec, cv=5)\n",
    "lasso_model.fit(X_train.loc[:,more_features_list], y_train)"
   ]
  },
  {
   "cell_type": "code",
   "execution_count": null,
   "metadata": {},
   "outputs": [],
   "source": [
    "lasso_model.alpha_\n"
   ]
  },
  {
   "cell_type": "markdown",
   "metadata": {},
   "source": [
    "By cross-validating and by using calculus (find min.), we reason the best value of alpha we will get is 0.01."
   ]
  },
  {
   "cell_type": "markdown",
   "metadata": {},
   "source": [
    "Refit it..."
   ]
  },
  {
   "cell_type": "code",
   "execution_count": null,
   "metadata": {},
   "outputs": [],
   "source": [
    "list(zip(X_train.columns, lasso_model.coef_))\n"
   ]
  },
  {
   "cell_type": "code",
   "execution_count": null,
   "metadata": {},
   "outputs": [],
   "source": [
    "mae(y_test, test_set_pred)\n"
   ]
  },
  {
   "cell_type": "code",
   "execution_count": null,
   "metadata": {},
   "outputs": [],
   "source": [
    "X5"
   ]
  },
  {
   "cell_type": "code",
   "execution_count": null,
   "metadata": {},
   "outputs": [],
   "source": [
    "y = X5['imdbscore']\n"
   ]
  },
  {
   "cell_type": "code",
   "execution_count": null,
   "metadata": {},
   "outputs": [],
   "source": [
    "len(y)"
   ]
  },
  {
   "cell_type": "code",
   "execution_count": 102,
   "metadata": {},
   "outputs": [],
   "source": [
    "lasso_model = Lasso(alpha = 0.01) # this is a VERY HIGH regularization strength!, wouldn't usually be used\n",
    "lasso_model.fit(X5.loc[:,more_features_list], y)\n",
    "\n",
    "X5['pred'] = lasso_model.predict(X5.loc[:,more_features_list])"
   ]
  },
  {
   "cell_type": "code",
   "execution_count": null,
   "metadata": {},
   "outputs": [],
   "source": [
    "X5"
   ]
  },
  {
   "cell_type": "code",
   "execution_count": null,
   "metadata": {},
   "outputs": [],
   "source": [
    "df_final = df.merge(X5, on=\"mojo_title\", how=\"right\")"
   ]
  },
  {
   "cell_type": "code",
   "execution_count": null,
   "metadata": {},
   "outputs": [],
   "source": [
    "df_final.columns"
   ]
  },
  {
   "cell_type": "code",
   "execution_count": 103,
   "metadata": {},
   "outputs": [
    {
     "data": {
      "text/plain": [
       "0.14175884367433378"
      ]
     },
     "execution_count": 103,
     "metadata": {},
     "output_type": "execute_result"
    }
   ],
   "source": [
    "r2_score(y_test, test_set_pred)\n"
   ]
  },
  {
   "cell_type": "code",
   "execution_count": null,
   "metadata": {},
   "outputs": [],
   "source": [
    "from sklearn.linear_model import lars_path\n"
   ]
  },
  {
   "cell_type": "markdown",
   "metadata": {},
   "source": [
    "Stepwise regression is a variable selection procedure for independent variables. It consists of a series of steps designed to find the most useful X-variables to include in a regression model.\n",
    "\n",
    "It's a *forward selection* process since once a variable is selected it cannot be removed from the model.\n",
    "\n"
   ]
  },
  {
   "cell_type": "code",
   "execution_count": null,
   "metadata": {},
   "outputs": [],
   "source": [
    "X, y = df_new, df_new['imdbscore']"
   ]
  },
  {
   "cell_type": "code",
   "execution_count": null,
   "metadata": {},
   "outputs": [],
   "source": [
    "lasso_model = Lasso(alpha = 0.01) # this is a VERY HIGH regularization strength!, wouldn't usually be used\n",
    "lasso_model.fit(X.loc[:,more_features_list], y)\n",
    "list(zip(more_features_list, lasso_model.coef_))"
   ]
  },
  {
   "cell_type": "code",
   "execution_count": null,
   "metadata": {},
   "outputs": [],
   "source": [
    "X5['pred'] = test_"
   ]
  },
  {
   "cell_type": "code",
   "execution_count": null,
   "metadata": {},
   "outputs": [],
   "source": [
    "mangodb_df = df.merge()"
   ]
  },
  {
   "cell_type": "code",
   "execution_count": null,
   "metadata": {},
   "outputs": [],
   "source": []
  },
  {
   "cell_type": "markdown",
   "metadata": {},
   "source": [
    "can always get back to title since index order is const. || look at residuals then join movie titles back in"
   ]
  },
  {
   "cell_type": "markdown",
   "metadata": {},
   "source": [
    "--"
   ]
  },
  {
   "cell_type": "markdown",
   "metadata": {},
   "source": [
    "- use standard scaler & a couple lines of code to incorporate LASSO/RIDGE regression\n",
    "- "
   ]
  },
  {
   "cell_type": "code",
   "execution_count": null,
   "metadata": {},
   "outputs": [],
   "source": []
  },
  {
   "cell_type": "markdown",
   "metadata": {},
   "source": [
    "- ratio btwn domestic and international?\n",
    "- complex movies who don't share the same language\n",
    "- easy-acceptable movies \n",
    "- interactions, horror by this studio is good, mine those sorts of conclusions\n",
    "- not expecting .8, get it as high as possible\n",
    "- what movies I can predict well, which ones I can't\n"
   ]
  },
  {
   "cell_type": "code",
   "execution_count": null,
   "metadata": {},
   "outputs": [],
   "source": [
    "df.info"
   ]
  },
  {
   "cell_type": "code",
   "execution_count": null,
   "metadata": {},
   "outputs": [],
   "source": [
    "df = df.dropna(subset=['imdbscore'])"
   ]
  },
  {
   "cell_type": "code",
   "execution_count": null,
   "metadata": {},
   "outputs": [],
   "source": [
    "df_new.info"
   ]
  },
  {
   "cell_type": "code",
   "execution_count": null,
   "metadata": {},
   "outputs": [],
   "source": [
    "df['imdbscore']"
   ]
  }
 ],
 "metadata": {
  "kernelspec": {
   "display_name": "Python 3",
   "language": "python",
   "name": "python3"
  },
  "language_info": {
   "codemirror_mode": {
    "name": "ipython",
    "version": 3
   },
   "file_extension": ".py",
   "mimetype": "text/x-python",
   "name": "python",
   "nbconvert_exporter": "python",
   "pygments_lexer": "ipython3",
   "version": "3.8.5"
  }
 },
 "nbformat": 4,
 "nbformat_minor": 4
}
