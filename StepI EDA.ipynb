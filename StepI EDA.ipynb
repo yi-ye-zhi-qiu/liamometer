{
 "cells": [
  {
   "cell_type": "markdown",
   "id": "living-footage",
   "metadata": {},
   "source": [
    "## The \"liamometer\" linear regression of IMDB ratings part I: EDA\n",
    "\n",
    "--- \n",
    "\n",
    "### Notebook roadmap: \n",
    "    - Read in CSVs (this notebook)\n",
    "    - EDA of each review data source, choosing a dataset\n",
    "        - RottenTomatoes\n",
    "        - Metacritic\n",
    "        - IMDB\n",
    "\n",
    "    \n",
    "---\n",
    "\n",
    "### Project summary: \n",
    "\n",
    "The liamometer is an interpretive model that asks the question: what if all viewers cared about were films from unknown international distributors? It serves as a hopeful vehicle for better representation in the movie industry. The project scraped data on thousands of movies from 2017-2020 and intends to capture the contemporary taste of viewers.\n",
    "\n",
    "View the liamometer: http://liamisaacs.com/liamometer"
   ]
  },
  {
   "cell_type": "code",
   "execution_count": 17,
   "id": "intimate-vermont",
   "metadata": {},
   "outputs": [],
   "source": [
    "import pandas as pd\n",
    "import numpy as np\n",
    "import seaborn as sns\n",
    "import matplotlib.pyplot as plt\n",
    "import re\n",
    "\n",
    "%matplotlib inline\n",
    "sns.set(style=\"white\")  "
   ]
  },
  {
   "cell_type": "code",
   "execution_count": 18,
   "id": "pressing-context",
   "metadata": {},
   "outputs": [
    {
     "data": {
      "text/html": [
       "<div>\n",
       "<style scoped>\n",
       "    .dataframe tbody tr th:only-of-type {\n",
       "        vertical-align: middle;\n",
       "    }\n",
       "\n",
       "    .dataframe tbody tr th {\n",
       "        vertical-align: top;\n",
       "    }\n",
       "\n",
       "    .dataframe thead th {\n",
       "        text-align: right;\n",
       "    }\n",
       "</style>\n",
       "<table border=\"1\" class=\"dataframe\">\n",
       "  <thead>\n",
       "    <tr style=\"text-align: right;\">\n",
       "      <th></th>\n",
       "      <th>mojo_title</th>\n",
       "      <th>domestic_revenue</th>\n",
       "      <th>international_revenue</th>\n",
       "      <th>world_revenue</th>\n",
       "      <th>distributor</th>\n",
       "      <th>opening_revenue</th>\n",
       "      <th>opening_theaters</th>\n",
       "      <th>budget</th>\n",
       "      <th>MPAA</th>\n",
       "      <th>genres</th>\n",
       "      <th>release_days</th>\n",
       "    </tr>\n",
       "  </thead>\n",
       "  <tbody>\n",
       "    <tr>\n",
       "      <th>0</th>\n",
       "      <td>Made in France</td>\n",
       "      <td>$9,956</td>\n",
       "      <td>NaN</td>\n",
       "      <td>$9,956</td>\n",
       "      <td>Under The Milky Way</td>\n",
       "      <td>$3,688</td>\n",
       "      <td>2 theaters</td>\n",
       "      <td>NaN</td>\n",
       "      <td>NaN</td>\n",
       "      <td>Crime, Drama, Thriller</td>\n",
       "      <td>Sep 23, 2016</td>\n",
       "    </tr>\n",
       "  </tbody>\n",
       "</table>\n",
       "</div>"
      ],
      "text/plain": [
       "       mojo_title domestic_revenue international_revenue world_revenue  \\\n",
       "0  Made in France           $9,956                   NaN        $9,956   \n",
       "\n",
       "           distributor opening_revenue opening_theaters budget MPAA  \\\n",
       "0  Under The Milky Way          $3,688       2 theaters    NaN  NaN   \n",
       "\n",
       "                   genres  release_days  \n",
       "0  Crime, Drama, Thriller  Sep 23, 2016  "
      ]
     },
     "execution_count": 18,
     "metadata": {},
     "output_type": "execute_result"
    }
   ],
   "source": [
    "#Mojo = BoxOfficeMojo 2017-2020 data, tutorial available here: https://yeqiuu.medium.com/tutorial-scraping-boxofficemojo-with-scrapy-299e7b35254e\n",
    "mojo = pd.read_csv('data/mojo.csv')\n",
    "#IMDB = IMDB data for all movies in Mojo\n",
    "imdb = pd.read_csv('data/imdb.csv')\n",
    "#Metacritic = metacritic data for mostly all movies in Mojo - this is because we \"guess\" the url structure as opposed to using the site's query option\n",
    "metacritic = pd.read_csv('data/metacritic.csv')\n",
    "#tomato = from rotten tomatoes, to get movie images and critic counts\n",
    "tomato = pd.read_csv('data/rotten_tomatoes.csv')\n",
    "#heirloom = IMAGES from rotten tomatoes only\n",
    "heirloom = pd.read_csv('data/movie_images.csv')\n",
    "\n",
    "#Setting indexes for proper merging later\n",
    "mojo.rename(columns={\"title\": \"mojo_title\"}, inplace=True)\n",
    "heirloom.set_index(['mojo_title'])\n",
    "imdb.set_index(['mojo_title'])\n",
    "metacritic.set_index(['mojo_title'])\n",
    "tomato.set_index(['mojo_title'])\n",
    "mojo.set_index(['mojo_title'])\n",
    "\n",
    "mojo.head(1)"
   ]
  },
  {
   "cell_type": "markdown",
   "id": "distinct-edmonton",
   "metadata": {},
   "source": [
    "---\n",
    "\n",
    "### RottenTomatoes\n",
    "\n",
    "---"
   ]
  },
  {
   "cell_type": "code",
   "execution_count": 19,
   "id": "classical-wallpaper",
   "metadata": {},
   "outputs": [
    {
     "data": {
      "text/html": [
       "<div>\n",
       "<style scoped>\n",
       "    .dataframe tbody tr th:only-of-type {\n",
       "        vertical-align: middle;\n",
       "    }\n",
       "\n",
       "    .dataframe tbody tr th {\n",
       "        vertical-align: top;\n",
       "    }\n",
       "\n",
       "    .dataframe thead th {\n",
       "        text-align: right;\n",
       "    }\n",
       "</style>\n",
       "<table border=\"1\" class=\"dataframe\">\n",
       "  <thead>\n",
       "    <tr style=\"text-align: right;\">\n",
       "      <th></th>\n",
       "      <th>mojo_title</th>\n",
       "      <th>url</th>\n",
       "      <th>tomato_title</th>\n",
       "      <th>tomato_criticscore</th>\n",
       "      <th>tomato_audiencescore</th>\n",
       "      <th>tomato_criticcount</th>\n",
       "      <th>tomato_audiencecount</th>\n",
       "      <th>tomato_image</th>\n",
       "    </tr>\n",
       "  </thead>\n",
       "  <tbody>\n",
       "    <tr>\n",
       "      <th>1</th>\n",
       "      <td>Annabelle: Creation</td>\n",
       "      <td>https://rottentomatoes.com/m/annabelle_creation</td>\n",
       "      <td>Annabelle: Creation</td>\n",
       "      <td>71.0</td>\n",
       "      <td>67.0</td>\n",
       "      <td>189</td>\n",
       "      <td>22020.0</td>\n",
       "      <td>&lt;img class=\"posterImage js-lazyLoad\" data-src=...</td>\n",
       "    </tr>\n",
       "  </tbody>\n",
       "</table>\n",
       "</div>"
      ],
      "text/plain": [
       "            mojo_title                                              url  \\\n",
       "1  Annabelle: Creation  https://rottentomatoes.com/m/annabelle_creation   \n",
       "\n",
       "          tomato_title  tomato_criticscore  tomato_audiencescore  \\\n",
       "1  Annabelle: Creation                71.0                  67.0   \n",
       "\n",
       "  tomato_criticcount  tomato_audiencecount  \\\n",
       "1                189               22020.0   \n",
       "\n",
       "                                        tomato_image  \n",
       "1  <img class=\"posterImage js-lazyLoad\" data-src=...  "
      ]
     },
     "execution_count": 19,
     "metadata": {},
     "output_type": "execute_result"
    }
   ],
   "source": [
    "tomato_final = tomato.merge(heirloom, on='mojo_title', how='left')\n",
    "tomato_final = tomato_final.drop(['url_y', 'tomato_criticcount_x'], axis=1)\n",
    "tomato_final = tomato_final.rename(columns={\"tomato_criticcount_y\":\"tomato_criticcount\", \"url_x\":\"url\"})\n",
    "tomato_final = tomato_final.dropna(subset=['tomato_image'])\n",
    "tomato_final.head(1)"
   ]
  },
  {
   "cell_type": "code",
   "execution_count": 20,
   "id": "numeric-clone",
   "metadata": {},
   "outputs": [
    {
     "name": "stderr",
     "output_type": "stream",
     "text": [
      "/Users/liamisaacs/opt/anaconda3/lib/python3.8/site-packages/seaborn/distributions.py:2557: FutureWarning: `distplot` is a deprecated function and will be removed in a future version. Please adapt your code to use either `displot` (a figure-level function with similar flexibility) or `histplot` (an axes-level function for histograms).\n",
      "  warnings.warn(msg, FutureWarning)\n"
     ]
    },
    {
     "data": {
      "image/png": "[encoded data removed]",
      "text/plain": [
       "<Figure size 288x144 with 1 Axes>"
      ]
     },
     "metadata": {},
     "output_type": "display_data"
    }
   ],
   "source": [
    "def get_img_url(df):  \n",
    "    return re.findall('(?<=data-src).*$', df)[0][2:-2]\n",
    "tomato_final['tomato_image'] = tomato_final['tomato_image'].apply(get_img_url)\n",
    "\n",
    "#Plot EDA\n",
    "\n",
    "plt.figure(figsize=(4, 2))\n",
    "sns.set_style(style='white') \n",
    "ax = sns.distplot(tomato_final['tomato_audiencescore']/10)\n",
    "ax.set_title(\"RottenTomatoes Audience Score\", fontsize=13, weight='bold', y=1.1)\n",
    "\n",
    "plt.xlabel('Audience Score (1-10)', fontsize=11)\n",
    "plt.ylabel('Score Count', fontsize=11)\n",
    "plt.plot()\n",
    "\n",
    "plt.savefig('RT.png', dpi=300, bbox_inches='tight')"
   ]
  },
  {
   "cell_type": "markdown",
   "id": "likely-telephone",
   "metadata": {},
   "source": [
    "---\n",
    "\n",
    "### IMDB\n",
    "\n",
    "--- "
   ]
  },
  {
   "cell_type": "code",
   "execution_count": 21,
   "id": "economic-steel",
   "metadata": {},
   "outputs": [],
   "source": [
    "#\"Link error\" is part of our webscraper. That's designed for any url we could not guess properly. \n",
    "imdb = imdb.drop(imdb[imdb['imdbscore']=='Link error'].index)"
   ]
  },
  {
   "cell_type": "code",
   "execution_count": 22,
   "id": "innocent-bracelet",
   "metadata": {},
   "outputs": [],
   "source": [
    "#Convert from str->number\n",
    "imdb['imdbscore'] = pd.to_numeric(imdb['imdbscore'])"
   ]
  },
  {
   "cell_type": "code",
   "execution_count": 28,
   "id": "serial-intelligence",
   "metadata": {},
   "outputs": [
    {
     "name": "stderr",
     "output_type": "stream",
     "text": [
      "/Users/liamisaacs/opt/anaconda3/lib/python3.8/site-packages/seaborn/distributions.py:2557: FutureWarning: `distplot` is a deprecated function and will be removed in a future version. Please adapt your code to use either `displot` (a figure-level function with similar flexibility) or `histplot` (an axes-level function for histograms).\n",
      "  warnings.warn(msg, FutureWarning)\n"
     ]
    },
    {
     "data": {
      "image/png": "[encoded data removed]",
      "text/plain": [
       "<Figure size 288x144 with 1 Axes>"
      ]
     },
     "metadata": {},
     "output_type": "display_data"
    }
   ],
   "source": [
    "#Plot EDA\n",
    "\n",
    "plt.figure(figsize=(4, 2))\n",
    "sns.set_style(style='white') \n",
    "ax = sns.distplot(imdb['imdbscore'])\n",
    "ax.set_title(\"IMDb Audience Score\", fontsize=13, weight='bold', y=1.1)\n",
    "\n",
    "plt.xlabel('Audience Score (1-10)', fontsize=11)\n",
    "plt.ylabel('Score Count', fontsize=11)\n",
    "plt.plot()\n",
    "\n",
    "#plt.savefig('IMDB.png', dpi=300, bbox_inches='tight')"
   ]
  },
  {
   "cell_type": "markdown",
   "id": "sharp-timothy",
   "metadata": {},
   "source": [
    "---\n",
    "\n",
    "### Metacritic\n",
    "\n",
    "--- "
   ]
  },
  {
   "cell_type": "code",
   "execution_count": 24,
   "id": "preceding-adjustment",
   "metadata": {},
   "outputs": [
    {
     "data": {
      "text/plain": [
       "mojo_title            0\n",
       "mc_criticscore        1\n",
       "mc_criticcount        1\n",
       "mc_audiencescore      1\n",
       "mc_audiencecount    383\n",
       "dtype: int64"
      ]
     },
     "execution_count": 24,
     "metadata": {},
     "output_type": "execute_result"
    }
   ],
   "source": [
    "#Check for null values\n",
    "metacritic.isna().sum()"
   ]
  },
  {
   "cell_type": "code",
   "execution_count": 25,
   "id": "angry-response",
   "metadata": {},
   "outputs": [],
   "source": [
    "#Drop anything our webscraper failed to read\n",
    "drop = ['tbd', 'Link error']\n",
    "metacritic.drop(metacritic.index[metacritic['mc_criticscore'].isin(drop)], inplace = True)"
   ]
  },
  {
   "cell_type": "code",
   "execution_count": 26,
   "id": "double-division",
   "metadata": {},
   "outputs": [],
   "source": [
    "#Convert to number\n",
    "metacritic['mc_criticscore'] = pd.to_numeric(metacritic['mc_criticscore'])"
   ]
  },
  {
   "cell_type": "code",
   "execution_count": 29,
   "id": "convinced-working",
   "metadata": {},
   "outputs": [
    {
     "name": "stderr",
     "output_type": "stream",
     "text": [
      "/Users/liamisaacs/opt/anaconda3/lib/python3.8/site-packages/seaborn/distributions.py:2557: FutureWarning: `distplot` is a deprecated function and will be removed in a future version. Please adapt your code to use either `displot` (a figure-level function with similar flexibility) or `histplot` (an axes-level function for histograms).\n",
      "  warnings.warn(msg, FutureWarning)\n"
     ]
    },
    {
     "data": {
      "image/png": "[encoded data removed]",
      "text/plain": [
       "<Figure size 288x144 with 1 Axes>"
      ]
     },
     "metadata": {},
     "output_type": "display_data"
    }
   ],
   "source": [
    "plt.figure(figsize=(4, 2))\n",
    "sns.set_style(style='white') \n",
    "# plt.scatter(test_set_pred, y_test, alpha=.1,  scatter_kws={\"color\": \"black\"}, line_kws={\"color\": \"red\"})\n",
    "ax = sns.distplot(metacritic['mc_criticscore'])\n",
    "ax.set_title(\"Metacritic Audience Score\", fontsize=13, weight='bold', y=1.1)\n",
    "\n",
    "plt.xlabel('Audience Score (1-10)', fontsize=10)\n",
    "plt.ylabel('Score Count', fontsize=10)\n",
    "plt.plot()\n",
    "\n",
    "#plt.savefig('MC.png', dpi=300, bbox_inches='tight')"
   ]
  },
  {
   "cell_type": "markdown",
   "id": "tamil-discussion",
   "metadata": {},
   "source": [
    "----\n",
    "\n",
    "End of EDA\n",
    "\n",
    "Conclusion: IMDB is the most normally distributed (least skewed) and tends to have a larger amount of ratings, so we will use that as a data source. We cannot combine them, because the data collection methods are not the same."
   ]
  }
 ],
 "metadata": {
  "kernelspec": {
   "display_name": "Python 3",
   "language": "python",
   "name": "python3"
  },
  "language_info": {
   "codemirror_mode": {
    "name": "ipython",
    "version": 3
   },
   "file_extension": ".py",
   "mimetype": "text/x-python",
   "name": "python",
   "nbconvert_exporter": "python",
   "pygments_lexer": "ipython3",
   "version": "3.8.5"
  }
 },
 "nbformat": 4,
 "nbformat_minor": 5
}
